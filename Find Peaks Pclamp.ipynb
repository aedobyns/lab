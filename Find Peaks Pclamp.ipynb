{
 "metadata": {
  "name": "",
  "signature": "sha256:a9fbb8bdfe0576f31984792538276e8768b506dffe130871dd68f2c7dffc20f0"
 },
 "nbformat": 3,
 "nbformat_minor": 0,
 "worksheets": [
  {
   "cells": [
    {
     "cell_type": "markdown",
     "metadata": {},
     "source": [
      "Import required functions."
     ]
    },
    {
     "cell_type": "code",
     "collapsed": false,
     "input": [
      "import numpy as np\n",
      "import scipy\n",
      "from scipy import signal\n",
      "import matplotlib.pyplot as plt"
     ],
     "language": "python",
     "metadata": {},
     "outputs": [],
     "prompt_number": 2
    },
    {
     "cell_type": "markdown",
     "metadata": {},
     "source": [
      "Helpful function to click on graphs. Swell."
     ]
    },
    {
     "cell_type": "code",
     "collapsed": false,
     "input": [
      "from matplotlib import cbook\n",
      "\n",
      "class DataCursor(object):\n",
      "    \"\"\"A simple data cursor widget that displays the x,y location of a\n",
      "    matplotlib artist when it is selected.\"\"\"\n",
      "    def __init__(self, artists, tolerance=5, offsets=(-20, 20), \n",
      "                 template='x: %0.2f\\ny: %0.2f', display_all=False):\n",
      "        \"\"\"Create the data cursor and connect it to the relevant figure.\n",
      "        \"artists\" is the matplotlib artist or sequence of artists that will be \n",
      "            selected. \n",
      "        \"tolerance\" is the radius (in points) that the mouse click must be\n",
      "            within to select the artist.\n",
      "        \"offsets\" is a tuple of (x,y) offsets in points from the selected\n",
      "            point to the displayed annotation box\n",
      "        \"template\" is the format string to be used. Note: For compatibility\n",
      "            with older versions of python, this uses the old-style (%) \n",
      "            formatting specification.\n",
      "        \"display_all\" controls whether more than one annotation box will\n",
      "            be shown if there are multiple axes.  Only one will be shown\n",
      "            per-axis, regardless. \n",
      "        \"\"\"\n",
      "        self.template = template\n",
      "        self.offsets = offsets\n",
      "        self.display_all = display_all\n",
      "        if not cbook.iterable(artists):\n",
      "            artists = [artists]\n",
      "        self.artists = artists\n",
      "        self.axes = tuple(set(art.axes for art in self.artists))\n",
      "        self.figures = tuple(set(ax.figure for ax in self.axes))\n",
      "\n",
      "        self.annotations = {}\n",
      "        for ax in self.axes:\n",
      "            self.annotations[ax] = self.annotate(ax)\n",
      "\n",
      "        for artist in self.artists:\n",
      "            artist.set_picker(tolerance)\n",
      "        for fig in self.figures:\n",
      "            fig.canvas.mpl_connect('pick_event', self)\n",
      "\n",
      "    def annotate(self, ax):\n",
      "        \"\"\"Draws and hides the annotation box for the given axis \"ax\".\"\"\"\n",
      "        annotation = ax.annotate(self.template, xy=(0, 0), ha='right',\n",
      "                xytext=self.offsets, textcoords='offset points', va='bottom',\n",
      "                bbox=dict(boxstyle='round,pad=0.5', fc='yellow', alpha=0.5),\n",
      "                arrowprops=dict(arrowstyle='->', connectionstyle='arc3,rad=0')\n",
      "                )\n",
      "        annotation.set_visible(False)\n",
      "        return annotation\n",
      "\n",
      "    def __call__(self, event):\n",
      "        \"\"\"Intended to be called through \"mpl_connect\".\"\"\"\n",
      "        # Rather than trying to interpolate, just display the clicked coords\n",
      "        # This will only be called if it's within \"tolerance\", anyway.\n",
      "        x, y = event.mouseevent.xdata, event.mouseevent.ydata\n",
      "        annotation = self.annotations[event.artist.axes]\n",
      "        if x is not None:\n",
      "            if not self.display_all:\n",
      "                # Hide any other annotation boxes...\n",
      "                for ann in self.annotations.values():\n",
      "                    ann.set_visible(False)\n",
      "            # Update the annotation in the current axis..\n",
      "            annotation.xy = x, y\n",
      "            annotation.set_text(self.template % (x, y))\n",
      "            annotation.set_visible(True)\n",
      "            event.canvas.draw()\n",
      "\n",
      "#if __name__ == '__main__':\n",
      "    #import matplotlib.pyplot as plt\n",
      "    #plt.figure()\n",
      "    #plt.subplot(2,1,1)\n",
      "    #line1, = plt.plot(range(10), 'ro-')\n",
      "    #plt.subplot(2,1,2)\n",
      "    #line2, = plt.plot(range(10), 'bo-')\n",
      "\n",
      "    #DataCursor([line1, line2])"
     ],
     "language": "python",
     "metadata": {},
     "outputs": [],
     "prompt_number": 3
    },
    {
     "cell_type": "markdown",
     "metadata": {},
     "source": [
      "Filtering option"
     ]
    },
    {
     "cell_type": "code",
     "collapsed": false,
     "input": [
      "def savitzky_golay(y, window_size, order, deriv=0, rate=1):\n",
      "    r\"\"\"Smooth (and optionally differentiate) data with a Savitzky-Golay filter.\n",
      "    The Savitzky-Golay filter removes high frequency noise from data.\n",
      "    It has the advantage of preserving the original shape and\n",
      "    features of the signal better than other types of filtering\n",
      "    approaches, such as moving averages techniques.\n",
      "    Parameters\n",
      "    ----------\n",
      "    y : array_like, shape (N,)\n",
      "        the values of the time history of the signal.\n",
      "    window_size : int\n",
      "        the length of the window. Must be an odd integer number.\n",
      "    order : int\n",
      "        the order of the polynomial used in the filtering.\n",
      "        Must be less then `window_size` - 1.\n",
      "    deriv: int\n",
      "        the order of the derivative to compute (default = 0 means only smoothing)\n",
      "    Returns\n",
      "    -------\n",
      "    ys : ndarray, shape (N)\n",
      "        the smoothed signal (or it's n-th derivative).\n",
      "    Notes\n",
      "    -----\n",
      "    The Savitzky-Golay is a type of low-pass filter, particularly\n",
      "    suited for smoothing noisy data. The main idea behind this\n",
      "    approach is to make for each point a least-square fit with a\n",
      "    polynomial of high order over a odd-sized window centered at\n",
      "    the point.\n",
      "    Examples\n",
      "    --------\n",
      "    t = np.linspace(-4, 4, 500)\n",
      "    y = np.exp( -t**2 ) + np.random.normal(0, 0.05, t.shape)\n",
      "    ysg = savitzky_golay(y, window_size=31, order=4)\n",
      "    import matplotlib.pyplot as plt\n",
      "    plt.plot(t, y, label='Noisy signal')\n",
      "    plt.plot(t, np.exp(-t**2), 'k', lw=1.5, label='Original signal')\n",
      "    plt.plot(t, ysg, 'r', label='Filtered signal')\n",
      "    plt.legend()\n",
      "    plt.show()\n",
      "    References\n",
      "    ----------\n",
      "    .. [1] A. Savitzky, M. J. E. Golay, Smoothing and Differentiation of\n",
      "       Data by Simplified Least Squares Procedures. Analytical\n",
      "       Chemistry, 1964, 36 (8), pp 1627-1639.\n",
      "    .. [2] Numerical Recipes 3rd Edition: The Art of Scientific Computing\n",
      "       W.H. Press, S.A. Teukolsky, W.T. Vetterling, B.P. Flannery\n",
      "       Cambridge University Press ISBN-13: 9780521880688\n",
      "    \"\"\"\n",
      "    import numpy as np\n",
      "    from math import factorial\n",
      "\n",
      "    try:\n",
      "        window_size = np.abs(np.int(window_size))\n",
      "        order = np.abs(np.int(order))\n",
      "    except ValueError, msg:\n",
      "        raise ValueError(\"window_size and order have to be of type int\")\n",
      "    if window_size % 2 != 1 or window_size < 1:\n",
      "        raise TypeError(\"window_size size must be a positive odd number\")\n",
      "    if window_size < order + 2:\n",
      "        raise TypeError(\"window_size is too small for the polynomials order\")\n",
      "    order_range = range(order+1)\n",
      "    half_window = (window_size -1) // 2\n",
      "    # precompute coefficients\n",
      "    b = np.mat([[k**i for i in order_range] for k in range(-half_window, half_window+1)])\n",
      "    m = np.linalg.pinv(b).A[deriv] * rate**deriv * factorial(deriv)\n",
      "    # pad the signal at the extremes with\n",
      "    # values taken from the signal itself\n",
      "    firstvals = y[0] - np.abs( y[1:half_window+1][::-1] - y[0] )\n",
      "    lastvals = y[-1] + np.abs(y[-half_window-1:-1][::-1] - y[-1])\n",
      "    y = np.concatenate((firstvals, y, lastvals))\n",
      "    return np.convolve( m[::-1], y, mode='valid')"
     ],
     "language": "python",
     "metadata": {},
     "outputs": [],
     "prompt_number": 4
    },
    {
     "cell_type": "code",
     "collapsed": false,
     "input": [
      "time, data = np.loadtxt(\"/Users/abigaildobyns/Dropbox/Wilson_lab_papers/Abby/data/spikes-Pclamp.txt\", usecols=(0,1),  unpack=True)"
     ],
     "language": "python",
     "metadata": {},
     "outputs": [],
     "prompt_number": 5
    },
    {
     "cell_type": "code",
     "collapsed": false,
     "input": [
      "arb = []\n",
      "x = 0\n",
      "for y in data:\n",
      "    x = (x+1)\n",
      "    arb.append(x)"
     ],
     "language": "python",
     "metadata": {},
     "outputs": [],
     "prompt_number": 6
    },
    {
     "cell_type": "code",
     "collapsed": false,
     "input": [
      "data_trans = abs(data)\n",
      "data_trans =savitzky_golay(data_trans, 15, 4)\n",
      "len(data_trans)"
     ],
     "language": "python",
     "metadata": {},
     "outputs": [
      {
       "metadata": {},
       "output_type": "pyout",
       "prompt_number": 10,
       "text": [
        "596"
       ]
      }
     ],
     "prompt_number": 10
    },
    {
     "cell_type": "code",
     "collapsed": false,
     "input": [
      "fig = plt.plot(arb,data_trans)\n",
      "DataCursor(fig)\n",
      "plt.show(fig)"
     ],
     "language": "python",
     "metadata": {},
     "outputs": [],
     "prompt_number": 12
    },
    {
     "cell_type": "code",
     "collapsed": false,
     "input": [],
     "language": "python",
     "metadata": {},
     "outputs": [],
     "prompt_number": 12
    },
    {
     "cell_type": "code",
     "collapsed": false,
     "input": [],
     "language": "python",
     "metadata": {},
     "outputs": []
    }
   ],
   "metadata": {}
  }
 ]
}