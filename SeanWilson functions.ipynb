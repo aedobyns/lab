{
 "metadata": {
  "name": "",
  "signature": "sha256:ca91e25c4d9122d954a5ae1e990c5b3c66c29aa9accd3780dcd64f355948c322"
 },
 "nbformat": 3,
 "nbformat_minor": 0,
 "worksheets": [
  {
   "cells": [
    {
     "cell_type": "heading",
     "level": 1,
     "metadata": {},
     "source": [
      "Welcome to the AIM Core's ROI analysis notebook"
     ]
    },
    {
     "cell_type": "markdown",
     "metadata": {},
     "source": [
      "Use shift + enter to run a code block or move to the next text block.\n",
      "\n",
      "Run the next two blocks of code."
     ]
    },
    {
     "cell_type": "code",
     "collapsed": false,
     "input": [
      "import numpy as np\n",
      "import scipy\n",
      "from scipy import spatial\n",
      "import pandas as pd\n",
      "import matplotlib.pyplot as plt\n",
      "from pandas import Series, DataFrame\n",
      "import time as t\n",
      "from PIL import Image\n",
      "import sys\n",
      "import os, errno"
     ],
     "language": "python",
     "metadata": {},
     "outputs": [],
     "prompt_number": 12
    },
    {
     "cell_type": "code",
     "collapsed": false,
     "input": [
      "def mkdir_p(path):\n",
      "    try:\n",
      "        os.makedirs(path)\n",
      "    except OSError as exc: # Python >2.5\n",
      "        if exc.errno == errno.EEXIST and os.path.isdir(path):\n",
      "            pass\n",
      "        else: raise\n",
      "\n",
      "def load_RAAIM(folder):\n",
      "    data = pd.read_csv(r'%s/ROI normalized.txt' %(folder), index_col= 'time(s)', sep='\\t')\n",
      "    print \"Loaded 'ROI normalized.txt'\"\n",
      "    \n",
      "    roi_param = pd.read_csv(r'%s/Parameter List_edit.txt' %(folder), index_col='ROI', sep='\\t')\n",
      "    print \"Loaded 'Parameter List_edit.txt'\"\n",
      "    \n",
      "    im = Image.open(r'%s/rbg.png' %(folder)) #MUST BE RBG\n",
      "    print \"Loaded 'rbg.png'\"\n",
      "    \n",
      "    del data['Unnamed: 0'] #lc_pro outputs a weird blank column named this everytime. I don't know why, but it does. this line deletes it safely.\n",
      "    roi_loc, roi_x, roi_y, data = lcpro_param_parse(roi_param, data , original=True)\n",
      "    print \"Configured Data\"\n",
      "    \n",
      "    path = folder +\"/plots\"\n",
      "    mkdir_p(path)\n",
      "    print \"Made plots folder\"\n",
      "    \n",
      "    return data, roi_param, im, roi_loc, roi_x, roi_y\n",
      "    \n",
      "def lcpro_param_parse(roi_param, data , original = True):\n",
      "    '''\n",
      "    This function takes the Dataframe created by opening the 'Parameter List.txt' from LC_Pro. \n",
      "    '''\n",
      "    roi_loc = roi_param[['X', 'Y']]\n",
      "    roi_loc.drop_duplicates(inplace= True)\n",
      "    roi_x = roi_loc['X'].tolist()\n",
      "    roi_y = roi_loc['Y'].tolist()\n",
      "    new_index = []\n",
      "    for i in np.arange(len(roi_loc.index)):\n",
      "        new_index.append('Roi'+str(roi_loc.index[i]))\n",
      "    roi_loc = DataFrame({'x':roi_x, 'y':roi_y}, index= new_index)\n",
      "    \n",
      "    if len(data.columns) != len(new_index) and original == True:\n",
      "        sys.exit(\"The number of ROIs in the data file is not equal to the number of ROIs in the parameter file. That doesn't seem right, so I quit the function for you. Make sure you are loading the correct files, please.\")\n",
      "    \n",
      "    if original == False:\n",
      "        data = data[roi_loc.index]\n",
      "    \n",
      "    truth = (data.columns == roi_loc.index).tolist()\n",
      "    \n",
      "    if truth.count(True) != len(data.columns):\n",
      "        sys.exit(\"The names on data and roi_loc are not identical. This will surely break everything later, so I shut down the program. Try loading these files again.\")\n",
      "    \n",
      "    return roi_loc, roi_x, roi_y, data\n",
      "\n",
      "def cross_correlation(data, r):\n",
      "    '''\n",
      "    This function calculated the cross correlation between each ROI pair and returns a dataframe with NxN+1  values.\n",
      "    it also includes a column that contains the number of friends each ROI has.\n",
      "    lastly, it creates a dictionary where the keys are the roi names and names of each roi's friends are stored as a list. by defalut, each roi is at least friends with itself.\n",
      "    this file can be saved out as a CSV later.\n",
      "    '''\n",
      "    \n",
      "    data_corr = data.corr()\n",
      "    ls = (data_corr[data_corr>r].count()-1)\n",
      "    data_corr['Number of Friends'] = ls\n",
      "    cols = data_corr.columns.tolist()\n",
      "    cols = cols[-1:] + cols[:-1]\n",
      "    data_corr = data_corr[cols]\n",
      "    \n",
      "    friend_names = {}\n",
      "    temp_cor = data.corr()\n",
      "    for label, column in temp_cor.iteritems():\n",
      "        friend_names[label] = column[column>r].index.tolist()\n",
      "    \n",
      "    return data_corr, friend_names\n",
      "\n",
      "def distance_matrix(roi_x, roi_y , roi_loc , d):\n",
      "    '''\n",
      "    This function calculates the euclidean distance between each ROI pair. It returns a dataframe with these distances.\n",
      "    it also includes a column that contains the number of neighbors each ROI has.\n",
      "    the files can be saved out as a CSV later.\n",
      "    It also returns the list of the (x,y) tuple for each roi.\n",
      "    '''\n",
      "    loc_tup = []\n",
      "    for i in np.arange(len(roi_x)):\n",
      "        loc_tup.append((roi_x[i], roi_y[i]))\n",
      "    \n",
      "    roi_dist = DataFrame(data = (scipy.spatial.distance.cdist(loc_tup, loc_tup, 'euclidean')), index = roi_loc.index, columns= roi_loc.index)\n",
      "    roi_dist_f = roi_dist\n",
      "    \n",
      "    ls = (roi_dist[roi_dist<=d].count())\n",
      "    roi_dist_f['Number of Neighbors'] = ls\n",
      "    cols = roi_dist_f.columns.tolist()\n",
      "    cols = cols[-1:] + cols[:-1]\n",
      "    roi_dist_f = roi_dist_f[cols]\n",
      "    \n",
      "    neighbor_names = {}\n",
      "    for label, column in roi_dist.iteritems():\n",
      "        neighbor_names[label] = column[column<=d].index.tolist()\n",
      "    \n",
      "    return roi_dist_f, loc_tup, neighbor_names\n",
      "\n",
      "def friend_dist(data_corr, roi_dist, r):\n",
      "    '''\n",
      "    calculates distance information about each roi's friends.\n",
      "    returns a dataframe with Distance Sum, number of friends, and Rel distance. rel distance = distance sum/number of fiends\n",
      "    '''\n",
      "    roi_friend_dist = DataFrame(index = data_corr.index)\n",
      "    roi_friend_dist['Distance sum'] = (roi_dist[data_corr>r].sum())\n",
      "    roi_friend_dist['Number of Friends'] = (data_corr[data_corr>r].count()-1)\n",
      "    roi_friend_dist['Rel Dist'] = roi_friend_dist['Distance sum']/roi_friend_dist['Number of Friends']\n",
      "    return roi_friend_dist\n",
      "\n",
      "def onpick(event):\n",
      "    '''\n",
      "    allows us to click on an roi and print in the notebook it's name.\n",
      "    '''\n",
      "    ind = event.ind\n",
      "    ind = ind[0]\n",
      "    print('Roi selected =', roi_loc.index[ind])\n",
      "    \n",
      "def all_roi_2d(roi_loc , im , s=6):\n",
      "    '''\n",
      "    makes a scatter plot of each roi overlayed on an uploaded image. when you click on an roi, it prints the name of the roi\n",
      "    for some reason, it takes two clicks to start printing. Not sure why\n",
      "    '''\n",
      "    fig, ax = plt.subplots()\n",
      "    col = ax.scatter(roi_loc.x, roi_loc.y, s=s, edgecolor = 'k', linewidth ='1',color = 'y', marker =\"o\", alpha = 0.75, picker = True)\n",
      "    fig.canvas.mpl_connect('pick_event', onpick)\n",
      "\n",
      "    width, height = im.size\n",
      "    plt.xlim(xmin=0, xmax=width)\n",
      "    plt.ylim(ymin = 0, ymax = height)\n",
      "    plt.title('All LC_Pro ROIs')\n",
      "    plt.imshow(im)\n",
      "    plt.show()\n",
      "    \n",
      "def friend_roi_2d(roi, just_friends, data_corr , friend_names, roi_loc, r, s = 6):\n",
      "    temp_series_list = data_corr[roi].tolist()\n",
      "    temp_series = data_corr[roi]\n",
      "    temp_ls = temp_series[friend_names[roi]]\n",
      "\n",
      "    plt.figure()\n",
      "    if just_friends == False:\n",
      "        plt.scatter(roi_loc.x, roi_loc.y, s = s, label = 'other objects', edgecolor = 'k', linewidth ='1',c= temp_series_list,cmap=plt.cm.spectral , marker =\"o\", alpha = 1)\n",
      "        plt.colorbar()\n",
      "        plt.clim(-1,1)\n",
      "\n",
      "    if just_friends == True:    \n",
      "        plt.scatter(roi_loc.x, roi_loc.y, s = s, label = 'other objects', edgecolor = 'k', linewidth ='1',color= 'w' , marker =\"o\", alpha = 0.25)\n",
      "        plt.scatter(roi_loc.x[friend_names[roi]], roi_loc.y[friend_names[roi]], label = 'Friends', s=s, edgecolor = 'k', linewidth ='1',c =temp_ls, cmap=plt.cm.spectral , marker =\"o\", alpha = 1)\n",
      "        plt.colorbar()\n",
      "        plt.clim(r,1)\n",
      "\n",
      "    plt.scatter(roi_loc.x[roi], roi_loc.y[roi], label = roi, s=(s+25), edgecolor = 'k', marker =\"o\", alpha = 1, color = 'w')\n",
      "\n",
      "    width, height = im.size\n",
      "    plt.xlim(xmin=0, xmax=width)\n",
      "    plt.ylim(ymin = 0, ymax = height)\n",
      "    plt.title(roi)\n",
      "    plt.imshow(im)\n",
      "    #plt.legend(loc = 'center left')\n",
      "\n",
      "    plt.show()\n",
      "    \n",
      "def all_roi_line_pdfs(dataframe, num_rois, ymin, ymax , folder):\n",
      "    \n",
      "    for r in np.arange(num_rois):\n",
      "        \n",
      "        plt.figure()\n",
      "        plt.xlabel('Time (s)')\n",
      "        plt.ylabel('Intensity')\n",
      "        plt.title(dataframe.columns[r])\n",
      "        plt.ylim(ymin = ymin, ymax = ymax)\n",
      "        plt.xlim(xmin= dataframe.index[0], xmax = dataframe.index[-1])\n",
      "        plt.plot(dataframe.index, dataframe.ix[:,r], color = [np.random.random(), np.random.random(), np.random.random()])\n",
      "\n",
      "        \n",
      "        plt.savefig(r'%s/plots/%s_%s.pdf' %(folder, name, dataframe.columns[r]))\n",
      "        plt.close()\n",
      "        \n",
      "def friend_roi_line(roi, data, friend_names):\n",
      "    plt.figure()\n",
      "    plt.plot(data.index, data[friend_names[roi]], color = '#FF6600')\n",
      "    plt.plot(data.index, data[roi], color = 'k',)\n",
      "    plt.ylim(ymin = 0, ymax = max(data.max()))\n",
      "    plt.title(roi)\n",
      "\n",
      "    plt.show()\n",
      "    \n",
      "def friend_roi_line_average(roi, data, friend_names):\n",
      "    roi_average = data[friend_names[roi]].mean(1)\n",
      "    roi_std = data[friend_names[roi]].std(1)\n",
      "    print \"the average of the std of each point is\", round(np.mean(roi_std),4), \"for\", roi, \"and its friends.\"\n",
      "\n",
      "    plt.figure()\n",
      "    plt.plot(data[friend_names[roi]].mean(1))\n",
      "    plt.ylim(ymin = 0, ymax = max(data.max()))\n",
      "    plt.title('Average of '+roi+' and its friends')\n",
      "    plt.show()"
     ],
     "language": "python",
     "metadata": {},
     "outputs": [],
     "prompt_number": 15
    },
    {
     "cell_type": "heading",
     "level": 1,
     "metadata": {},
     "source": [
      "Begin User Input"
     ]
    },
    {
     "cell_type": "markdown",
     "metadata": {},
     "source": [
      "This whole notebook is especially formated for LC_pro outputs. This means that the load functions and wrappers expect that certain columns are in exactly the right locations and labels are formatted a certain way. This author does not expect other types of files to be handled properly (as in: will probably fail). "
     ]
    },
    {
     "cell_type": "heading",
     "level": 2,
     "metadata": {},
     "source": [
      "An Important note about saving!"
     ]
    },
    {
     "cell_type": "markdown",
     "metadata": {},
     "source": [
      "This notebook is brutal and will mercilessly **save over exsisting files of the same name without warning!**\n",
      "\n",
      "You can manually change the name of the saved file one way: \n",
      "\n",
      "Change part of the text portion of the VARIBLE.to_csv(r'%s/**OBJECT**.csv' %(folder)). you can change **OBJECT** to whatever you want. go nuts. \n",
      "\n",
      "Remember, only you can keep all your files organized and named properly. I'm just here to help. Use a naming convention that is simple and easy to understand/remember. You can totally move ALL of these files to anywhere once you've run this analysis. It won't break stuff."
     ]
    },
    {
     "cell_type": "heading",
     "level": 2,
     "metadata": {},
     "source": [
      "Declare Your Folder"
     ]
    },
    {
     "cell_type": "markdown",
     "metadata": {},
     "source": [
      "Change the following string below to the location of the folder where your data is. You will also save all of your data in this folder. Must be full path name and not end in a /.\n",
      "\n",
      "**Example:**\n",
      "\n",
      "\"/Users/abigaildobyns/Desktop/RAAIM\""
     ]
    },
    {
     "cell_type": "code",
     "collapsed": false,
     "input": [
      "folder = \"/Users/abigaildobyns/Desktop/RAAIM\""
     ],
     "language": "python",
     "metadata": {},
     "outputs": [],
     "prompt_number": 7
    },
    {
     "cell_type": "heading",
     "level": 2,
     "metadata": {},
     "source": [
      "Load"
     ]
    },
    {
     "cell_type": "markdown",
     "metadata": {},
     "source": [
      "Use the following block below to load your data. There should be three files in this folder:\n",
      "\n",
      "1. 'ROI normalized.txt'\n",
      "\n",
      "2. 'Parameter List_edit.txt'\n",
      "\n",
      "3. 'rbg.png'\n",
      "\n",
      "There should be no headers (other than column names) in the text files. the text files can be either .txt or .csv. if you have problems loading them, make sure that the data is not corrupted, it is in the correct file type, the delimiter is correct, and the file path is correct. \n",
      "\n",
      "the image still can be just a random frame or the averaged or compressed stack. it must be convered to RGB and saved as .png.\n",
      "\n",
      "if you get a *SettingWithCopyWarning*,  **Don't worry, that's normal**. I know that you are setting with a copy. It's on purpose"
     ]
    },
    {
     "cell_type": "code",
     "collapsed": false,
     "input": [
      "data, roi_param, im, roi_loc, roi_x, roi_y = load_RAAIM(folder)"
     ],
     "language": "python",
     "metadata": {},
     "outputs": [
      {
       "output_type": "stream",
       "stream": "stdout",
       "text": [
        "Loaded 'ROI normalized.txt'\n",
        "Loaded 'Parameter List_edit.txt'\n",
        "Loaded 'rbg.png'\n",
        "Configured Data\n",
        "Made plots folder\n"
       ]
      }
     ],
     "prompt_number": 20
    },
    {
     "cell_type": "heading",
     "level": 6,
     "metadata": {},
     "source": [
      "Use the two cells below to check that the data and roi_loc dataframes look as expected."
     ]
    },
    {
     "cell_type": "code",
     "collapsed": false,
     "input": [
      "data.head()"
     ],
     "language": "python",
     "metadata": {},
     "outputs": [
      {
       "html": [
        "<div style=\"max-height:1000px;max-width:1500px;overflow:auto;\">\n",
        "<table border=\"1\" class=\"dataframe\">\n",
        "  <thead>\n",
        "    <tr style=\"text-align: right;\">\n",
        "      <th></th>\n",
        "      <th>Roi1</th>\n",
        "      <th>Roi2</th>\n",
        "      <th>Roi3</th>\n",
        "      <th>Roi5</th>\n",
        "      <th>Roi10</th>\n",
        "      <th>Roi11</th>\n",
        "      <th>Roi13</th>\n",
        "      <th>Roi15</th>\n",
        "      <th>Roi17</th>\n",
        "      <th>Roi24</th>\n",
        "      <th>Roi25</th>\n",
        "      <th>Roi30</th>\n",
        "      <th>Roi33</th>\n",
        "      <th>Roi35</th>\n",
        "      <th>Roi37</th>\n",
        "      <th>Roi38</th>\n",
        "      <th>Roi39</th>\n",
        "      <th>Roi40</th>\n",
        "      <th>Roi43</th>\n",
        "      <th>Roi46</th>\n",
        "      <th></th>\n",
        "    </tr>\n",
        "    <tr>\n",
        "      <th>time(s)</th>\n",
        "      <th></th>\n",
        "      <th></th>\n",
        "      <th></th>\n",
        "      <th></th>\n",
        "      <th></th>\n",
        "      <th></th>\n",
        "      <th></th>\n",
        "      <th></th>\n",
        "      <th></th>\n",
        "      <th></th>\n",
        "      <th></th>\n",
        "      <th></th>\n",
        "      <th></th>\n",
        "      <th></th>\n",
        "      <th></th>\n",
        "      <th></th>\n",
        "      <th></th>\n",
        "      <th></th>\n",
        "      <th></th>\n",
        "      <th></th>\n",
        "    </tr>\n",
        "  </thead>\n",
        "  <tbody>\n",
        "    <tr>\n",
        "      <th>0.78125</th>\n",
        "      <td> 0.565262</td>\n",
        "      <td> 0.863462</td>\n",
        "      <td> 0.571388</td>\n",
        "      <td> 0.717863</td>\n",
        "      <td> 0.574959</td>\n",
        "      <td> 0.680021</td>\n",
        "      <td> 0.705563</td>\n",
        "      <td> 0.629710</td>\n",
        "      <td> 0.602808</td>\n",
        "      <td> 0.787278</td>\n",
        "      <td> 0.661451</td>\n",
        "      <td> 0.688089</td>\n",
        "      <td> 2.235914</td>\n",
        "      <td> 0.800091</td>\n",
        "      <td> 0.412870</td>\n",
        "      <td> 0.674845</td>\n",
        "      <td> 0.725696</td>\n",
        "      <td> 0.840495</td>\n",
        "      <td> 2.043779</td>\n",
        "      <td> 0.606147</td>\n",
        "      <td>...</td>\n",
        "    </tr>\n",
        "    <tr>\n",
        "      <th>1.56250</th>\n",
        "      <td> 0.602445</td>\n",
        "      <td> 0.836739</td>\n",
        "      <td> 0.624341</td>\n",
        "      <td> 0.662643</td>\n",
        "      <td> 0.682303</td>\n",
        "      <td> 0.665164</td>\n",
        "      <td> 0.723313</td>\n",
        "      <td> 0.688731</td>\n",
        "      <td> 0.596849</td>\n",
        "      <td> 0.755847</td>\n",
        "      <td> 0.565880</td>\n",
        "      <td> 0.660313</td>\n",
        "      <td> 2.157290</td>\n",
        "      <td> 0.734205</td>\n",
        "      <td> 0.466890</td>\n",
        "      <td> 0.760315</td>\n",
        "      <td> 0.751104</td>\n",
        "      <td> 0.829964</td>\n",
        "      <td> 1.941782</td>\n",
        "      <td> 0.568681</td>\n",
        "      <td>...</td>\n",
        "    </tr>\n",
        "    <tr>\n",
        "      <th>2.34375</th>\n",
        "      <td> 0.642514</td>\n",
        "      <td> 0.828402</td>\n",
        "      <td> 0.712630</td>\n",
        "      <td> 0.660536</td>\n",
        "      <td> 0.645207</td>\n",
        "      <td> 0.644308</td>\n",
        "      <td> 0.741063</td>\n",
        "      <td> 0.635091</td>\n",
        "      <td> 0.645781</td>\n",
        "      <td> 0.617356</td>\n",
        "      <td> 0.558133</td>\n",
        "      <td> 0.618639</td>\n",
        "      <td> 2.012307</td>\n",
        "      <td> 0.790509</td>\n",
        "      <td> 0.381540</td>\n",
        "      <td> 0.744188</td>\n",
        "      <td> 0.705065</td>\n",
        "      <td> 0.796740</td>\n",
        "      <td> 1.837106</td>\n",
        "      <td> 0.579385</td>\n",
        "      <td>...</td>\n",
        "    </tr>\n",
        "    <tr>\n",
        "      <th>3.12500</th>\n",
        "      <td> 0.601026</td>\n",
        "      <td> 0.860148</td>\n",
        "      <td> 0.768818</td>\n",
        "      <td> 0.623360</td>\n",
        "      <td> 0.608112</td>\n",
        "      <td> 0.669593</td>\n",
        "      <td> 0.766587</td>\n",
        "      <td> 0.654784</td>\n",
        "      <td> 0.583709</td>\n",
        "      <td> 0.813902</td>\n",
        "      <td> 0.522707</td>\n",
        "      <td> 0.715887</td>\n",
        "      <td> 2.105633</td>\n",
        "      <td> 0.727038</td>\n",
        "      <td> 0.421567</td>\n",
        "      <td> 0.709517</td>\n",
        "      <td> 0.671730</td>\n",
        "      <td> 0.819434</td>\n",
        "      <td> 2.038587</td>\n",
        "      <td> 0.531214</td>\n",
        "      <td>...</td>\n",
        "    </tr>\n",
        "    <tr>\n",
        "      <th>3.90625</th>\n",
        "      <td> 0.592463</td>\n",
        "      <td> 0.821721</td>\n",
        "      <td> 0.670874</td>\n",
        "      <td> 0.674333</td>\n",
        "      <td> 0.572331</td>\n",
        "      <td> 0.651784</td>\n",
        "      <td> 0.725549</td>\n",
        "      <td> 0.633259</td>\n",
        "      <td> 0.626682</td>\n",
        "      <td> 0.728677</td>\n",
        "      <td> 0.522707</td>\n",
        "      <td> 0.623014</td>\n",
        "      <td> 2.029447</td>\n",
        "      <td> 0.753369</td>\n",
        "      <td> 0.374571</td>\n",
        "      <td> 0.707060</td>\n",
        "      <td> 0.749529</td>\n",
        "      <td> 0.792668</td>\n",
        "      <td> 2.093521</td>\n",
        "      <td> 0.552623</td>\n",
        "      <td>...</td>\n",
        "    </tr>\n",
        "  </tbody>\n",
        "</table>\n",
        "<p>5 rows \u00d7 823 columns</p>\n",
        "</div>"
       ],
       "metadata": {},
       "output_type": "pyout",
       "prompt_number": 17,
       "text": [
        "             Roi1      Roi2      Roi3      Roi5     Roi10     Roi11     Roi13  \\\n",
        "time(s)                                                                         \n",
        "0.78125  0.565262  0.863462  0.571388  0.717863  0.574959  0.680021  0.705563   \n",
        "1.56250  0.602445  0.836739  0.624341  0.662643  0.682303  0.665164  0.723313   \n",
        "2.34375  0.642514  0.828402  0.712630  0.660536  0.645207  0.644308  0.741063   \n",
        "3.12500  0.601026  0.860148  0.768818  0.623360  0.608112  0.669593  0.766587   \n",
        "3.90625  0.592463  0.821721  0.670874  0.674333  0.572331  0.651784  0.725549   \n",
        "\n",
        "            Roi15     Roi17     Roi24     Roi25     Roi30     Roi33     Roi35  \\\n",
        "time(s)                                                                         \n",
        "0.78125  0.629710  0.602808  0.787278  0.661451  0.688089  2.235914  0.800091   \n",
        "1.56250  0.688731  0.596849  0.755847  0.565880  0.660313  2.157290  0.734205   \n",
        "2.34375  0.635091  0.645781  0.617356  0.558133  0.618639  2.012307  0.790509   \n",
        "3.12500  0.654784  0.583709  0.813902  0.522707  0.715887  2.105633  0.727038   \n",
        "3.90625  0.633259  0.626682  0.728677  0.522707  0.623014  2.029447  0.753369   \n",
        "\n",
        "            Roi37     Roi38     Roi39     Roi40     Roi43     Roi46      \n",
        "time(s)                                                                  \n",
        "0.78125  0.412870  0.674845  0.725696  0.840495  2.043779  0.606147 ...  \n",
        "1.56250  0.466890  0.760315  0.751104  0.829964  1.941782  0.568681 ...  \n",
        "2.34375  0.381540  0.744188  0.705065  0.796740  1.837106  0.579385 ...  \n",
        "3.12500  0.421567  0.709517  0.671730  0.819434  2.038587  0.531214 ...  \n",
        "3.90625  0.374571  0.707060  0.749529  0.792668  2.093521  0.552623 ...  \n",
        "\n",
        "[5 rows x 823 columns]"
       ]
      }
     ],
     "prompt_number": 17
    },
    {
     "cell_type": "code",
     "collapsed": false,
     "input": [
      "roi_loc.head()"
     ],
     "language": "python",
     "metadata": {},
     "outputs": [
      {
       "html": [
        "<div style=\"max-height:1000px;max-width:1500px;overflow:auto;\">\n",
        "<table border=\"1\" class=\"dataframe\">\n",
        "  <thead>\n",
        "    <tr style=\"text-align: right;\">\n",
        "      <th></th>\n",
        "      <th>x</th>\n",
        "      <th>y</th>\n",
        "    </tr>\n",
        "  </thead>\n",
        "  <tbody>\n",
        "    <tr>\n",
        "      <th>Roi1</th>\n",
        "      <td> 219</td>\n",
        "      <td>  5</td>\n",
        "    </tr>\n",
        "    <tr>\n",
        "      <th>Roi2</th>\n",
        "      <td> 434</td>\n",
        "      <td> 17</td>\n",
        "    </tr>\n",
        "    <tr>\n",
        "      <th>Roi3</th>\n",
        "      <td> 378</td>\n",
        "      <td>  8</td>\n",
        "    </tr>\n",
        "    <tr>\n",
        "      <th>Roi5</th>\n",
        "      <td>  10</td>\n",
        "      <td> 27</td>\n",
        "    </tr>\n",
        "    <tr>\n",
        "      <th>Roi10</th>\n",
        "      <td>  95</td>\n",
        "      <td> 59</td>\n",
        "    </tr>\n",
        "  </tbody>\n",
        "</table>\n",
        "<p>5 rows \u00d7 2 columns</p>\n",
        "</div>"
       ],
       "metadata": {},
       "output_type": "pyout",
       "prompt_number": 18,
       "text": [
        "         x   y\n",
        "Roi1   219   5\n",
        "Roi2   434  17\n",
        "Roi3   378   8\n",
        "Roi5    10  27\n",
        "Roi10   95  59\n",
        "\n",
        "[5 rows x 2 columns]"
       ]
      }
     ],
     "prompt_number": 18
    },
    {
     "cell_type": "heading",
     "level": 2,
     "metadata": {},
     "source": [
      "Cross Correlation Matrix (friends)"
     ]
    },
    {
     "cell_type": "markdown",
     "metadata": {},
     "source": [
      "Set your r value to your threshold for significant cross correlation. This value will be used is all later calculation. If you change it, you must rerun ALL cells following to update the change."
     ]
    },
    {
     "cell_type": "code",
     "collapsed": false,
     "input": [
      "r = 0.8 #set r value, must be -1<= r <=1"
     ],
     "language": "python",
     "metadata": {},
     "outputs": [],
     "prompt_number": 195
    },
    {
     "cell_type": "code",
     "collapsed": false,
     "input": [
      "data_corr, friend_names = cross_correlation()\n",
      "data_corr.head()"
     ],
     "language": "python",
     "metadata": {},
     "outputs": [
      {
       "html": [
        "<div style=\"max-height:1000px;max-width:1500px;overflow:auto;\">\n",
        "<table border=\"1\" class=\"dataframe\">\n",
        "  <thead>\n",
        "    <tr style=\"text-align: right;\">\n",
        "      <th></th>\n",
        "      <th>Number of Friends</th>\n",
        "      <th>Roi1</th>\n",
        "      <th>Roi2</th>\n",
        "      <th>Roi3</th>\n",
        "      <th>Roi5</th>\n",
        "      <th>Roi10</th>\n",
        "      <th>Roi11</th>\n",
        "      <th>Roi13</th>\n",
        "      <th>Roi15</th>\n",
        "      <th>Roi17</th>\n",
        "      <th>Roi24</th>\n",
        "      <th>Roi25</th>\n",
        "      <th>Roi30</th>\n",
        "      <th>Roi33</th>\n",
        "      <th>Roi35</th>\n",
        "      <th>Roi37</th>\n",
        "      <th>Roi38</th>\n",
        "      <th>Roi39</th>\n",
        "      <th>Roi40</th>\n",
        "      <th>Roi43</th>\n",
        "      <th></th>\n",
        "    </tr>\n",
        "  </thead>\n",
        "  <tbody>\n",
        "    <tr>\n",
        "      <th>Roi1</th>\n",
        "      <td>  12</td>\n",
        "      <td> 1.000000</td>\n",
        "      <td> 0.505825</td>\n",
        "      <td> 0.388972</td>\n",
        "      <td> 0.145289</td>\n",
        "      <td> 0.683954</td>\n",
        "      <td> 0.789060</td>\n",
        "      <td> 0.563936</td>\n",
        "      <td> 0.482522</td>\n",
        "      <td> 0.371654</td>\n",
        "      <td> 0.190968</td>\n",
        "      <td> 0.678296</td>\n",
        "      <td> 0.183322</td>\n",
        "      <td>-0.180208</td>\n",
        "      <td> 0.433079</td>\n",
        "      <td> 0.457936</td>\n",
        "      <td> 0.453823</td>\n",
        "      <td> 0.318931</td>\n",
        "      <td> 0.167008</td>\n",
        "      <td>-0.096198</td>\n",
        "      <td>...</td>\n",
        "    </tr>\n",
        "    <tr>\n",
        "      <th>Roi2</th>\n",
        "      <td> 130</td>\n",
        "      <td> 0.505825</td>\n",
        "      <td> 1.000000</td>\n",
        "      <td> 0.515530</td>\n",
        "      <td>-0.228786</td>\n",
        "      <td> 0.242857</td>\n",
        "      <td> 0.286141</td>\n",
        "      <td> 0.518676</td>\n",
        "      <td> 0.294447</td>\n",
        "      <td> 0.145254</td>\n",
        "      <td> 0.024908</td>\n",
        "      <td> 0.571939</td>\n",
        "      <td>-0.171444</td>\n",
        "      <td> 0.102387</td>\n",
        "      <td> 0.639189</td>\n",
        "      <td> 0.277023</td>\n",
        "      <td> 0.254843</td>\n",
        "      <td> 0.113082</td>\n",
        "      <td> 0.101551</td>\n",
        "      <td>-0.130445</td>\n",
        "      <td>...</td>\n",
        "    </tr>\n",
        "    <tr>\n",
        "      <th>Roi3</th>\n",
        "      <td>   3</td>\n",
        "      <td> 0.388972</td>\n",
        "      <td> 0.515530</td>\n",
        "      <td> 1.000000</td>\n",
        "      <td> 0.006796</td>\n",
        "      <td> 0.347077</td>\n",
        "      <td> 0.287195</td>\n",
        "      <td> 0.504817</td>\n",
        "      <td> 0.385750</td>\n",
        "      <td> 0.210168</td>\n",
        "      <td> 0.558202</td>\n",
        "      <td> 0.716650</td>\n",
        "      <td> 0.127885</td>\n",
        "      <td>-0.480528</td>\n",
        "      <td> 0.724303</td>\n",
        "      <td> 0.513841</td>\n",
        "      <td> 0.244538</td>\n",
        "      <td> 0.133369</td>\n",
        "      <td> 0.456283</td>\n",
        "      <td>-0.664834</td>\n",
        "      <td>...</td>\n",
        "    </tr>\n",
        "    <tr>\n",
        "      <th>Roi5</th>\n",
        "      <td>  11</td>\n",
        "      <td> 0.145289</td>\n",
        "      <td>-0.228786</td>\n",
        "      <td> 0.006796</td>\n",
        "      <td> 1.000000</td>\n",
        "      <td> 0.031916</td>\n",
        "      <td> 0.328089</td>\n",
        "      <td> 0.004284</td>\n",
        "      <td> 0.593916</td>\n",
        "      <td> 0.820999</td>\n",
        "      <td> 0.012959</td>\n",
        "      <td> 0.144390</td>\n",
        "      <td> 0.964836</td>\n",
        "      <td>-0.236151</td>\n",
        "      <td> 0.247744</td>\n",
        "      <td> 0.680005</td>\n",
        "      <td> 0.780051</td>\n",
        "      <td> 0.828951</td>\n",
        "      <td> 0.467415</td>\n",
        "      <td> 0.018679</td>\n",
        "      <td>...</td>\n",
        "    </tr>\n",
        "    <tr>\n",
        "      <th>Roi10</th>\n",
        "      <td>   8</td>\n",
        "      <td> 0.683954</td>\n",
        "      <td> 0.242857</td>\n",
        "      <td> 0.347077</td>\n",
        "      <td> 0.031916</td>\n",
        "      <td> 1.000000</td>\n",
        "      <td> 0.760651</td>\n",
        "      <td> 0.514240</td>\n",
        "      <td> 0.202321</td>\n",
        "      <td> 0.196508</td>\n",
        "      <td> 0.518843</td>\n",
        "      <td> 0.482673</td>\n",
        "      <td> 0.091839</td>\n",
        "      <td>-0.178789</td>\n",
        "      <td> 0.371296</td>\n",
        "      <td> 0.275822</td>\n",
        "      <td> 0.209778</td>\n",
        "      <td> 0.131397</td>\n",
        "      <td> 0.252024</td>\n",
        "      <td>-0.240687</td>\n",
        "      <td>...</td>\n",
        "    </tr>\n",
        "  </tbody>\n",
        "</table>\n",
        "<p>5 rows \u00d7 824 columns</p>\n",
        "</div>"
       ],
       "metadata": {},
       "output_type": "pyout",
       "prompt_number": 196,
       "text": [
        "       Number of Friends      Roi1      Roi2      Roi3      Roi5     Roi10  \\\n",
        "Roi1                  12  1.000000  0.505825  0.388972  0.145289  0.683954   \n",
        "Roi2                 130  0.505825  1.000000  0.515530 -0.228786  0.242857   \n",
        "Roi3                   3  0.388972  0.515530  1.000000  0.006796  0.347077   \n",
        "Roi5                  11  0.145289 -0.228786  0.006796  1.000000  0.031916   \n",
        "Roi10                  8  0.683954  0.242857  0.347077  0.031916  1.000000   \n",
        "\n",
        "          Roi11     Roi13     Roi15     Roi17     Roi24     Roi25     Roi30  \\\n",
        "Roi1   0.789060  0.563936  0.482522  0.371654  0.190968  0.678296  0.183322   \n",
        "Roi2   0.286141  0.518676  0.294447  0.145254  0.024908  0.571939 -0.171444   \n",
        "Roi3   0.287195  0.504817  0.385750  0.210168  0.558202  0.716650  0.127885   \n",
        "Roi5   0.328089  0.004284  0.593916  0.820999  0.012959  0.144390  0.964836   \n",
        "Roi10  0.760651  0.514240  0.202321  0.196508  0.518843  0.482673  0.091839   \n",
        "\n",
        "          Roi33     Roi35     Roi37     Roi38     Roi39     Roi40     Roi43  \\\n",
        "Roi1  -0.180208  0.433079  0.457936  0.453823  0.318931  0.167008 -0.096198   \n",
        "Roi2   0.102387  0.639189  0.277023  0.254843  0.113082  0.101551 -0.130445   \n",
        "Roi3  -0.480528  0.724303  0.513841  0.244538  0.133369  0.456283 -0.664834   \n",
        "Roi5  -0.236151  0.247744  0.680005  0.780051  0.828951  0.467415  0.018679   \n",
        "Roi10 -0.178789  0.371296  0.275822  0.209778  0.131397  0.252024 -0.240687   \n",
        "\n",
        "           \n",
        "Roi1  ...  \n",
        "Roi2  ...  \n",
        "Roi3  ...  \n",
        "Roi5  ...  \n",
        "Roi10 ...  \n",
        "\n",
        "[5 rows x 824 columns]"
       ]
      }
     ],
     "prompt_number": 196
    },
    {
     "cell_type": "markdown",
     "metadata": {},
     "source": [
      "Like what you see? save the cross correlation file with the below code"
     ]
    },
    {
     "cell_type": "code",
     "collapsed": false,
     "input": [
      "data_corr.to_csv(r'%s/%s_xcor.csv' %(folder,name))"
     ],
     "language": "python",
     "metadata": {},
     "outputs": [],
     "prompt_number": 148
    },
    {
     "cell_type": "heading",
     "level": 2,
     "metadata": {},
     "source": [
      "Distance Matrix (neighbors)"
     ]
    },
    {
     "cell_type": "markdown",
     "metadata": {},
     "source": [
      "Set your d value to your threshold for significant distance. This value will be used is all later calculation. If you change it, you must rerun ALL cells following to update the change."
     ]
    },
    {
     "cell_type": "code",
     "collapsed": false,
     "input": [
      "d = 100 # set the maximum distance from an ROI that is the threshold for neighborhood"
     ],
     "language": "python",
     "metadata": {},
     "outputs": [],
     "prompt_number": 197
    },
    {
     "cell_type": "code",
     "collapsed": false,
     "input": [
      "roi_dist, loc_tup, neighbor_names = distance_matrix()\n",
      "roi_dist.head()"
     ],
     "language": "python",
     "metadata": {},
     "outputs": [
      {
       "html": [
        "<div style=\"max-height:1000px;max-width:1500px;overflow:auto;\">\n",
        "<table border=\"1\" class=\"dataframe\">\n",
        "  <thead>\n",
        "    <tr style=\"text-align: right;\">\n",
        "      <th></th>\n",
        "      <th>Number of Neighbors</th>\n",
        "      <th>Roi1</th>\n",
        "      <th>Roi2</th>\n",
        "      <th>Roi3</th>\n",
        "      <th>Roi5</th>\n",
        "      <th>Roi10</th>\n",
        "      <th>Roi11</th>\n",
        "      <th>Roi13</th>\n",
        "      <th>Roi15</th>\n",
        "      <th>Roi17</th>\n",
        "      <th>Roi24</th>\n",
        "      <th>Roi25</th>\n",
        "      <th>Roi30</th>\n",
        "      <th>Roi33</th>\n",
        "      <th>Roi35</th>\n",
        "      <th>Roi37</th>\n",
        "      <th>Roi38</th>\n",
        "      <th>Roi39</th>\n",
        "      <th>Roi40</th>\n",
        "      <th>Roi43</th>\n",
        "      <th></th>\n",
        "    </tr>\n",
        "  </thead>\n",
        "  <tbody>\n",
        "    <tr>\n",
        "      <th>Roi1</th>\n",
        "      <td>  61</td>\n",
        "      <td>   0.000000</td>\n",
        "      <td> 215.334623</td>\n",
        "      <td> 159.028299</td>\n",
        "      <td> 210.154705</td>\n",
        "      <td> 135.247921</td>\n",
        "      <td> 218.524598</td>\n",
        "      <td> 129.799846</td>\n",
        "      <td>  94.175368</td>\n",
        "      <td>  75.186435</td>\n",
        "      <td> 145.041373</td>\n",
        "      <td> 223.376364</td>\n",
        "      <td> 226.384628</td>\n",
        "      <td> 257.614052</td>\n",
        "      <td> 149.495819</td>\n",
        "      <td> 253.254812</td>\n",
        "      <td> 263.427409</td>\n",
        "      <td> 155.193428</td>\n",
        "      <td> 261.017241</td>\n",
        "      <td> 289.171230</td>\n",
        "      <td>...</td>\n",
        "    </tr>\n",
        "    <tr>\n",
        "      <th>Roi2</th>\n",
        "      <td>  52</td>\n",
        "      <td> 215.334623</td>\n",
        "      <td>   0.000000</td>\n",
        "      <td>  56.718604</td>\n",
        "      <td> 424.117908</td>\n",
        "      <td> 341.591862</td>\n",
        "      <td> 428.963868</td>\n",
        "      <td> 328.525494</td>\n",
        "      <td> 153.707514</td>\n",
        "      <td> 240.852652</td>\n",
        "      <td> 332.580817</td>\n",
        "      <td> 426.382457</td>\n",
        "      <td> 104.923782</td>\n",
        "      <td> 106.920531</td>\n",
        "      <td> 317.770357</td>\n",
        "      <td> 445.880029</td>\n",
        "      <td> 125.399362</td>\n",
        "      <td> 191.342625</td>\n",
        "      <td> 446.870227</td>\n",
        "      <td> 143.391074</td>\n",
        "      <td>...</td>\n",
        "    </tr>\n",
        "    <tr>\n",
        "      <th>Roi3</th>\n",
        "      <td>  61</td>\n",
        "      <td> 159.028299</td>\n",
        "      <td>  56.718604</td>\n",
        "      <td>   0.000000</td>\n",
        "      <td> 368.490163</td>\n",
        "      <td> 287.558690</td>\n",
        "      <td> 374.354110</td>\n",
        "      <td> 275.771645</td>\n",
        "      <td> 107.335921</td>\n",
        "      <td> 190.339171</td>\n",
        "      <td> 281.852798</td>\n",
        "      <td> 373.514391</td>\n",
        "      <td> 117.643529</td>\n",
        "      <td> 134.629120</td>\n",
        "      <td> 270.120344</td>\n",
        "      <td> 395.398533</td>\n",
        "      <td> 149.372019</td>\n",
        "      <td> 161.148999</td>\n",
        "      <td> 397.859272</td>\n",
        "      <td> 172.539850</td>\n",
        "      <td>...</td>\n",
        "    </tr>\n",
        "    <tr>\n",
        "      <th>Roi5</th>\n",
        "      <td>  54</td>\n",
        "      <td> 210.154705</td>\n",
        "      <td> 424.117908</td>\n",
        "      <td> 368.490163</td>\n",
        "      <td>   0.000000</td>\n",
        "      <td>  90.824006</td>\n",
        "      <td>  31.144823</td>\n",
        "      <td> 112.698713</td>\n",
        "      <td> 281.996454</td>\n",
        "      <td> 197.691679</td>\n",
        "      <td> 128.600156</td>\n",
        "      <td>  69.180922</td>\n",
        "      <td> 414.566038</td>\n",
        "      <td> 448.397145</td>\n",
        "      <td> 163.517583</td>\n",
        "      <td> 115.069544</td>\n",
        "      <td> 448.977728</td>\n",
        "      <td> 303.077548</td>\n",
        "      <td> 137.014598</td>\n",
        "      <td> 473.207143</td>\n",
        "      <td>...</td>\n",
        "    </tr>\n",
        "    <tr>\n",
        "      <th>Roi10</th>\n",
        "      <td> 106</td>\n",
        "      <td> 135.247921</td>\n",
        "      <td> 341.591862</td>\n",
        "      <td> 287.558690</td>\n",
        "      <td>  90.824006</td>\n",
        "      <td>   0.000000</td>\n",
        "      <td>  88.005682</td>\n",
        "      <td>  24.083189</td>\n",
        "      <td> 194.208651</td>\n",
        "      <td> 107.689368</td>\n",
        "      <td>  48.466483</td>\n",
        "      <td>  88.141931</td>\n",
        "      <td> 324.779925</td>\n",
        "      <td> 358.754791</td>\n",
        "      <td>  82.492424</td>\n",
        "      <td> 121.696343</td>\n",
        "      <td> 358.733885</td>\n",
        "      <td> 212.322867</td>\n",
        "      <td> 133.843192</td>\n",
        "      <td> 382.758409</td>\n",
        "      <td>...</td>\n",
        "    </tr>\n",
        "  </tbody>\n",
        "</table>\n",
        "<p>5 rows \u00d7 824 columns</p>\n",
        "</div>"
       ],
       "metadata": {},
       "output_type": "pyout",
       "prompt_number": 198,
       "text": [
        "       Number of Neighbors        Roi1        Roi2        Roi3        Roi5  \\\n",
        "Roi1                    61    0.000000  215.334623  159.028299  210.154705   \n",
        "Roi2                    52  215.334623    0.000000   56.718604  424.117908   \n",
        "Roi3                    61  159.028299   56.718604    0.000000  368.490163   \n",
        "Roi5                    54  210.154705  424.117908  368.490163    0.000000   \n",
        "Roi10                  106  135.247921  341.591862  287.558690   90.824006   \n",
        "\n",
        "            Roi10       Roi11       Roi13       Roi15       Roi17       Roi24  \\\n",
        "Roi1   135.247921  218.524598  129.799846   94.175368   75.186435  145.041373   \n",
        "Roi2   341.591862  428.963868  328.525494  153.707514  240.852652  332.580817   \n",
        "Roi3   287.558690  374.354110  275.771645  107.335921  190.339171  281.852798   \n",
        "Roi5    90.824006   31.144823  112.698713  281.996454  197.691679  128.600156   \n",
        "Roi10    0.000000   88.005682   24.083189  194.208651  107.689368   48.466483   \n",
        "\n",
        "            Roi25       Roi30       Roi33       Roi35       Roi37       Roi38  \\\n",
        "Roi1   223.376364  226.384628  257.614052  149.495819  253.254812  263.427409   \n",
        "Roi2   426.382457  104.923782  106.920531  317.770357  445.880029  125.399362   \n",
        "Roi3   373.514391  117.643529  134.629120  270.120344  395.398533  149.372019   \n",
        "Roi5    69.180922  414.566038  448.397145  163.517583  115.069544  448.977728   \n",
        "Roi10   88.141931  324.779925  358.754791   82.492424  121.696343  358.733885   \n",
        "\n",
        "            Roi39       Roi40       Roi43      \n",
        "Roi1   155.193428  261.017241  289.171230 ...  \n",
        "Roi2   191.342625  446.870227  143.391074 ...  \n",
        "Roi3   161.148999  397.859272  172.539850 ...  \n",
        "Roi5   303.077548  137.014598  473.207143 ...  \n",
        "Roi10  212.322867  133.843192  382.758409 ...  \n",
        "\n",
        "[5 rows x 824 columns]"
       ]
      }
     ],
     "prompt_number": 198
    },
    {
     "cell_type": "markdown",
     "metadata": {},
     "source": [
      "Like what you see? save the distance matrix file with the below code"
     ]
    },
    {
     "cell_type": "code",
     "collapsed": false,
     "input": [
      "roi_dist.to_csv(r'%s/%s_dist_matrix.csv' %(folder,name))"
     ],
     "language": "python",
     "metadata": {},
     "outputs": [],
     "prompt_number": 151
    },
    {
     "cell_type": "heading",
     "level": 2,
     "metadata": {},
     "source": [
      "Friends in terms of Neighbors"
     ]
    },
    {
     "cell_type": "markdown",
     "metadata": {},
     "source": [
      "the following function returns a table of the following values:\n",
      "\n",
      "**Distance Sum**: the sum of the distances from each roi to its friends\n",
      "\n",
      "**Friend Number**: the number of friends that each roi has (not including itself)\n",
      "\n",
      "**Rel Dist**: The cummulative distance / number of friends"
     ]
    },
    {
     "cell_type": "code",
     "collapsed": false,
     "input": [
      "friend_distances = friend_dist()\n",
      "friend_distances.head()"
     ],
     "language": "python",
     "metadata": {},
     "outputs": [
      {
       "html": [
        "<div style=\"max-height:1000px;max-width:1500px;overflow:auto;\">\n",
        "<table border=\"1\" class=\"dataframe\">\n",
        "  <thead>\n",
        "    <tr style=\"text-align: right;\">\n",
        "      <th></th>\n",
        "      <th>Distance sum</th>\n",
        "      <th>Number of Friends</th>\n",
        "      <th>Rel Dist</th>\n",
        "    </tr>\n",
        "  </thead>\n",
        "  <tbody>\n",
        "    <tr>\n",
        "      <th>Roi1</th>\n",
        "      <td>  2469.289048</td>\n",
        "      <td>  12</td>\n",
        "      <td> 205.774087</td>\n",
        "    </tr>\n",
        "    <tr>\n",
        "      <th>Roi2</th>\n",
        "      <td> 43636.705370</td>\n",
        "      <td> 130</td>\n",
        "      <td> 335.666964</td>\n",
        "    </tr>\n",
        "    <tr>\n",
        "      <th>Roi3</th>\n",
        "      <td>   667.693647</td>\n",
        "      <td>   3</td>\n",
        "      <td> 222.564549</td>\n",
        "    </tr>\n",
        "    <tr>\n",
        "      <th>Roi5</th>\n",
        "      <td>  3458.576873</td>\n",
        "      <td>  11</td>\n",
        "      <td> 314.416079</td>\n",
        "    </tr>\n",
        "    <tr>\n",
        "      <th>Roi10</th>\n",
        "      <td>   913.819995</td>\n",
        "      <td>   8</td>\n",
        "      <td> 114.227499</td>\n",
        "    </tr>\n",
        "  </tbody>\n",
        "</table>\n",
        "<p>5 rows \u00d7 3 columns</p>\n",
        "</div>"
       ],
       "metadata": {},
       "output_type": "pyout",
       "prompt_number": 199,
       "text": [
        "       Distance sum  Number of Friends    Rel Dist\n",
        "Roi1    2469.289048                 12  205.774087\n",
        "Roi2   43636.705370                130  335.666964\n",
        "Roi3     667.693647                  3  222.564549\n",
        "Roi5    3458.576873                 11  314.416079\n",
        "Roi10    913.819995                  8  114.227499\n",
        "\n",
        "[5 rows x 3 columns]"
       ]
      }
     ],
     "prompt_number": 199
    },
    {
     "cell_type": "markdown",
     "metadata": {},
     "source": [
      "Like what you see? save the friend distances file with the below code"
     ]
    },
    {
     "cell_type": "code",
     "collapsed": false,
     "input": [
      "friend_distances.to_csv(r'%s/%s_friend_distances.csv' %(folder,name))"
     ],
     "language": "python",
     "metadata": {},
     "outputs": [],
     "prompt_number": 153
    },
    {
     "cell_type": "heading",
     "level": 2,
     "metadata": {},
     "source": [
      "Neighbors in terms of Friends"
     ]
    },
    {
     "cell_type": "markdown",
     "metadata": {},
     "source": [
      "This section has yet to be built. Will talk with Sean Wilson about values that make the most sense. here. perhaps number of neightbors and average r value?"
     ]
    },
    {
     "cell_type": "heading",
     "level": 2,
     "metadata": {},
     "source": [
      "2d Plots"
     ]
    },
    {
     "cell_type": "heading",
     "level": 3,
     "metadata": {},
     "source": [
      "All Roi overlay with name calling"
     ]
    },
    {
     "cell_type": "markdown",
     "metadata": {},
     "source": [
      "For some reason, you have to click on the first cell twice. but be assured, it is working. set the object size with s. default is s = 6\n",
      "\n",
      "Save this plot from the pop up graph window."
     ]
    },
    {
     "cell_type": "code",
     "collapsed": false,
     "input": [
      "all_roi_2d(s=50)"
     ],
     "language": "python",
     "metadata": {},
     "outputs": [
      {
       "output_type": "stream",
       "stream": "stdout",
       "text": [
        "('Roi selected =', 'Roi1202')\n",
        "('Roi selected =', 'Roi1202')"
       ]
      },
      {
       "output_type": "stream",
       "stream": "stdout",
       "text": [
        "\n",
        "('Roi selected =', 'Roi68')"
       ]
      },
      {
       "output_type": "stream",
       "stream": "stdout",
       "text": [
        "\n",
        "('Roi selected =', 'Roi886')"
       ]
      },
      {
       "output_type": "stream",
       "stream": "stdout",
       "text": [
        "\n",
        "('Roi selected =', 'Roi741')"
       ]
      },
      {
       "output_type": "stream",
       "stream": "stdout",
       "text": [
        "\n"
       ]
      }
     ],
     "prompt_number": 201
    },
    {
     "cell_type": "heading",
     "level": 3,
     "metadata": {},
     "source": [
      "Select Roi and Friends plot"
     ]
    },
    {
     "cell_type": "markdown",
     "metadata": {},
     "source": [
      "Call a 2d plot with each roi on it. Choose an roi by name (ex: 'Roi35') to see it's relationship to all other rois. The named roi will be in magenta. All other roi's will be colored by its r value. \n",
      "\n",
      "when just_friends = True, only friends who meet the r threshold will be shown and all others will be gray. when just_friends = False, all rois will be colored based on r value.\n",
      "\n",
      "Save this plot from the pop up graph window."
     ]
    },
    {
     "cell_type": "code",
     "collapsed": false,
     "input": [
      "friend_roi_2d(roi = 'Roi741', just_friends = False, s = 50, r=0.8)"
     ],
     "language": "python",
     "metadata": {},
     "outputs": [],
     "prompt_number": 203
    },
    {
     "cell_type": "heading",
     "level": 2,
     "metadata": {},
     "source": [
      "Line Plots"
     ]
    },
    {
     "cell_type": "markdown",
     "metadata": {},
     "source": [
      "All line plots are scaled the same: 0 to the maximum value in the entire dataframe."
     ]
    },
    {
     "cell_type": "heading",
     "level": 3,
     "metadata": {},
     "source": [
      "All individual Line plots"
     ]
    },
    {
     "cell_type": "markdown",
     "metadata": {},
     "source": [
      "Use rainbow traces to plot each ROI as its own pdf. Each plot is randomly assigned a color. You cannot disable this feature.\n",
      "\n",
      "**you must have a folder named 'plots' in your output folder. this will fail otheriwse**\n",
      "\n",
      "you can easily consolidate all of these into a single pdf using adobe or another preview program."
     ]
    },
    {
     "cell_type": "code",
     "collapsed": false,
     "input": [
      "all_roi_line_pdfs()"
     ],
     "language": "python",
     "metadata": {},
     "outputs": [],
     "prompt_number": 106
    },
    {
     "cell_type": "heading",
     "level": 3,
     "metadata": {},
     "source": [
      "Stacked line plot of an ROI and its friends"
     ]
    },
    {
     "cell_type": "markdown",
     "metadata": {},
     "source": [
      "Call an roi by name (ex: 'Roi35') to get a line plot of it and its friends. Save this plot from the pop up graph window."
     ]
    },
    {
     "cell_type": "code",
     "collapsed": false,
     "input": [
      "friend_roi_line(roi = 'Roi741')"
     ],
     "language": "python",
     "metadata": {},
     "outputs": [],
     "prompt_number": 204
    },
    {
     "cell_type": "heading",
     "level": 2,
     "metadata": {},
     "source": [
      "Average line plot of an ROI and its friends"
     ]
    },
    {
     "cell_type": "markdown",
     "metadata": {},
     "source": [
      "Call an roi by name (ex: 'Roi35') to get a line plot of the average of it and its friends. the average standard error for each point is printed below once the plot is closed. Save this plot from the pop up graph window."
     ]
    },
    {
     "cell_type": "code",
     "collapsed": false,
     "input": [
      "friend_roi_line_average(roi = 'Roi741')"
     ],
     "language": "python",
     "metadata": {},
     "outputs": [
      {
       "output_type": "stream",
       "stream": "stdout",
       "text": [
        "the average of the std of each point is 0.2962 for Roi741 and its friends.\n"
       ]
      }
     ],
     "prompt_number": 205
    },
    {
     "cell_type": "heading",
     "level": 1,
     "metadata": {},
     "source": [
      "End"
     ]
    }
   ],
   "metadata": {}
  }
 ]
}