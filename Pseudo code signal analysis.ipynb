{
 "metadata": {
  "name": "",
  "signature": "sha256:dd18ca4e63e436843b1a854d1eac86663d3c07034bfda3a45ef4e67ed249a03a"
 },
 "nbformat": 3,
 "nbformat_minor": 0,
 "worksheets": [
  {
   "cells": [
    {
     "cell_type": "code",
     "collapsed": false,
     "input": [
      "def baseline(time array, y values array): # find the baseline number, used later\n",
      "    find how many meas in first .1 ms of time \n",
      "    average all y values in first 0.1 ms of time\n",
      "    "
     ],
     "language": "python",
     "metadata": {},
     "outputs": []
    },
    {
     "cell_type": "code",
     "collapsed": false,
     "input": [
      "def burstduration(time array, y vals, threshperc, baseline):\n",
      "    #threshperc should be 0<= x <= 1\n",
      "    #baseline needs to be calculated and passed into this argument\n",
      "    #data should already be transformed, smoothed, and baseline shifted\n",
      "    \n",
      "    if len(time) != len(y vals): #logic check, are the number of data points and time points the same? they ought to be\n",
      "        sys.exit('You cannot have more time points than there are data points. Get that sorted, buddy.')    \n",
      "        \n",
      "    burst_start = [] #empty array for burst start\n",
      "    burst_end = [] #empty array for burst end\n",
      "    burst_durration = [] #empty array to calculate burst durration\n",
      "    \n",
      "    if threshperc = None: #if no threshold percent is given, 20% is default. why? It felt right to me. \n",
      "        threshperc = 0.2\n",
      "        \n",
      "    threshold = baseline * threshperc #calculate the point at which a event is considered a peak\n",
      "    \n",
      "    burst = False #burst flag, should start not in a burst\n",
      "    \n",
      "    for point in y vals: #for each data point in the set\n",
      "        \n",
      "        if burst = false and y val > threshold: #if we are not in a burst already, the value is higher than the threshold, AND the last burst didn't end less than .2 ms ago\n",
      "            burst_start.append(time[point]) #add the time at point as the begining of the burst\n",
      "            burst = True #burst flag, we are now in a burst \n",
      "        \n",
      "        if burst = True and  y<= threshold: #if we are in a burst and the point falls below the threshold\n",
      "            if burst_start[point] < (burst_end[point-1] + 0.2):\n",
      "                burst_end.replace(burst_end[point])\n",
      "                burst_start.remove[last start time]\n",
      "            else burst_end.append (time[point]) #add the time at point as the end of the burst\n",
      "                burst = False #burst flag, we are now out of the burst\n",
      "    \n",
      "    if len(burst_start) != len(burst_end):\n",
      "        sys.exit('Unexpectedly, the number of burst start times and end times are not equal. Seeing as this is physically impossible, I quit the program for you. Begin hunting for the fatal flaw. Good luck!')\n",
      "        \n",
      "    \n",
      "    for foo in len(burst_start): #for each burst\n",
      "        duration = burst_end[foo] - burst_start[foo] #calculate duration by subtracting the start time from the end time, found by indexing\n",
      "        burst_duration.append(duration) #add the burst duration to the duration list\n",
      "    \n",
      "    return np.array(burst_start), np.array(burst_end), np.array(burst_durration) #returns all three arrays, burst start, burst end, and burst durration.\n",
      "\n",
      "\n",
      "\"\"\"\n",
      "other version that didn't work correctly (ran, but was incorrect)\n",
      "\n",
      "if (index<=(len(burst_start)-1)) and burst == False: #if not in a burst\n",
      "            \n",
      "            if (burst_start[index] < time): #look for first peak inside burst\n",
      "                plist = [] #empty list of all peaks\n",
      "                burst = True\n",
      "                print \"burst flag is now True at index=\", index, \"and max p time=\", time\n",
      "                \n",
      "        if (index<=(len(burst_start)-1)) and burst == True: #if in a burst\n",
      "            \n",
      "            if burst_end[index] < time: #if the next peak is outside the bust\n",
      "                burstpeaks.append(plist) #put list of peaks in burst peaks list\n",
      "                burstpeaknum.append(len(plist)) #add count of peaks to burst peak num list\n",
      "                burst = False #reset burst flag, since we are now out of burst\n",
      "                print \"at index=\", index, \",\", len(plist), \"peaks were added\"\n",
      "                print \"burst flag is now False\"\n",
      "                index = (index+1)\n",
      "                \n",
      "                \n",
      "            if burst_end[index] > time and burst == True: #is the peak inside the burst\n",
      "                plist.append(time)#add time to list of peak times\n",
      "                print \"at index=\", index, \",\" , time, \"was appended to plist\"\n",
      "\"\"\"\""
     ],
     "language": "python",
     "metadata": {},
     "outputs": [
      {
       "ename": "SyntaxError",
       "evalue": "invalid syntax (<ipython-input-1-0f662f7e6a1b>, line 1)",
       "output_type": "pyerr",
       "traceback": [
        "\u001b[0;36m  File \u001b[0;32m\"<ipython-input-1-0f662f7e6a1b>\"\u001b[0;36m, line \u001b[0;32m1\u001b[0m\n\u001b[0;31m    def burstduration(time array, y vals, threshperc, baseline):\u001b[0m\n\u001b[0m                               ^\u001b[0m\n\u001b[0;31mSyntaxError\u001b[0m\u001b[0;31m:\u001b[0m invalid syntax\n"
       ]
      }
     ],
     "prompt_number": 1
    },
    {
     "cell_type": "code",
     "collapsed": false,
     "input": [
      "def ibi(burst_start, burst_end): #fid inter burst time by subtracting end time from previous from start time of current"
     ],
     "language": "python",
     "metadata": {},
     "outputs": [
      {
       "ename": "SyntaxError",
       "evalue": "unexpected EOF while parsing (<ipython-input-2-678a6563ad2f>, line 1)",
       "output_type": "pyerr",
       "traceback": [
        "\u001b[0;36m  File \u001b[0;32m\"<ipython-input-2-678a6563ad2f>\"\u001b[0;36m, line \u001b[0;32m1\u001b[0m\n\u001b[0;31m    def ibi(burst_start, burst_end): #fid inter burst time by subtracting end time from previous from start time of current\u001b[0m\n\u001b[0m                                                                                                                           ^\u001b[0m\n\u001b[0;31mSyntaxError\u001b[0m\u001b[0;31m:\u001b[0m unexpected EOF while parsing\n"
       ]
      }
     ],
     "prompt_number": 2
    },
    {
     "cell_type": "code",
     "collapsed": false,
     "input": [
      "def burst_area (y_vals, time_array,burst_start, burst_end,dx=10): \n",
      "    \"\"\"\n",
      "    integral, area under curve of each burst. Use start and end times to split the y values into short lists. \n",
      "    need the time array to do this\n",
      "    \"\"\"\n",
      "    from scipy.integrate import simps, trapz #import the integral functions\n",
      "    \n",
      "    burst_area = [] #empty array for the areas to go into\n",
      "    \n",
      "    for i in arange(len(burst_start)): #for each index in the burst start array\n",
      "        get burst start time -> the index of that time in the time array\n",
      "        get burst end time -> the index of the time in the time array\n",
      "        area = trapz(y_vals[start_index:end_index],dx) #what method of integration do we want?\n",
      "        burst_area.append(area)\n",
      "    \n",
      "    return burst_area"
     ],
     "language": "python",
     "metadata": {},
     "outputs": [
      {
       "ename": "SyntaxError",
       "evalue": "invalid syntax (<ipython-input-3-8b267fd86366>, line 1)",
       "output_type": "pyerr",
       "traceback": [
        "\u001b[0;36m  File \u001b[0;32m\"<ipython-input-3-8b267fd86366>\"\u001b[0;36m, line \u001b[0;32m1\u001b[0m\n\u001b[0;31m    def area (y vals, time): #integral, area under curve\u001b[0m\n\u001b[0m                   ^\u001b[0m\n\u001b[0;31mSyntaxError\u001b[0m\u001b[0;31m:\u001b[0m invalid syntax\n"
       ]
      }
     ],
     "prompt_number": 3
    },
    {
     "cell_type": "code",
     "collapsed": false,
     "input": [
      "def ttot (burst_start): #find time from start to start\n",
      "    ttotal = [] #empty array for ttot to go into\n",
      "    for time in burst_start[1:]: #for each start time, starting with the second one\n",
      "        measurement = burst_start[time] - burst_start[time-1] #measure the interval by subtracting\n",
      "        ttotal.append(measurment) #append the measurement to the ttotal array\n",
      "    return np.array(ttotal) #return array"
     ],
     "language": "python",
     "metadata": {},
     "outputs": []
    },
    {
     "cell_type": "code",
     "collapsed": false,
     "input": [
      "def burstpeaks(data, burst_start, burst_end, delta=0.04):\n",
      "    \"\"\"\n",
      "    given the burst start and end time, along with the looser peak detect, calculate the number of peaks in a given burst\n",
      "    dependent on burstduration, numpy, sys, and peakdet\n",
      "    default delta is 0.04, based on ECG data, seems to catch QRS and sometimes P and/or T\n",
      "    \"\"\"\n",
      "    if len(burst_start) != len(burst_end): #logic check, before we start\n",
      "        sys.exit('Unexpectedly, the number of burst start times and end times are not equal. Seeing as this is physically impossible, I quit the program for you. Begin hunting for the fatal flaw. Good luck!')\n",
      "    \n",
      "    maxtab, mintab= peakdet(data, delta) #generate the maxtab array of times and heights\n",
      "    \n",
      "    index = 0 #initalize burst index to zero\n",
      "    burst = False #initalize burst status to False\n",
      "    burstpeaknum = [] #empty array for where the number of peaks will go. index # = burst #\n",
      "    burstpeaks = [] #empty tuple of peak locations. index # = burst #\n",
      "    \n",
      "    for time in maxtab[:,0]: #for each peak found in maxtab. remember that maxtab has multipule columns, so only take time.\n",
      "        \n",
      "        if burst == False: #if not in a burst\n",
      "            \n",
      "            if burststart[index] < time: #look for first peak inside burst\n",
      "                plist = [] #empty list of all peaks\n",
      "                burst = True\n",
      "                \n",
      "        if burst == True: #if in a burst\n",
      "            \n",
      "            if burstend[burstindex] < time: #if the next peak is outside the bust\n",
      "                burstpeaks.append(plist) #put list of peaks in burst peaks list\n",
      "                burstpeaknum.append(len(plist)) #add count of peaks to burst peak num list\n",
      "                burst = False #reset burst flag, since we are now out of burst\n",
      "                index = (index+1)\n",
      "                \n",
      "            if burstend[burstindex] > time: #is the peak inside the burst\n",
      "                plist.append(time)#add time to list of peak times\n",
      "            \n",
      "           \n",
      "    return burstpeaknum, burstpeaks"
     ],
     "language": "python",
     "metadata": {},
     "outputs": []
    },
    {
     "cell_type": "raw",
     "metadata": {},
     "source": [
      "working pseudocode for the ROI analysis project"
     ]
    },
    {
     "cell_type": "code",
     "collapsed": false,
     "input": [
      "base = Baseline.mean() #create a series of the baseline means for each roi from the baseline recording\n",
      "\n",
      "def ROI_Analysis(dataframe, base):\n",
      "    \n",
      "    "
     ],
     "language": "python",
     "metadata": {},
     "outputs": []
    }
   ],
   "metadata": {}
  }
 ]
}