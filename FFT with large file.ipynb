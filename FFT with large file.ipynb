{
 "metadata": {
  "name": "",
  "signature": "sha256:ac07b455739d6d0835b19b42dd409c27340b3a2fbf3e558f928a90ae2902eed3"
 },
 "nbformat": 3,
 "nbformat_minor": 0,
 "worksheets": [
  {
   "cells": [
    {
     "cell_type": "code",
     "collapsed": false,
     "input": [
      "import numpy as np\n",
      "import scipy\n",
      "from scipy import *\n",
      "import matplotlib.pyplot as plt\n",
      "import sys\n",
      "import time as t\n",
      "import matplotlib.patches as patches"
     ],
     "language": "python",
     "metadata": {},
     "outputs": [],
     "prompt_number": 52
    },
    {
     "cell_type": "markdown",
     "metadata": {},
     "source": [
      "from numpy import sin, linspace, pi\n",
      "from pylab import plot, show, title, xlabel, ylabel, subplot\n",
      "from scipy import fft, arange\n",
      "\n",
      "def plotSpectrum(y,t,Fs):\n",
      "    \"\"\"\n",
      "    Plots a Single-Sided Amplitude Spectrum of y(t)\n",
      "    \"\"\"\n",
      "    n = len(y) # length of the signal\n",
      "    k = arange(n)\n",
      "    T = n/Fs\n",
      "    frq = k/T # two sides frequency range\n",
      "    frq = frq[range(n/2)] # one side frequency range\n",
      "\n",
      "    Y = fft(y)/n # fft computing and normalization\n",
      "    Y = Y[range(n/2)]\n",
      " \n",
      "    plot(frq,abs(Y),'r') # plotting the spectrum\n",
      "    xlabel('Freq (Hz)')\n",
      "    ylabel('|Y(freq)|')\n",
      "    '''\n",
      "    Fs = 150.0;  # sampling rate\n",
      "    Ts = 1.0/Fs; # sampling interval\n",
      "    t = arange(0,1,Ts) # time vector\n",
      "\n",
      "    ff = 5;   # frequency of the signal\n",
      "    y = sin(2*pi*ff*t)\n",
      "    '''\n",
      "    subplot(2,1,1)\n",
      "    plot(t,y)\n",
      "    xlabel('Time')\n",
      "    ylabel('Amplitude')\n",
      "    subplot(2,1,2)\n",
      "    plotSpectrum(y, t, Fs)\n",
      "    show()"
     ]
    },
    {
     "cell_type": "code",
     "collapsed": false,
     "input": [
      "from numpy import NaN, Inf, arange, isscalar, asarray, array\n",
      " \n",
      "def peakdet(v, delta, x = None):\n",
      "    \"\"\"\n",
      "    Converted from MATLAB script at http://billauer.co.il/peakdet.html\n",
      "    \n",
      "    Returns two arrays\n",
      "    \n",
      "    function [maxtab, mintab]=peakdet(v, delta, x)\n",
      "    %PEAKDET Detect peaks in a vector\n",
      "    %        [MAXTAB, MINTAB] = PEAKDET(V, DELTA) finds the local\n",
      "    %        maxima and minima (\"peaks\") in the vector V.\n",
      "    %        MAXTAB and MINTAB consists of two columns. Column 1\n",
      "    %        contains indices in V, and column 2 the found values.\n",
      "    %      \n",
      "    %        With [MAXTAB, MINTAB] = PEAKDET(V, DELTA, X) the indices\n",
      "    %        in MAXTAB and MINTAB are replaced with the corresponding\n",
      "    %        X-values.\n",
      "    %\n",
      "    %        A point is considered a maximum peak if it has the maximal\n",
      "    %        value, and was preceded (to the left) by a value lower by\n",
      "    %        DELTA.\n",
      "    \n",
      "    % Eli Billauer, 3.4.05 (Explicitly not copyrighted).\n",
      "    % This function is released to the public domain; Any use is allowed.\n",
      "    \n",
      "    \"\"\"\n",
      "    maxtab = []\n",
      "    mintab = []\n",
      "       \n",
      "    if x is None:\n",
      "        x = arange(len(v))\n",
      "    \n",
      "    v = asarray(v)\n",
      "    \n",
      "    if len(v) != len(x):\n",
      "        sys.exit('Input vectors v and x must have same length')\n",
      "    \n",
      "    if not isscalar(delta):\n",
      "        sys.exit('Input argument delta must be a scalar')\n",
      "    \n",
      "    if delta <= 0:\n",
      "        sys.exit('Input argument delta must be positive')\n",
      "    \n",
      "    mn, mx = Inf, -Inf\n",
      "    mnpos, mxpos = NaN, NaN\n",
      "    \n",
      "    lookformax = True\n",
      "    \n",
      "    for i in arange(len(v)):\n",
      "        this = v[i]\n",
      "        if this > mx:\n",
      "            mx = this\n",
      "            mxpos = x[i]\n",
      "        if this < mn:\n",
      "            mn = this\n",
      "            mnpos = x[i]\n",
      "        \n",
      "        if lookformax:\n",
      "            if this < mx-delta:\n",
      "                maxtab.append((mxpos, mx))\n",
      "                mn = this\n",
      "                mnpos = x[i]\n",
      "                lookformax = False\n",
      "        else:\n",
      "            if this > mn+delta:\n",
      "                mintab.append((mnpos, mn))\n",
      "                mx = this\n",
      "                mxpos = x[i]\n",
      "                lookformax = True\n",
      " \n",
      "    return array(maxtab), array(mintab)"
     ],
     "language": "python",
     "metadata": {},
     "outputs": [],
     "prompt_number": 2
    },
    {
     "cell_type": "code",
     "collapsed": false,
     "input": [
      "def baseline(data,rate):\n",
      "    \n",
      "    '''\n",
      "    input data array and rate value.\n",
      "    using the first 0.2 s of data, find average of all data values. this becomes the baseline.\n",
      "    baseline is used later in burst measurements\n",
      "    import numpy as np\n",
      "    '''\n",
      "    \n",
      "    index = 0.2/rate #find the index of the first 0.2 seconds of data\n",
      "    baserate = np.mean(data[:index]) #average all points to obtain baserate\n",
      "    \n",
      "    datashift = []\n",
      "    \n",
      "    #may be able to use np.subtract(data,base) instead, but this seems to work correctly.\n",
      "    for x in data:\n",
      "        foo = (x-baserate)\n",
      "        datashift.append(foo)\n",
      "        \n",
      "    return baserate, datashift"
     ],
     "language": "python",
     "metadata": {},
     "outputs": [],
     "prompt_number": 3
    },
    {
     "cell_type": "code",
     "collapsed": false,
     "input": [
      "def burstduration(time, data, baserate, threshperc=0.2, clusterperc=0.006):\n",
      "    \"\"\"\n",
      "    threshperc should be 0<= x <= 1; clusterperc should be changed based on the type of data (default for ECG is 0.006)\n",
      "    baserate needs to be calculated and passed into this argument\n",
      "    data should already be transformed, smoothed, and baseline shifted (shifting is technically optional, but it really doesn't matter)\n",
      "    \"\"\"\n",
      "    \n",
      "    if len(time) != len(data): #logic check, are the number of data points and time points the same?\n",
      "        sys.exit('You cannot have more time points than there are data points. Get that sorted, buddy.')    \n",
      "    \n",
      "    burst_start = [] #empty array for burst start\n",
      "    burst_end = [] #empty array for burst end\n",
      "    burst_duration = [] #empty array to calculate burst durration\n",
      "    \n",
      "    threshold = baserate * threshperc #calculate the point at which a event is considered a peak\n",
      "    \n",
      "    burst = False #burst flag, should start not in a burst\n",
      "\n",
      "    index = -1\n",
      "    for point in data: #for each data point in the set\n",
      "        index = index +1\n",
      "        #print index, \"=\", t.clock()\n",
      "        \n",
      "        if burst == False and point > threshold: #if we are not in a burst already, the value is higher than the threshold, AND the last burst didn't end less than .2 ms ago\n",
      "            tpoint = time[index] #find the actual time given teh time index\n",
      "            burst_start.append(tpoint) #add the time at point as the begining of the burst\n",
      "            burst = True #burst flag, we are now in a burst \n",
      "        \n",
      "        if burst == True and  point <= threshold: #if we are in a burst and the point falls below the threshold\n",
      "            \n",
      "            if len(burst_end) == 0 or len(burst_start) == 0: #if this is the first end\n",
      "                tpoint = time[index] #find the actual time given teh time index\n",
      "                burst_end.append (tpoint) #add the time at point as the end of the burst\n",
      "                burst = False #burst flag, we are now out of the burst\n",
      "            \n",
      "            else:\n",
      "                tpoint = time[index] #find the actual time given teh time index\n",
      "                burst_end.append (tpoint) #add the time at point as the end of the burst\n",
      "                burst = False #burst flag, we are now out of the burst\n",
      "                if burst_start[-1] < (burst_end[-2] + clusterperc):#if the new burst is too close to the last one, delete the second to last end and the last start\n",
      "                    del burst_end[-2]\n",
      "                    del burst_start[-1]\n",
      "    \n",
      "    if burst == True and len(burst_start) == 1+len(burst_end): #we exit the for loop but are in a burst\n",
      "        del burst_start[-1] #delete the last burst start time\n",
      "    \n",
      "    if len(burst_start) != len(burst_end):\n",
      "        sys.exit('Unexpectedly, the number of burst start times and end times are not equal. Seeing as this is physically impossible, I quit the program for you. Begin hunting for the fatal flaw. Good luck!')\n",
      "        \n",
      "    #print t.clock(), \"- start duration array\"\n",
      "    for foo in burst_start: #for each burst\n",
      "        index = burst_start.index(foo)\n",
      "        duration = burst_end[index] - burst_start[index] #calculate duration by subtracting the start time from the end time, found by indexing\n",
      "        burst_duration.append(duration) #add the burst duration to the duration list\n",
      "    #print t.clock(), \"-end duration array\"\n",
      "    \n",
      "    return burst_start, burst_end, burst_duration"
     ],
     "language": "python",
     "metadata": {},
     "outputs": [],
     "prompt_number": 4
    },
    {
     "cell_type": "code",
     "collapsed": false,
     "input": [
      "def ibi(burst_start, burst_end):\n",
      "    \"\"\"\n",
      "    this function is used to find the inter-burst interval. \n",
      "    this is defined as the difference between the last end and the new start time\n",
      "    Dependent on numpy, burst_start, and burst_end\n",
      "    \"\"\"\n",
      "    \n",
      "    ibi = []\n",
      "    \n",
      "    for end in burst_end[:-1]: #for each end time except the last one\n",
      "        tindex = burst_end.index(end) #find the start time index\n",
      "        start = burst_start[tindex+1] #find start time\n",
      "        ibi.append(start-end) #subtract the old end time from the start time\n",
      "    \n",
      "    return ibi"
     ],
     "language": "python",
     "metadata": {},
     "outputs": [],
     "prompt_number": 5
    },
    {
     "cell_type": "code",
     "collapsed": false,
     "input": [
      "def savitzky_golay(y, window_size, order, deriv=0, rate=1):\n",
      "    r\"\"\"Smooth (and optionally differentiate) data with a Savitzky-Golay filter.\n",
      "    The Savitzky-Golay filter removes high frequency noise from data.\n",
      "    It has the advantage of preserving the original shape and\n",
      "    features of the signal better than other types of filtering\n",
      "    approaches, such as moving averages techniques.\n",
      "    Parameters\n",
      "    ----------\n",
      "    y : array_like, shape (N,)\n",
      "        the values of the time history of the signal.\n",
      "    window_size : int\n",
      "        the length of the window. Must be an odd integer number.\n",
      "    order : int\n",
      "        the order of the polynomial used in the filtering.\n",
      "        Must be less then `window_size` - 1.\n",
      "    deriv: int\n",
      "        the order of the derivative to compute (default = 0 means only smoothing)\n",
      "    Returns\n",
      "    -------\n",
      "    ys : ndarray, shape (N)\n",
      "        the smoothed signal (or it's n-th derivative).\n",
      "    Notes\n",
      "    -----\n",
      "    The Savitzky-Golay is a type of low-pass filter, particularly\n",
      "    suited for smoothing noisy data. The main idea behind this\n",
      "    approach is to make for each point a least-square fit with a\n",
      "    polynomial of high order over a odd-sized window centered at\n",
      "    the point.\n",
      "    Examples\n",
      "    --------\n",
      "    t = np.linspace(-4, 4, 500)\n",
      "    y = np.exp( -t**2 ) + np.random.normal(0, 0.05, t.shape)\n",
      "    ysg = savitzky_golay(y, window_size=31, order=4)\n",
      "    import matplotlib.pyplot as plt\n",
      "    plt.plot(t, y, label='Noisy signal')\n",
      "    plt.plot(t, np.exp(-t**2), 'k', lw=1.5, label='Original signal')\n",
      "    plt.plot(t, ysg, 'r', label='Filtered signal')\n",
      "    plt.legend()\n",
      "    plt.show()\n",
      "    References\n",
      "    ----------\n",
      "    .. [1] A. Savitzky, M. J. E. Golay, Smoothing and Differentiation of\n",
      "       Data by Simplified Least Squares Procedures. Analytical\n",
      "       Chemistry, 1964, 36 (8), pp 1627-1639.\n",
      "    .. [2] Numerical Recipes 3rd Edition: The Art of Scientific Computing\n",
      "       W.H. Press, S.A. Teukolsky, W.T. Vetterling, B.P. Flannery\n",
      "       Cambridge University Press ISBN-13: 9780521880688\n",
      "    \"\"\"\n",
      "    import numpy as np\n",
      "    from math import factorial\n",
      "\n",
      "    try:\n",
      "        window_size = np.abs(np.int(window_size))\n",
      "        order = np.abs(np.int(order))\n",
      "    except ValueError, msg:\n",
      "        raise ValueError(\"window_size and order have to be of type int\")\n",
      "    if window_size % 2 != 1 or window_size < 1:\n",
      "        raise TypeError(\"window_size size must be a positive odd number\")\n",
      "    if window_size < order + 2:\n",
      "        raise TypeError(\"window_size is too small for the polynomials order\")\n",
      "    order_range = range(order+1)\n",
      "    half_window = (window_size -1) // 2\n",
      "    # precompute coefficients\n",
      "    b = np.mat([[k**i for i in order_range] for k in range(-half_window, half_window+1)])\n",
      "    m = np.linalg.pinv(b).A[deriv] * rate**deriv * factorial(deriv)\n",
      "    # pad the signal at the extremes with\n",
      "    # values taken from the signal itself\n",
      "    firstvals = y[0] - np.abs( y[1:half_window+1][::-1] - y[0] )\n",
      "    lastvals = y[-1] + np.abs(y[-half_window-1:-1][::-1] - y[-1])\n",
      "    y = np.concatenate((firstvals, y, lastvals))\n",
      "    return np.convolve( m[::-1], y, mode='valid')"
     ],
     "language": "python",
     "metadata": {},
     "outputs": [],
     "prompt_number": 6
    },
    {
     "cell_type": "code",
     "collapsed": false,
     "input": [
      "time, data = np.loadtxt(\"/Users/abigaildobyns/Desktop/2014-05-29rat69-ECG-long.txt\", usecols=(0,1),  unpack=True)"
     ],
     "language": "python",
     "metadata": {},
     "outputs": [],
     "prompt_number": 7
    },
    {
     "cell_type": "code",
     "collapsed": false,
     "input": [
      "time = time[4000000:]\n",
      "data = data[4000000:]"
     ],
     "language": "python",
     "metadata": {},
     "outputs": [],
     "prompt_number": 8
    },
    {
     "cell_type": "code",
     "collapsed": false,
     "input": [
      "data_trans = abs(data)\n",
      "data_trans =savitzky_golay(data_trans, 47, 4)\n",
      "base, data_shift =baseline(data_trans,0.00025)\n",
      "maxtab, mintab = peakdet(data_trans, 0.6, None)\n",
      "bstart, bend, bdur = burstduration(time, data_shift, base, threshperc=1)\n",
      "interburst = ibi(bstart, bend)\n",
      "print len(interburst)"
     ],
     "language": "python",
     "metadata": {},
     "outputs": [
      {
       "output_type": "stream",
       "stream": "stdout",
       "text": [
        "63038\n"
       ]
      }
     ],
     "prompt_number": 9
    },
    {
     "cell_type": "code",
     "collapsed": false,
     "input": [
      "bstart, bend, bdur = burstduration(time, data_shift, base, threshperc=2)\n",
      "interburst = ibi(bstart, bend)\n",
      "print len(interburst)"
     ],
     "language": "python",
     "metadata": {},
     "outputs": [
      {
       "output_type": "stream",
       "stream": "stdout",
       "text": [
        "32986\n"
       ]
      }
     ],
     "prompt_number": 39
    },
    {
     "cell_type": "code",
     "collapsed": false,
     "input": [
      "print len(interburst)"
     ],
     "language": "python",
     "metadata": {},
     "outputs": [
      {
       "output_type": "stream",
       "stream": "stdout",
       "text": [
        "52420\n"
       ]
      }
     ],
     "prompt_number": 22
    },
    {
     "cell_type": "code",
     "collapsed": false,
     "input": [
      "rr_interval = []\n",
      "index = 1\n",
      "for n in maxptime[1:]:\n",
      "    rr = n - maxptime[index-1]\n",
      "    rr_interval.append(rr)\n",
      "    index = index +1"
     ],
     "language": "python",
     "metadata": {},
     "outputs": [],
     "prompt_number": 86
    },
    {
     "cell_type": "code",
     "collapsed": false,
     "input": [
      "print len(maxptime)\n",
      "print len(rr_interval)"
     ],
     "language": "python",
     "metadata": {},
     "outputs": [
      {
       "output_type": "stream",
       "stream": "stdout",
       "text": [
        "32181\n",
        "32180\n"
       ]
      }
     ],
     "prompt_number": 87
    },
    {
     "cell_type": "code",
     "collapsed": false,
     "input": [
      "plt.hist(interburst, bins = 50)\n",
      "plt.show()"
     ],
     "language": "python",
     "metadata": {},
     "outputs": [],
     "prompt_number": 23
    },
    {
     "cell_type": "code",
     "collapsed": false,
     "input": [
      "'''n = len(interburst)\n",
      "k = np.arange(n)\n",
      "T = n/4000\n",
      "frq = k/T\n",
      "#frq = frq[range(n/2)]\n",
      "'''\n",
      "\n",
      "Y_ibi = np.fft.fft(interburst)\n",
      "n_ibi = len(interburst)\n",
      "freq_ibi = np.fft.fftfreq(n_ibi, d = 1.0/4000)\n",
      "Y_ibi = Y_ibi[range(n_ibi/2)]\n",
      "freq_ibi = freq_ibi[range(n_ibi/2)]\n",
      "\n",
      "Y_d = np.fft.rfft(data_trans)\n",
      "n_d = len(data_trans)\n",
      "freq_d = np.fft.rfftfreq(n_rr, d = 1.0/4000)\n",
      "Y_d = Y_d[range(n_rr/2)]\n",
      "freq_d = freq_d[range(n_rr/2)]"
     ],
     "language": "python",
     "metadata": {},
     "outputs": [],
     "prompt_number": 101
    },
    {
     "cell_type": "code",
     "collapsed": false,
     "input": [
      "plt.subplot(221)\n",
      "plt.plot(freq_ibi, abs(Y_ibi))\n",
      "plt.xlabel('Freq (hz)')\n",
      "plt.ylabel('|Y(freq)|')\n",
      "plt.title('IBI Power')\n",
      "plt.xlim(0,60)\n",
      "plt.ylim(0,500)\n",
      "\n",
      "plt.subplot(222)\n",
      "plt.plot(freq_d, abs(Y_d))\n",
      "plt.xlabel('Freq (hz)')\n",
      "plt.ylabel('|Y(freq)|')\n",
      "plt.title('Data_trans Power')\n",
      "plt.xlim(0,2000)\n",
      "plt.ylim(0,500)\n",
      "\n",
      "plt.subplot(223)\n",
      "plt.hist(interburst, bins = 20)\n",
      "plt.title('IBI Hist')\n",
      "\n",
      "plt.subplot(224)\n",
      "plt.hist(rr_interval, bins = 20)\n",
      "plt.title('RRI Hist')\n",
      "\n",
      "plt.show()"
     ],
     "language": "python",
     "metadata": {},
     "outputs": [],
     "prompt_number": 104
    },
    {
     "cell_type": "code",
     "collapsed": false,
     "input": [
      "maxtab = np.array(maxtab)\n",
      "maxptime = maxtab[:,0]\n",
      "maxptime = (np.multiply(maxptime,0.00025) + time[0])\n",
      "maxpeaks = maxtab[:,1]\n",
      "maxpeaks = (np.subtract(maxpeaks,base))"
     ],
     "language": "python",
     "metadata": {},
     "outputs": [],
     "prompt_number": 32
    },
    {
     "cell_type": "code",
     "collapsed": false,
     "input": [
      "bendy = []\n",
      "for point in bend:\n",
      "    bendy.append(base*2)\n",
      "\n",
      "bstarty = []\n",
      "for point in bstart:\n",
      "    bstarty.append(base*2)"
     ],
     "language": "python",
     "metadata": {},
     "outputs": [],
     "prompt_number": 40
    },
    {
     "cell_type": "code",
     "collapsed": false,
     "input": [
      "plt.subplot(211)\n",
      "plt.plot(time, data_shift, 'k')\n",
      "plt.xlabel('time')\n",
      "plt.ylabel('amp')\n",
      "plt.plot(maxptime,maxpeaks, marker = \"^\", color=\"g\", linestyle= \"None\")\n",
      "plt.plot(bstart, bstarty, marker = \"v\", color=\"y\", linestyle= \"None\")\n",
      "plt.plot(bend, bendy,marker = \"v\", color=\"m\", linestyle= \"None\")\n",
      "#plt.plot(minptime, minpeaks, marker =\"v\", color=\"m\",  linestyle= \"None\")\n",
      "plt.hlines(0,time[0],time[-1],colors='k')\n",
      "plt.hlines((base*1.5),time[0],time[-1], colors='r')\n",
      "\n",
      "plt.subplot(212)\n",
      "plt.hist(interburst, bins = 20)\n",
      "plt.xlabel('Bin #')\n",
      "plt.ylabel('Count')\n",
      "\n",
      "plt.show()"
     ],
     "language": "python",
     "metadata": {},
     "outputs": [],
     "prompt_number": 41
    },
    {
     "cell_type": "code",
     "collapsed": false,
     "input": [
      "plt.subplot(211)\n",
      "plt.plot(time, data_shift, 'r')\n",
      "plt.xlabel('time')\n",
      "plt.ylabel('raw amp')\n",
      "plt.plot(maxptime,maxpeaks, marker = \"^\", color=\"g\", linestyle= \"None\")\n",
      "plt.plot(bstart, bstarty, marker = \"v\", color=\"y\", linestyle= \"None\")\n",
      "plt.plot(bend, bendy,marker = \"v\", color=\"m\", linestyle= \"None\")\n",
      "#plt.plot(minptime, minpeaks, marker =\"v\", color=\"m\",  linestyle= \"None\")\n",
      "plt.hlines(0,time[0],time[-1],colors='k')\n",
      "plt.hlines((base*1.5),time[0],time[-1], colors='r')\n",
      "\n",
      "\n",
      "plt.subplot(212)\n",
      "plt.plot(abs(Y))\n",
      "plt.xlabel('Freq (hz)')\n",
      "plt.ylabel('|Y(freq)|')\n",
      "plt.show()"
     ],
     "language": "python",
     "metadata": {},
     "outputs": [],
     "prompt_number": 59
    },
    {
     "cell_type": "code",
     "collapsed": false,
     "input": [
      "print max(interburst)\n",
      "print min(interburst)\n",
      "print np.mean(interburst)"
     ],
     "language": "python",
     "metadata": {},
     "outputs": [
      {
       "output_type": "stream",
       "stream": "stdout",
       "text": [
        "0.2425\n",
        "0.00675000000001\n",
        "0.125080498838\n"
       ]
      }
     ],
     "prompt_number": 37
    },
    {
     "cell_type": "code",
     "collapsed": false,
     "input": [
      "plt.plot(time, data, 'r')"
     ],
     "language": "python",
     "metadata": {},
     "outputs": [
      {
       "metadata": {},
       "output_type": "pyout",
       "prompt_number": 19,
       "text": [
        "[<matplotlib.lines.Line2D at 0x23f8932d0>]"
       ]
      }
     ],
     "prompt_number": 19
    },
    {
     "cell_type": "code",
     "collapsed": false,
     "input": [
      "plt.show()"
     ],
     "language": "python",
     "metadata": {},
     "outputs": [],
     "prompt_number": 20
    },
    {
     "cell_type": "code",
     "collapsed": false,
     "input": [
      "1000/0.00025"
     ],
     "language": "python",
     "metadata": {},
     "outputs": [
      {
       "metadata": {},
       "output_type": "pyout",
       "prompt_number": 21,
       "text": [
        "4000000.0"
       ]
      }
     ],
     "prompt_number": 21
    },
    {
     "cell_type": "code",
     "collapsed": false,
     "input": [
      "np.fft.fftfreq??"
     ],
     "language": "python",
     "metadata": {},
     "outputs": [],
     "prompt_number": 57
    },
    {
     "cell_type": "code",
     "collapsed": false,
     "input": [],
     "language": "python",
     "metadata": {},
     "outputs": []
    }
   ],
   "metadata": {}
  }
 ]
}