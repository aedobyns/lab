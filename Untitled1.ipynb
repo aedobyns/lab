{
 "metadata": {
  "name": "",
  "signature": "sha256:51850c19d5ad96c190e4b5922ccd91b838ecd470b58f2f583ac25bd06ed8f31b"
 },
 "nbformat": 3,
 "nbformat_minor": 0,
 "worksheets": [
  {
   "cells": [
    {
     "cell_type": "markdown",
     "metadata": {},
     "source": [
      "New SWAN pseudo code"
     ]
    },
    {
     "cell_type": "code",
     "collapsed": false,
     "input": [],
     "language": "python",
     "metadata": {},
     "outputs": []
    },
    {
     "cell_type": "code",
     "collapsed": true,
     "input": [
      "from IPython.html import widgets\n",
      "from IPython.display import display\n",
      "\n",
      "options = {\n",
      "    'first value' : 0,\n",
      "    'second value': 1,\n",
      "    'third value': 2,\n",
      "}\n",
      "\n",
      "s = widgets.SelectWidget()\n",
      "s.values = options\n",
      "display(s)\n",
      "\n",
      "d = widgets.DropdownWidget()\n",
      "d.values = options\n",
      "display(d)"
     ],
     "language": "python",
     "metadata": {},
     "outputs": [],
     "prompt_number": 5
    },
    {
     "cell_type": "code",
     "collapsed": false,
     "input": [
      "d"
     ],
     "language": "python",
     "metadata": {},
     "outputs": [],
     "prompt_number": 2
    },
    {
     "cell_type": "code",
     "collapsed": false,
     "input": [
      "string = 'ABC123def'\n",
      "string = string.lower()\n",
      "print string"
     ],
     "language": "python",
     "metadata": {},
     "outputs": [
      {
       "output_type": "stream",
       "stream": "stdout",
       "text": [
        "abc123def\n"
       ]
      }
     ],
     "prompt_number": 4
    },
    {
     "cell_type": "code",
     "collapsed": false,
     "input": [],
     "language": "python",
     "metadata": {},
     "outputs": []
    }
   ],
   "metadata": {}
  }
 ]
}