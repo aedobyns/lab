{
 "metadata": {
  "name": "",
  "signature": "sha256:2f633fb3f22c7726efd0bff17cfd39ea3be551737f175e25451523b45605398c"
 },
 "nbformat": 3,
 "nbformat_minor": 0,
 "worksheets": [
  {
   "cells": [
    {
     "cell_type": "code",
     "collapsed": false,
     "input": [
      "import numpy as np\n",
      "from pandas import Series, DataFrame\n",
      "import pandas as pd #convention"
     ],
     "language": "python",
     "metadata": {},
     "outputs": [],
     "prompt_number": 1
    },
    {
     "cell_type": "code",
     "collapsed": false,
     "input": [
      "index = ['a', 'b', 'c', 'd', 'e'] #row identifiers \n",
      "s = Series(np.arange(5), index=index) #series(data array, label array)\n",
      "s"
     ],
     "language": "python",
     "metadata": {},
     "outputs": [
      {
       "metadata": {},
       "output_type": "pyout",
       "prompt_number": 3,
       "text": [
        "a    0\n",
        "b    1\n",
        "c    2\n",
        "d    3\n",
        "e    4\n",
        "dtype: int64"
       ]
      }
     ],
     "prompt_number": 3
    },
    {
     "cell_type": "markdown",
     "metadata": {},
     "source": [
      "indexing and slicing"
     ]
    },
    {
     "cell_type": "code",
     "collapsed": false,
     "input": [
      "s* 2 #like a np.array, can multiply by scalar\n",
      "s*s #can multiply by itself\n",
      "s[:3] #just like slcing before, get labels and data\n",
      "s['b'] #can slice by lables\n",
      "s['b':] #b onward\n",
      "s[[1,0,2]] #fancy indexing! \n",
      "s[['b', 'd', 'e']] #get just a subset based on index labels"
     ],
     "language": "python",
     "metadata": {},
     "outputs": [
      {
       "metadata": {},
       "output_type": "pyout",
       "prompt_number": 4,
       "text": [
        "b    1\n",
        "d    3\n",
        "e    4\n",
        "dtype: int64"
       ]
      }
     ],
     "prompt_number": 4
    },
    {
     "cell_type": "code",
     "collapsed": false,
     "input": [
      "dates = pd.date_range('2012-07-16', '2012-07-21') #makes a date range for all days in the range. smarty smart smart\n",
      "atemps = Series([101.5, 98, 95, 99, 100, 99], index = dates) # makes a series of temps with date objects as labels\n",
      "atemps"
     ],
     "language": "python",
     "metadata": {},
     "outputs": [
      {
       "metadata": {},
       "output_type": "pyout",
       "prompt_number": 5,
       "text": [
        "2012-07-16    101.5\n",
        "2012-07-17     98.0\n",
        "2012-07-18     95.0\n",
        "2012-07-19     99.0\n",
        "2012-07-20    100.0\n",
        "2012-07-21     99.0\n",
        "Freq: D, dtype: float64"
       ]
      }
     ],
     "prompt_number": 5
    },
    {
     "cell_type": "code",
     "collapsed": false,
     "input": [
      "sdtemps= Series([73, 78, 77, 78, 78, 77], index=dates) #another column \n",
      "temps = DataFrame({'Austin': atemps, 'San Diego': sdtemps}) #bring them thgether as a data frame\n",
      "temps"
     ],
     "language": "python",
     "metadata": {},
     "outputs": [
      {
       "html": [
        "<div style=\"max-height:1000px;max-width:1500px;overflow:auto;\">\n",
        "<table border=\"1\" class=\"dataframe\">\n",
        "  <thead>\n",
        "    <tr style=\"text-align: right;\">\n",
        "      <th></th>\n",
        "      <th>Austin</th>\n",
        "      <th>San Diego</th>\n",
        "    </tr>\n",
        "  </thead>\n",
        "  <tbody>\n",
        "    <tr>\n",
        "      <th>2012-07-16</th>\n",
        "      <td> 101.5</td>\n",
        "      <td> 73</td>\n",
        "    </tr>\n",
        "    <tr>\n",
        "      <th>2012-07-17</th>\n",
        "      <td>  98.0</td>\n",
        "      <td> 78</td>\n",
        "    </tr>\n",
        "    <tr>\n",
        "      <th>2012-07-18</th>\n",
        "      <td>  95.0</td>\n",
        "      <td> 77</td>\n",
        "    </tr>\n",
        "    <tr>\n",
        "      <th>2012-07-19</th>\n",
        "      <td>  99.0</td>\n",
        "      <td> 78</td>\n",
        "    </tr>\n",
        "    <tr>\n",
        "      <th>2012-07-20</th>\n",
        "      <td> 100.0</td>\n",
        "      <td> 78</td>\n",
        "    </tr>\n",
        "    <tr>\n",
        "      <th>2012-07-21</th>\n",
        "      <td>  99.0</td>\n",
        "      <td> 77</td>\n",
        "    </tr>\n",
        "  </tbody>\n",
        "</table>\n",
        "<p>6 rows \u00d7 2 columns</p>\n",
        "</div>"
       ],
       "metadata": {},
       "output_type": "pyout",
       "prompt_number": 6,
       "text": [
        "            Austin  San Diego\n",
        "2012-07-16   101.5         73\n",
        "2012-07-17    98.0         78\n",
        "2012-07-18    95.0         77\n",
        "2012-07-19    99.0         78\n",
        "2012-07-20   100.0         78\n",
        "2012-07-21    99.0         77\n",
        "\n",
        "[6 rows x 2 columns]"
       ]
      }
     ],
     "prompt_number": 6
    },
    {
     "cell_type": "code",
     "collapsed": false,
     "input": [
      "temps.columns #get col headers\n",
      "temps.columns[0] #can do slicing on headers\n",
      "temps['Austin'] #get just a column"
     ],
     "language": "python",
     "metadata": {},
     "outputs": [
      {
       "metadata": {},
       "output_type": "pyout",
       "prompt_number": 9,
       "text": [
        "'Austin'"
       ]
      }
     ],
     "prompt_number": 9
    },
    {
     "cell_type": "code",
     "collapsed": false,
     "input": [
      "temps ['Diff'] = temps['Austin'] - temps['San Diego'] #do subtraction and make it a new column \n",
      "temps"
     ],
     "language": "python",
     "metadata": {},
     "outputs": [
      {
       "html": [
        "<div style=\"max-height:1000px;max-width:1500px;overflow:auto;\">\n",
        "<table border=\"1\" class=\"dataframe\">\n",
        "  <thead>\n",
        "    <tr style=\"text-align: right;\">\n",
        "      <th></th>\n",
        "      <th>Austin</th>\n",
        "      <th>San Diego</th>\n",
        "      <th>Diff</th>\n",
        "    </tr>\n",
        "  </thead>\n",
        "  <tbody>\n",
        "    <tr>\n",
        "      <th>2012-07-16</th>\n",
        "      <td> 101.5</td>\n",
        "      <td> 73</td>\n",
        "      <td> 28.5</td>\n",
        "    </tr>\n",
        "    <tr>\n",
        "      <th>2012-07-17</th>\n",
        "      <td>  98.0</td>\n",
        "      <td> 78</td>\n",
        "      <td> 20.0</td>\n",
        "    </tr>\n",
        "    <tr>\n",
        "      <th>2012-07-18</th>\n",
        "      <td>  95.0</td>\n",
        "      <td> 77</td>\n",
        "      <td> 18.0</td>\n",
        "    </tr>\n",
        "    <tr>\n",
        "      <th>2012-07-19</th>\n",
        "      <td>  99.0</td>\n",
        "      <td> 78</td>\n",
        "      <td> 21.0</td>\n",
        "    </tr>\n",
        "    <tr>\n",
        "      <th>2012-07-20</th>\n",
        "      <td> 100.0</td>\n",
        "      <td> 78</td>\n",
        "      <td> 22.0</td>\n",
        "    </tr>\n",
        "    <tr>\n",
        "      <th>2012-07-21</th>\n",
        "      <td>  99.0</td>\n",
        "      <td> 77</td>\n",
        "      <td> 22.0</td>\n",
        "    </tr>\n",
        "  </tbody>\n",
        "</table>\n",
        "<p>6 rows \u00d7 3 columns</p>\n",
        "</div>"
       ],
       "metadata": {},
       "output_type": "pyout",
       "prompt_number": 10,
       "text": [
        "            Austin  San Diego  Diff\n",
        "2012-07-16   101.5         73  28.5\n",
        "2012-07-17    98.0         78  20.0\n",
        "2012-07-18    95.0         77  18.0\n",
        "2012-07-19    99.0         78  21.0\n",
        "2012-07-20   100.0         78  22.0\n",
        "2012-07-21    99.0         77  22.0\n",
        "\n",
        "[6 rows x 3 columns]"
       ]
      }
     ],
     "prompt_number": 10
    },
    {
     "cell_type": "code",
     "collapsed": false,
     "input": [
      "del temps['Diff'] #get rid of column"
     ],
     "language": "python",
     "metadata": {},
     "outputs": [],
     "prompt_number": 11
    },
    {
     "cell_type": "code",
     "collapsed": false,
     "input": [
      "temps"
     ],
     "language": "python",
     "metadata": {},
     "outputs": [
      {
       "html": [
        "<div style=\"max-height:1000px;max-width:1500px;overflow:auto;\">\n",
        "<table border=\"1\" class=\"dataframe\">\n",
        "  <thead>\n",
        "    <tr style=\"text-align: right;\">\n",
        "      <th></th>\n",
        "      <th>Austin</th>\n",
        "      <th>San Diego</th>\n",
        "    </tr>\n",
        "  </thead>\n",
        "  <tbody>\n",
        "    <tr>\n",
        "      <th>2012-07-16</th>\n",
        "      <td> 101.5</td>\n",
        "      <td> 73</td>\n",
        "    </tr>\n",
        "    <tr>\n",
        "      <th>2012-07-17</th>\n",
        "      <td>  98.0</td>\n",
        "      <td> 78</td>\n",
        "    </tr>\n",
        "    <tr>\n",
        "      <th>2012-07-18</th>\n",
        "      <td>  95.0</td>\n",
        "      <td> 77</td>\n",
        "    </tr>\n",
        "    <tr>\n",
        "      <th>2012-07-19</th>\n",
        "      <td>  99.0</td>\n",
        "      <td> 78</td>\n",
        "    </tr>\n",
        "    <tr>\n",
        "      <th>2012-07-20</th>\n",
        "      <td> 100.0</td>\n",
        "      <td> 78</td>\n",
        "    </tr>\n",
        "    <tr>\n",
        "      <th>2012-07-21</th>\n",
        "      <td>  99.0</td>\n",
        "      <td> 77</td>\n",
        "    </tr>\n",
        "  </tbody>\n",
        "</table>\n",
        "<p>6 rows \u00d7 2 columns</p>\n",
        "</div>"
       ],
       "metadata": {},
       "output_type": "pyout",
       "prompt_number": 21,
       "text": [
        "            Austin  San Diego\n",
        "2012-07-16   101.5         73\n",
        "2012-07-17    98.0         78\n",
        "2012-07-18    95.0         77\n",
        "2012-07-19    99.0         78\n",
        "2012-07-20   100.0         78\n",
        "2012-07-21    99.0         77\n",
        "\n",
        "[6 rows x 2 columns]"
       ]
      }
     ],
     "prompt_number": 21
    },
    {
     "cell_type": "code",
     "collapsed": false,
     "input": [
      "temps.Austin #can use attribute . for column actions. smart"
     ],
     "language": "python",
     "metadata": {},
     "outputs": []
    },
    {
     "cell_type": "code",
     "collapsed": false,
     "input": [
      "temps.ix[2] #gives me all row values at index =2 \n",
      "temps.ix[2, 'Austin'] #returns scalar value\n",
      "temps.ix[2:, 'Austin'] #selection from column\n",
      "temps.ix[2:, ['San Diego', 'Austin']] #gives 2 on from selected columns in the order they are called"
     ],
     "language": "python",
     "metadata": {},
     "outputs": [
      {
       "html": [
        "<div style=\"max-height:1000px;max-width:1500px;overflow:auto;\">\n",
        "<table border=\"1\" class=\"dataframe\">\n",
        "  <thead>\n",
        "    <tr style=\"text-align: right;\">\n",
        "      <th></th>\n",
        "      <th>San Diego</th>\n",
        "      <th>Austin</th>\n",
        "    </tr>\n",
        "  </thead>\n",
        "  <tbody>\n",
        "    <tr>\n",
        "      <th>2012-07-18</th>\n",
        "      <td> 77</td>\n",
        "      <td>  95</td>\n",
        "    </tr>\n",
        "    <tr>\n",
        "      <th>2012-07-19</th>\n",
        "      <td> 78</td>\n",
        "      <td>  99</td>\n",
        "    </tr>\n",
        "    <tr>\n",
        "      <th>2012-07-20</th>\n",
        "      <td> 78</td>\n",
        "      <td> 100</td>\n",
        "    </tr>\n",
        "    <tr>\n",
        "      <th>2012-07-21</th>\n",
        "      <td> 77</td>\n",
        "      <td>  99</td>\n",
        "    </tr>\n",
        "  </tbody>\n",
        "</table>\n",
        "<p>4 rows \u00d7 2 columns</p>\n",
        "</div>"
       ],
       "metadata": {},
       "output_type": "pyout",
       "prompt_number": 12,
       "text": [
        "            San Diego  Austin\n",
        "2012-07-18         77      95\n",
        "2012-07-19         78      99\n",
        "2012-07-20         78     100\n",
        "2012-07-21         77      99\n",
        "\n",
        "[4 rows x 2 columns]"
       ]
      }
     ],
     "prompt_number": 12
    },
    {
     "cell_type": "code",
     "collapsed": false,
     "input": [
      "temps.mean() #means by column\n",
      "temps.mean(1) #means by row\n",
      "temps."
     ],
     "language": "python",
     "metadata": {},
     "outputs": [
      {
       "metadata": {},
       "output_type": "pyout",
       "prompt_number": 13,
       "text": [
        "Austin       98.750000\n",
        "San Diego    76.833333\n",
        "dtype: float64"
       ]
      }
     ],
     "prompt_number": 13
    },
    {
     "cell_type": "code",
     "collapsed": false,
     "input": [
      "temps - temps.mean() #subtract the col mean from each value (assigned correctly)"
     ],
     "language": "python",
     "metadata": {},
     "outputs": [
      {
       "html": [
        "<div style=\"max-height:1000px;max-width:1500px;overflow:auto;\">\n",
        "<table border=\"1\" class=\"dataframe\">\n",
        "  <thead>\n",
        "    <tr style=\"text-align: right;\">\n",
        "      <th></th>\n",
        "      <th>Austin</th>\n",
        "      <th>San Diego</th>\n",
        "    </tr>\n",
        "  </thead>\n",
        "  <tbody>\n",
        "    <tr>\n",
        "      <th>2012-07-16</th>\n",
        "      <td> 2.75</td>\n",
        "      <td>-3.833333</td>\n",
        "    </tr>\n",
        "    <tr>\n",
        "      <th>2012-07-17</th>\n",
        "      <td>-0.75</td>\n",
        "      <td> 1.166667</td>\n",
        "    </tr>\n",
        "    <tr>\n",
        "      <th>2012-07-18</th>\n",
        "      <td>-3.75</td>\n",
        "      <td> 0.166667</td>\n",
        "    </tr>\n",
        "    <tr>\n",
        "      <th>2012-07-19</th>\n",
        "      <td> 0.25</td>\n",
        "      <td> 1.166667</td>\n",
        "    </tr>\n",
        "    <tr>\n",
        "      <th>2012-07-20</th>\n",
        "      <td> 1.25</td>\n",
        "      <td> 1.166667</td>\n",
        "    </tr>\n",
        "    <tr>\n",
        "      <th>2012-07-21</th>\n",
        "      <td> 0.25</td>\n",
        "      <td> 0.166667</td>\n",
        "    </tr>\n",
        "  </tbody>\n",
        "</table>\n",
        "<p>6 rows \u00d7 2 columns</p>\n",
        "</div>"
       ],
       "metadata": {},
       "output_type": "pyout",
       "prompt_number": 14,
       "text": [
        "            Austin  San Diego\n",
        "2012-07-16    2.75  -3.833333\n",
        "2012-07-17   -0.75   1.166667\n",
        "2012-07-18   -3.75   0.166667\n",
        "2012-07-19    0.25   1.166667\n",
        "2012-07-20    1.25   1.166667\n",
        "2012-07-21    0.25   0.166667\n",
        "\n",
        "[6 rows x 2 columns]"
       ]
      }
     ],
     "prompt_number": 14
    },
    {
     "cell_type": "code",
     "collapsed": false,
     "input": [
      "temps.Austin.tolist()"
     ],
     "language": "python",
     "metadata": {},
     "outputs": [
      {
       "metadata": {},
       "output_type": "pyout",
       "prompt_number": 15,
       "text": [
        "[101.5, 98.0, 95.0, 99.0, 100.0, 99.0]"
       ]
      }
     ],
     "prompt_number": 15
    },
    {
     "cell_type": "code",
     "collapsed": false,
     "input": [
      "temps.column(0) = temps.Austin.tolist()"
     ],
     "language": "python",
     "metadata": {},
     "outputs": [
      {
       "ename": "SyntaxError",
       "evalue": "can't assign to function call (<ipython-input-16-dd469ae0c4a1>, line 1)",
       "output_type": "pyerr",
       "traceback": [
        "\u001b[0;36m  File \u001b[0;32m\"<ipython-input-16-dd469ae0c4a1>\"\u001b[0;36m, line \u001b[0;32m1\u001b[0m\n\u001b[0;31m    temps.column(0) = temps.Austin.tolist()\u001b[0m\n\u001b[0;31mSyntaxError\u001b[0m\u001b[0;31m:\u001b[0m can't assign to function call\n"
       ]
      }
     ],
     "prompt_number": 16
    },
    {
     "cell_type": "code",
     "collapsed": false,
     "input": [
      "temps.columns"
     ],
     "language": "python",
     "metadata": {},
     "outputs": [
      {
       "metadata": {},
       "output_type": "pyout",
       "prompt_number": 20,
       "text": [
        "Index([u'Austin', u'San Diego'], dtype='object')"
       ]
      }
     ],
     "prompt_number": 20
    },
    {
     "cell_type": "code",
     "collapsed": false,
     "input": [],
     "language": "python",
     "metadata": {},
     "outputs": []
    }
   ],
   "metadata": {}
  }
 ]
}