{
 "metadata": {
  "name": "",
  "signature": "sha256:a314d1ec6266a74b0fcc9a5c0db32932bea0738cebf3dc5ed6a8c7653e3c48a5"
 },
 "nbformat": 3,
 "nbformat_minor": 0,
 "worksheets": [
  {
   "cells": [
    {
     "cell_type": "code",
     "collapsed": false,
     "input": [
      "import numpy as np\n",
      "from pandas import Series, DataFrame\n",
      "import pandas as pd"
     ],
     "language": "python",
     "metadata": {},
     "outputs": [],
     "prompt_number": 2
    },
    {
     "cell_type": "code",
     "collapsed": false,
     "input": [
      "index = ['a', 'b', 'c', 'd', 'e']\n",
      "s = Series(np.arange(5), index=index)\n",
      "s"
     ],
     "language": "python",
     "metadata": {},
     "outputs": [
      {
       "metadata": {},
       "output_type": "pyout",
       "prompt_number": 4,
       "text": [
        "a    0\n",
        "b    1\n",
        "c    2\n",
        "d    3\n",
        "e    4\n",
        "dtype: int64"
       ]
      }
     ],
     "prompt_number": 4
    },
    {
     "cell_type": "code",
     "collapsed": false,
     "input": [
      "s[[1,2,0]]"
     ],
     "language": "python",
     "metadata": {},
     "outputs": [
      {
       "metadata": {},
       "output_type": "pyout",
       "prompt_number": 8,
       "text": [
        "b    1\n",
        "c    2\n",
        "a    0\n",
        "dtype: int64"
       ]
      }
     ],
     "prompt_number": 8
    },
    {
     "cell_type": "code",
     "collapsed": false,
     "input": [
      "dates = pd.date_range('2012-07-16', '2012-07-21')\n",
      "atemps = Series([101.5, 98, 95, 99, 100, 99], index = dates)\n",
      "atemps"
     ],
     "language": "python",
     "metadata": {},
     "outputs": [
      {
       "metadata": {},
       "output_type": "pyout",
       "prompt_number": 11,
       "text": [
        "2012-07-16    101.5\n",
        "2012-07-17     98.0\n",
        "2012-07-18     95.0\n",
        "2012-07-19     99.0\n",
        "2012-07-20    100.0\n",
        "2012-07-21     99.0\n",
        "Freq: D, dtype: float64"
       ]
      }
     ],
     "prompt_number": 11
    },
    {
     "cell_type": "code",
     "collapsed": false,
     "input": [
      "sdtemps= Series([73, 78, 77, 78, 78, 77], index=dates)\n",
      "temps = DataFrame({'Austin': atemps, 'San Diego': sdtemps})\n",
      "temps"
     ],
     "language": "python",
     "metadata": {},
     "outputs": [
      {
       "html": [
        "<div style=\"max-height:1000px;max-width:1500px;overflow:auto;\">\n",
        "<table border=\"1\" class=\"dataframe\">\n",
        "  <thead>\n",
        "    <tr style=\"text-align: right;\">\n",
        "      <th></th>\n",
        "      <th>Austin</th>\n",
        "      <th>San Diego</th>\n",
        "    </tr>\n",
        "  </thead>\n",
        "  <tbody>\n",
        "    <tr>\n",
        "      <th>2012-07-16</th>\n",
        "      <td> 101.5</td>\n",
        "      <td> 73</td>\n",
        "    </tr>\n",
        "    <tr>\n",
        "      <th>2012-07-17</th>\n",
        "      <td>  98.0</td>\n",
        "      <td> 78</td>\n",
        "    </tr>\n",
        "    <tr>\n",
        "      <th>2012-07-18</th>\n",
        "      <td>  95.0</td>\n",
        "      <td> 77</td>\n",
        "    </tr>\n",
        "    <tr>\n",
        "      <th>2012-07-19</th>\n",
        "      <td>  99.0</td>\n",
        "      <td> 78</td>\n",
        "    </tr>\n",
        "    <tr>\n",
        "      <th>2012-07-20</th>\n",
        "      <td> 100.0</td>\n",
        "      <td> 78</td>\n",
        "    </tr>\n",
        "    <tr>\n",
        "      <th>2012-07-21</th>\n",
        "      <td>  99.0</td>\n",
        "      <td> 77</td>\n",
        "    </tr>\n",
        "  </tbody>\n",
        "</table>\n",
        "<p>6 rows \u00d7 2 columns</p>\n",
        "</div>"
       ],
       "metadata": {},
       "output_type": "pyout",
       "prompt_number": 14,
       "text": [
        "            Austin  San Diego\n",
        "2012-07-16   101.5         73\n",
        "2012-07-17    98.0         78\n",
        "2012-07-18    95.0         77\n",
        "2012-07-19    99.0         78\n",
        "2012-07-20   100.0         78\n",
        "2012-07-21    99.0         77\n",
        "\n",
        "[6 rows x 2 columns]"
       ]
      }
     ],
     "prompt_number": 14
    },
    {
     "cell_type": "code",
     "collapsed": false,
     "input": [
      "temps ['Diff'] = temps['Austin'] - temps['San Diego']\n",
      "temps"
     ],
     "language": "python",
     "metadata": {},
     "outputs": [
      {
       "html": [
        "<div style=\"max-height:1000px;max-width:1500px;overflow:auto;\">\n",
        "<table border=\"1\" class=\"dataframe\">\n",
        "  <thead>\n",
        "    <tr style=\"text-align: right;\">\n",
        "      <th></th>\n",
        "      <th>Austin</th>\n",
        "      <th>San Diego</th>\n",
        "      <th>Diff</th>\n",
        "    </tr>\n",
        "  </thead>\n",
        "  <tbody>\n",
        "    <tr>\n",
        "      <th>2012-07-16</th>\n",
        "      <td> 101.5</td>\n",
        "      <td> 73</td>\n",
        "      <td> 28.5</td>\n",
        "    </tr>\n",
        "    <tr>\n",
        "      <th>2012-07-17</th>\n",
        "      <td>  98.0</td>\n",
        "      <td> 78</td>\n",
        "      <td> 20.0</td>\n",
        "    </tr>\n",
        "    <tr>\n",
        "      <th>2012-07-18</th>\n",
        "      <td>  95.0</td>\n",
        "      <td> 77</td>\n",
        "      <td> 18.0</td>\n",
        "    </tr>\n",
        "    <tr>\n",
        "      <th>2012-07-19</th>\n",
        "      <td>  99.0</td>\n",
        "      <td> 78</td>\n",
        "      <td> 21.0</td>\n",
        "    </tr>\n",
        "    <tr>\n",
        "      <th>2012-07-20</th>\n",
        "      <td> 100.0</td>\n",
        "      <td> 78</td>\n",
        "      <td> 22.0</td>\n",
        "    </tr>\n",
        "    <tr>\n",
        "      <th>2012-07-21</th>\n",
        "      <td>  99.0</td>\n",
        "      <td> 77</td>\n",
        "      <td> 22.0</td>\n",
        "    </tr>\n",
        "  </tbody>\n",
        "</table>\n",
        "<p>6 rows \u00d7 3 columns</p>\n",
        "</div>"
       ],
       "metadata": {},
       "output_type": "pyout",
       "prompt_number": 18,
       "text": [
        "            Austin  San Diego  Diff\n",
        "2012-07-16   101.5         73  28.5\n",
        "2012-07-17    98.0         78  20.0\n",
        "2012-07-18    95.0         77  18.0\n",
        "2012-07-19    99.0         78  21.0\n",
        "2012-07-20   100.0         78  22.0\n",
        "2012-07-21    99.0         77  22.0\n",
        "\n",
        "[6 rows x 3 columns]"
       ]
      }
     ],
     "prompt_number": 18
    },
    {
     "cell_type": "code",
     "collapsed": false,
     "input": [
      "del temps['Diff']"
     ],
     "language": "python",
     "metadata": {},
     "outputs": [],
     "prompt_number": 20
    },
    {
     "cell_type": "code",
     "collapsed": false,
     "input": [
      "temps"
     ],
     "language": "python",
     "metadata": {},
     "outputs": [
      {
       "html": [
        "<div style=\"max-height:1000px;max-width:1500px;overflow:auto;\">\n",
        "<table border=\"1\" class=\"dataframe\">\n",
        "  <thead>\n",
        "    <tr style=\"text-align: right;\">\n",
        "      <th></th>\n",
        "      <th>Austin</th>\n",
        "      <th>San Diego</th>\n",
        "    </tr>\n",
        "  </thead>\n",
        "  <tbody>\n",
        "    <tr>\n",
        "      <th>2012-07-16</th>\n",
        "      <td> 101.5</td>\n",
        "      <td> 73</td>\n",
        "    </tr>\n",
        "    <tr>\n",
        "      <th>2012-07-17</th>\n",
        "      <td>  98.0</td>\n",
        "      <td> 78</td>\n",
        "    </tr>\n",
        "    <tr>\n",
        "      <th>2012-07-18</th>\n",
        "      <td>  95.0</td>\n",
        "      <td> 77</td>\n",
        "    </tr>\n",
        "    <tr>\n",
        "      <th>2012-07-19</th>\n",
        "      <td>  99.0</td>\n",
        "      <td> 78</td>\n",
        "    </tr>\n",
        "    <tr>\n",
        "      <th>2012-07-20</th>\n",
        "      <td> 100.0</td>\n",
        "      <td> 78</td>\n",
        "    </tr>\n",
        "    <tr>\n",
        "      <th>2012-07-21</th>\n",
        "      <td>  99.0</td>\n",
        "      <td> 77</td>\n",
        "    </tr>\n",
        "  </tbody>\n",
        "</table>\n",
        "<p>6 rows \u00d7 2 columns</p>\n",
        "</div>"
       ],
       "metadata": {},
       "output_type": "pyout",
       "prompt_number": 21,
       "text": [
        "            Austin  San Diego\n",
        "2012-07-16   101.5         73\n",
        "2012-07-17    98.0         78\n",
        "2012-07-18    95.0         77\n",
        "2012-07-19    99.0         78\n",
        "2012-07-20   100.0         78\n",
        "2012-07-21    99.0         77\n",
        "\n",
        "[6 rows x 2 columns]"
       ]
      }
     ],
     "prompt_number": 21
    },
    {
     "cell_type": "code",
     "collapsed": false,
     "input": [
      "temps.ix[2:, ['San Diego', 'Austin']]"
     ],
     "language": "python",
     "metadata": {},
     "outputs": [
      {
       "html": [
        "<div style=\"max-height:1000px;max-width:1500px;overflow:auto;\">\n",
        "<table border=\"1\" class=\"dataframe\">\n",
        "  <thead>\n",
        "    <tr style=\"text-align: right;\">\n",
        "      <th></th>\n",
        "      <th>San Diego</th>\n",
        "      <th>Austin</th>\n",
        "    </tr>\n",
        "  </thead>\n",
        "  <tbody>\n",
        "    <tr>\n",
        "      <th>2012-07-18</th>\n",
        "      <td> 77</td>\n",
        "      <td>  95</td>\n",
        "    </tr>\n",
        "    <tr>\n",
        "      <th>2012-07-19</th>\n",
        "      <td> 78</td>\n",
        "      <td>  99</td>\n",
        "    </tr>\n",
        "    <tr>\n",
        "      <th>2012-07-20</th>\n",
        "      <td> 78</td>\n",
        "      <td> 100</td>\n",
        "    </tr>\n",
        "    <tr>\n",
        "      <th>2012-07-21</th>\n",
        "      <td> 77</td>\n",
        "      <td>  99</td>\n",
        "    </tr>\n",
        "  </tbody>\n",
        "</table>\n",
        "<p>4 rows \u00d7 2 columns</p>\n",
        "</div>"
       ],
       "metadata": {},
       "output_type": "pyout",
       "prompt_number": 24,
       "text": [
        "            San Diego  Austin\n",
        "2012-07-18         77      95\n",
        "2012-07-19         78      99\n",
        "2012-07-20         78     100\n",
        "2012-07-21         77      99\n",
        "\n",
        "[4 rows x 2 columns]"
       ]
      }
     ],
     "prompt_number": 24
    },
    {
     "cell_type": "code",
     "collapsed": false,
     "input": [
      "temps.mean()"
     ],
     "language": "python",
     "metadata": {},
     "outputs": [
      {
       "ename": "ValueError",
       "evalue": "No axis named 2 for object type <class 'pandas.core.frame.DataFrame'>",
       "output_type": "pyerr",
       "traceback": [
        "\u001b[0;31m---------------------------------------------------------------------------\u001b[0m\n\u001b[0;31mValueError\u001b[0m                                Traceback (most recent call last)",
        "\u001b[0;32m<ipython-input-27-cd98273ab7b9>\u001b[0m in \u001b[0;36m<module>\u001b[0;34m()\u001b[0m\n\u001b[0;32m----> 1\u001b[0;31m \u001b[0mtemps\u001b[0m\u001b[0;34m.\u001b[0m\u001b[0mmean\u001b[0m\u001b[0;34m(\u001b[0m\u001b[0;36m2\u001b[0m\u001b[0;34m)\u001b[0m\u001b[0;34m\u001b[0m\u001b[0m\n\u001b[0m",
        "\u001b[0;32m/Users/abigaildobyns/Library/Enthought/Canopy_64bit/User/lib/python2.7/site-packages/pandas/core/generic.pyc\u001b[0m in \u001b[0;36mstat_func\u001b[0;34m(self, axis, skipna, level, numeric_only, **kwargs)\u001b[0m\n\u001b[1;32m   3488\u001b[0m                                               skipna=skipna)\n\u001b[1;32m   3489\u001b[0m                 return self._reduce(f, axis=axis,\n\u001b[0;32m-> 3490\u001b[0;31m                                     skipna=skipna, numeric_only=numeric_only)\n\u001b[0m\u001b[1;32m   3491\u001b[0m             \u001b[0mstat_func\u001b[0m\u001b[0;34m.\u001b[0m\u001b[0m__name__\u001b[0m \u001b[0;34m=\u001b[0m \u001b[0mname\u001b[0m\u001b[0;34m\u001b[0m\u001b[0m\n\u001b[1;32m   3492\u001b[0m             \u001b[0;32mreturn\u001b[0m \u001b[0mstat_func\u001b[0m\u001b[0;34m\u001b[0m\u001b[0m\n",
        "\u001b[0;32m/Users/abigaildobyns/Library/Enthought/Canopy_64bit/User/lib/python2.7/site-packages/pandas/core/frame.pyc\u001b[0m in \u001b[0;36m_reduce\u001b[0;34m(self, op, axis, skipna, numeric_only, filter_type, **kwds)\u001b[0m\n\u001b[1;32m   3959\u001b[0m     def _reduce(self, op, axis=0, skipna=True, numeric_only=None,\n\u001b[1;32m   3960\u001b[0m                 filter_type=None, **kwds):\n\u001b[0;32m-> 3961\u001b[0;31m         \u001b[0maxis\u001b[0m \u001b[0;34m=\u001b[0m \u001b[0mself\u001b[0m\u001b[0;34m.\u001b[0m\u001b[0m_get_axis_number\u001b[0m\u001b[0;34m(\u001b[0m\u001b[0maxis\u001b[0m\u001b[0;34m)\u001b[0m\u001b[0;34m\u001b[0m\u001b[0m\n\u001b[0m\u001b[1;32m   3962\u001b[0m         \u001b[0mf\u001b[0m \u001b[0;34m=\u001b[0m \u001b[0;32mlambda\u001b[0m \u001b[0mx\u001b[0m\u001b[0;34m:\u001b[0m \u001b[0mop\u001b[0m\u001b[0;34m(\u001b[0m\u001b[0mx\u001b[0m\u001b[0;34m,\u001b[0m \u001b[0maxis\u001b[0m\u001b[0;34m=\u001b[0m\u001b[0maxis\u001b[0m\u001b[0;34m,\u001b[0m \u001b[0mskipna\u001b[0m\u001b[0;34m=\u001b[0m\u001b[0mskipna\u001b[0m\u001b[0;34m,\u001b[0m \u001b[0;34m**\u001b[0m\u001b[0mkwds\u001b[0m\u001b[0;34m)\u001b[0m\u001b[0;34m\u001b[0m\u001b[0m\n\u001b[1;32m   3963\u001b[0m         \u001b[0mlabels\u001b[0m \u001b[0;34m=\u001b[0m \u001b[0mself\u001b[0m\u001b[0;34m.\u001b[0m\u001b[0m_get_agg_axis\u001b[0m\u001b[0;34m(\u001b[0m\u001b[0maxis\u001b[0m\u001b[0;34m)\u001b[0m\u001b[0;34m\u001b[0m\u001b[0m\n",
        "\u001b[0;32m/Users/abigaildobyns/Library/Enthought/Canopy_64bit/User/lib/python2.7/site-packages/pandas/core/generic.pyc\u001b[0m in \u001b[0;36m_get_axis_number\u001b[0;34m(self, axis)\u001b[0m\n\u001b[1;32m    293\u001b[0m                 \u001b[0;32mpass\u001b[0m\u001b[0;34m\u001b[0m\u001b[0m\n\u001b[1;32m    294\u001b[0m         raise ValueError('No axis named {0} for object type {1}'\n\u001b[0;32m--> 295\u001b[0;31m                          .format(axis, type(self)))\n\u001b[0m\u001b[1;32m    296\u001b[0m \u001b[0;34m\u001b[0m\u001b[0m\n\u001b[1;32m    297\u001b[0m     \u001b[0;32mdef\u001b[0m \u001b[0m_get_axis_name\u001b[0m\u001b[0;34m(\u001b[0m\u001b[0mself\u001b[0m\u001b[0;34m,\u001b[0m \u001b[0maxis\u001b[0m\u001b[0;34m)\u001b[0m\u001b[0;34m:\u001b[0m\u001b[0;34m\u001b[0m\u001b[0m\n",
        "\u001b[0;31mValueError\u001b[0m: No axis named 2 for object type <class 'pandas.core.frame.DataFrame'>"
       ]
      }
     ],
     "prompt_number": 27
    },
    {
     "cell_type": "code",
     "collapsed": false,
     "input": [
      "pd.read_csv"
     ],
     "language": "python",
     "metadata": {},
     "outputs": []
    }
   ],
   "metadata": {}
  }
 ]
}