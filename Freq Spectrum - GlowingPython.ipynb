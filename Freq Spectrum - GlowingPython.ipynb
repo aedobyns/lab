{
 "metadata": {
  "celltoolbar": "Raw Cell Format",
  "name": "",
  "signature": "sha256:911da4e3eea85a9afd941c3aa28eeaac354763619215defa813dfb40f60e3113"
 },
 "nbformat": 3,
 "nbformat_minor": 0,
 "worksheets": [
  {
   "cells": [
    {
     "cell_type": "markdown",
     "metadata": {},
     "source": [
      "How to plot the frequency spectrum with scipy\n",
      "\n",
      "(http://glowingpython.blogspot.com/2011/08/how-to-plot-frequency-spectrum-with.html) Wednesday, August 3, 2011\n",
      "\n",
      "Spectrum analysis is the process of determining the frequency domain representation of a time domain signal and most commonly employs the Fourier transform. The Discrete Fourier Transform (DFT) is used to determine the frequency content of signals and the Fast Fourier Transform (FFT) is an efficient method for calculating the DFT. Scipy implements FFT and in this post we will see a simple example of spectrum analysis:"
     ]
    },
    {
     "cell_type": "code",
     "collapsed": false,
     "input": [
      "from numpy import sin, linspace, pi\n",
      "from pylab import plot, show, title, xlabel, ylabel, subplot\n",
      "from scipy import fft, arange"
     ],
     "language": "python",
     "metadata": {},
     "outputs": [],
     "prompt_number": 1
    },
    {
     "cell_type": "code",
     "collapsed": false,
     "input": [
      "def plotSpectrum(y,Fs):\n",
      " \"\"\"\n",
      " Plots a Single-Sided Amplitude Spectrum of y(t).\n",
      " \"\"\"\n",
      " n = len(y) # length of the signal\n",
      " k = arange(n) # make a list of integers from 0 to length\n",
      " T = n/Fs  # divide length and the sampling rate = time\n",
      " frq = k/T # freq = integer list / time\n",
      "\"\"\"\n",
      "if you want to do a double-sided spectrum of y(t), comment\n",
      "the next line of code\n",
      "\"\"\"\n",
      " frq = frq[range(n/2)]\n",
      "\n",
      "# fft computing and normalization\n",
      " Y = fft(y)/n \n",
      "\"\"\"\n",
      "if you want to do a double-sided spectrum of y(t), comment\n",
      "the next line of code\n",
      "\"\"\"\n",
      " Y = Y[range(n/2)]\n",
      " \n",
      " plot(frq,abs(Y),'r') # plotting the spectrum\n",
      " xlabel('Freq (Hz)')\n",
      " ylabel('|Y(freq)|')"
     ],
     "language": "python",
     "metadata": {},
     "outputs": [],
     "prompt_number": 43
    },
    {
     "cell_type": "code",
     "collapsed": false,
     "input": [
      "Fs = 300.0;  # sampling rate (samples per second)\n",
      "Ts = 1.0/Fs; # sampling interval\n",
      "t = arange(0,1,Ts) # time vector\n",
      "\n",
      "ff = 100;   # frequency of the signal\n",
      "y = sin(2*pi*ff*t)   #oscillation mathematical definition"
     ],
     "language": "python",
     "metadata": {},
     "outputs": [],
     "prompt_number": 42
    },
    {
     "cell_type": "code",
     "collapsed": false,
     "input": [
      "# plotting the sin wave and the spectrum plot\n",
      "subplot(2,1,1)\n",
      "plot(t,y)\n",
      "xlabel('Time')\n",
      "ylabel('Amplitude')\n",
      "subplot(2,1,2)\n",
      "plotSpectrum(y,Fs)\n",
      "show()"
     ],
     "language": "python",
     "metadata": {},
     "outputs": [],
     "prompt_number": 44
    },
    {
     "cell_type": "code",
     "collapsed": false,
     "input": [],
     "language": "python",
     "metadata": {},
     "outputs": []
    }
   ],
   "metadata": {}
  }
 ]
}