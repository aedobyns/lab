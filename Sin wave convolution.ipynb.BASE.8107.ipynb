{
 "metadata": {
  "name": "",
  "signature": "sha256:1db24b73bff281d3f74f54e6a32e0a957d3980ee644b421b7398395b07d05f1a"
 },
 "nbformat": 3,
 "nbformat_minor": 0,
 "worksheets": [
  {
   "cells": [
    {
     "cell_type": "code",
     "collapsed": false,
     "input": [
      "import numpy as np\n",
      "import scipy\n",
      "from scipy import signal\n",
      "import matplotlib.pyplot as plt\n",
      "import sys\n",
      "import time as t\n",
      "import matplotlib.patches as patches"
     ],
     "language": "python",
     "metadata": {},
     "outputs": [],
     "prompt_number": 54
    },
    {
     "cell_type": "code",
     "collapsed": false,
     "input": [
      "time = np.arange(5000)\n",
      "wave1 = sin(time)\n",
      "wave2= sin(10*time)\n"
     ],
     "language": "python",
     "metadata": {},
     "outputs": [],
     "prompt_number": 61
    },
    {
     "cell_type": "code",
     "collapsed": false,
     "input": [
      "wave = signal.convolve(wave1,wave2)"
     ],
     "language": "python",
     "metadata": {},
     "outputs": [],
     "prompt_number": 62
    },
    {
     "cell_type": "code",
     "collapsed": false,
     "input": [
      "plt.subplot(311)\n",
      "plt.plot(wave1, color = 'r')\n",
      "plt.title('Wave1')\n",
      "\n",
      "plt.subplot(312)\n",
      "plt.plot(wave2,color = 'k')\n",
      "plt.title('wave2')\n",
      "\n",
      "plt.subplot(313)\n",
      "plt.plot(wave[:5000], color ='b')\n",
      "plt.title('additive wave')\n",
      "\n",
      "plt.show()"
     ],
     "language": "python",
     "metadata": {},
     "outputs": [],
     "prompt_number": 64
    },
    {
     "cell_type": "code",
     "collapsed": false,
     "input": [
      "n = len(wave[:5000])\n",
      "k = np.arange(n)\n",
      "T = n/4000\n",
      "frq = k #/T\n",
      "frq = frq[range(n/2)]\n",
      "\n",
      "Y = fft(wave[:5000])/n\n",
      "Y = Y[range(n/2)]\n",
      "\n",
      "plt.plot(abs(Y))\n",
      "plt.xlabel('Freq (hz)')\n",
      "plt.ylabel('|Y(freq)|')\n",
      "#plt.xlim(xmax = 60, xmin= -1)\n",
      "#plt.ylim(ymax = max(Y))\n",
      "plt.title('Power Plot (Low freq)')\n",
      "plt.show()"
     ],
     "language": "python",
     "metadata": {},
     "outputs": [],
     "prompt_number": 65
    },
    {
     "cell_type": "code",
     "collapsed": false,
     "input": [
      "Y"
     ],
     "language": "python",
     "metadata": {},
     "outputs": [
      {
       "metadata": {},
       "output_type": "pyout",
       "prompt_number": 35,
       "text": [
        "array([ 0.00010116 +0.00000000e+00j,  0.00010116 +1.93467393e-07j,\n",
        "        0.00010116 +3.86935485e-07j, ...,  0.00053779 -2.55183870e-06j,\n",
        "        0.00053778 -1.70118930e-06j,  0.00053777 -8.50583701e-07j])"
       ]
      }
     ],
     "prompt_number": 35
    },
    {
     "cell_type": "code",
     "collapsed": false,
     "input": [
      "frq"
     ],
     "language": "python",
     "metadata": {},
     "outputs": [
      {
       "metadata": {},
       "output_type": "pyout",
       "prompt_number": 36,
       "text": [
        "array([   0,    1,    2, ..., 2497, 2498, 2499])"
       ]
      }
     ],
     "prompt_number": 36
    },
    {
     "cell_type": "code",
     "collapsed": false,
     "input": [],
     "language": "python",
     "metadata": {},
     "outputs": []
    }
   ],
   "metadata": {}
  }
 ]
}