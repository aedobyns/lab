{
 "metadata": {
  "name": "",
  "signature": "sha256:d4c0d0244379344c7ec20a5a48040aba3bf4c805596e813a80f263b7fd3e5f81"
 },
 "nbformat": 3,
 "nbformat_minor": 0,
 "worksheets": [
  {
   "cells": [
    {
     "cell_type": "code",
     "collapsed": false,
     "input": [
      "import numpy as np\n",
      "import scipy\n",
      "from scipy import signal\n",
      "import matplotlib.pyplot as plt"
     ],
     "language": "python",
     "metadata": {},
     "outputs": [],
     "prompt_number": 28
    },
    {
     "cell_type": "markdown",
     "metadata": {},
     "source": [
      "np.loadtxt MUST have the unpack=True or else it become unhappy"
     ]
    },
    {
     "cell_type": "code",
     "collapsed": false,
     "input": [
      "time, data = np.loadtxt(\"/Users/abigaildobyns/Dropbox/Wilson_lab_papers/Abby/data/2014-29-04rat56-ECG.txt\", delimiter=\"\\t\", usecols=(0,1),  unpack=True)\n",
      "widths = np.loadtxt(\"/Users/abigaildobyns/Dropbox/Wilson_lab_papers/Abby/data/widths.txt\", delimiter= \"\\t\", unpack=True)"
     ],
     "language": "python",
     "metadata": {},
     "outputs": [],
     "prompt_number": 29
    },
    {
     "cell_type": "code",
     "collapsed": false,
     "input": [
      "time\n",
      "widths"
     ],
     "language": "python",
     "metadata": {},
     "outputs": [
      {
       "metadata": {},
       "output_type": "pyout",
       "prompt_number": 30,
       "text": [
        "array([ 0.01225,  0.01225,  0.0122 ,  0.0125 ,  0.0123 ,  0.0123 ,\n",
        "        0.012  ,  0.0123 ,  0.012  ,  0.0122 ,  0.0122 ,  0.0123 ,\n",
        "        0.0123 ,  0.0123 ,  0.0122 ,  0.0123 ,  0.012  ,  0.0122 ,\n",
        "        0.0122 ,  0.0123 ,  0.012  ,  0.0122 ,  0.012  ,  0.0125 ,\n",
        "        0.012  ,  0.0125 ,  0.0125 ,  0.0122 ,  0.0122 ,  0.0122 ])"
       ]
      }
     ],
     "prompt_number": 30
    },
    {
     "cell_type": "code",
     "collapsed": false,
     "input": [
      "print data"
     ],
     "language": "python",
     "metadata": {},
     "outputs": [
      {
       "output_type": "stream",
       "stream": "stdout",
       "text": [
        "[ 0.099  0.334  0.557 ..., -0.022 -0.024 -0.025]\n"
       ]
      }
     ],
     "prompt_number": 31
    },
    {
     "cell_type": "code",
     "collapsed": false,
     "input": [
      "def savitzky_golay(y, window_size, order, deriv=0, rate=1):\n",
      "    r\"\"\"Smooth (and optionally differentiate) data with a Savitzky-Golay filter.\n",
      "    The Savitzky-Golay filter removes high frequency noise from data.\n",
      "    It has the advantage of preserving the original shape and\n",
      "    features of the signal better than other types of filtering\n",
      "    approaches, such as moving averages techniques.\n",
      "    Parameters\n",
      "    ----------\n",
      "    y : array_like, shape (N,)\n",
      "        the values of the time history of the signal.\n",
      "    window_size : int\n",
      "        the length of the window. Must be an odd integer number.\n",
      "    order : int\n",
      "        the order of the polynomial used in the filtering.\n",
      "        Must be less then `window_size` - 1.\n",
      "    deriv: int\n",
      "        the order of the derivative to compute (default = 0 means only smoothing)\n",
      "    Returns\n",
      "    -------\n",
      "    ys : ndarray, shape (N)\n",
      "        the smoothed signal (or it's n-th derivative).\n",
      "    Notes\n",
      "    -----\n",
      "    The Savitzky-Golay is a type of low-pass filter, particularly\n",
      "    suited for smoothing noisy data. The main idea behind this\n",
      "    approach is to make for each point a least-square fit with a\n",
      "    polynomial of high order over a odd-sized window centered at\n",
      "    the point.\n",
      "    Examples\n",
      "    --------\n",
      "    t = np.linspace(-4, 4, 500)\n",
      "    y = np.exp( -t**2 ) + np.random.normal(0, 0.05, t.shape)\n",
      "    ysg = savitzky_golay(y, window_size=31, order=4)\n",
      "    import matplotlib.pyplot as plt\n",
      "    plt.plot(t, y, label='Noisy signal')\n",
      "    plt.plot(t, np.exp(-t**2), 'k', lw=1.5, label='Original signal')\n",
      "    plt.plot(t, ysg, 'r', label='Filtered signal')\n",
      "    plt.legend()\n",
      "    plt.show()\n",
      "    References\n",
      "    ----------\n",
      "    .. [1] A. Savitzky, M. J. E. Golay, Smoothing and Differentiation of\n",
      "       Data by Simplified Least Squares Procedures. Analytical\n",
      "       Chemistry, 1964, 36 (8), pp 1627-1639.\n",
      "    .. [2] Numerical Recipes 3rd Edition: The Art of Scientific Computing\n",
      "       W.H. Press, S.A. Teukolsky, W.T. Vetterling, B.P. Flannery\n",
      "       Cambridge University Press ISBN-13: 9780521880688\n",
      "    \"\"\"\n",
      "    import numpy as np\n",
      "    from math import factorial\n",
      "\n",
      "    try:\n",
      "        window_size = np.abs(np.int(window_size))\n",
      "        order = np.abs(np.int(order))\n",
      "    except ValueError, msg:\n",
      "        raise ValueError(\"window_size and order have to be of type int\")\n",
      "    if window_size % 2 != 1 or window_size < 1:\n",
      "        raise TypeError(\"window_size size must be a positive odd number\")\n",
      "    if window_size < order + 2:\n",
      "        raise TypeError(\"window_size is too small for the polynomials order\")\n",
      "    order_range = range(order+1)\n",
      "    half_window = (window_size -1) // 2\n",
      "    # precompute coefficients\n",
      "    b = np.mat([[k**i for i in order_range] for k in range(-half_window, half_window+1)])\n",
      "    m = np.linalg.pinv(b).A[deriv] * rate**deriv * factorial(deriv)\n",
      "    # pad the signal at the extremes with\n",
      "    # values taken from the signal itself\n",
      "    firstvals = y[0] - np.abs( y[1:half_window+1][::-1] - y[0] )\n",
      "    lastvals = y[-1] + np.abs(y[-half_window-1:-1][::-1] - y[-1])\n",
      "    y = np.concatenate((firstvals, y, lastvals))\n",
      "    return np.convolve( m[::-1], y, mode='valid')"
     ],
     "language": "python",
     "metadata": {},
     "outputs": [],
     "prompt_number": 32
    },
    {
     "cell_type": "code",
     "collapsed": false,
     "input": [
      "data_trans = abs(data)\n",
      "data_trans =savitzky_golay(data_trans, 47, 4)"
     ],
     "language": "python",
     "metadata": {},
     "outputs": [],
     "prompt_number": 38
    },
    {
     "cell_type": "markdown",
     "metadata": {},
     "source": [
      "svitzky-golay settings for ECG: window = 41, poly= 4. Gives AD a smooth, 1 peak for QRS wave"
     ]
    },
    {
     "cell_type": "code",
     "collapsed": false,
     "input": [
      "plt.plot(time,data_trans, 'r')\n",
      "plt.xlabel('time')\n",
      "plt.ylabel('mV')\n",
      "plt.show()"
     ],
     "language": "python",
     "metadata": {},
     "outputs": [],
     "prompt_number": 39
    },
    {
     "cell_type": "code",
     "collapsed": false,
     "input": [
      "peaks=scipy.signal.find_peaks_cwt(data,widths,noise_perc=1)\n",
      "peaks"
     ],
     "language": "python",
     "metadata": {},
     "outputs": [
      {
       "metadata": {},
       "output_type": "pyout",
       "prompt_number": 48,
       "text": [
        "[828,\n",
        " 1663,\n",
        " 2496,\n",
        " 3338,\n",
        " 4175,\n",
        " 5011,\n",
        " 5847,\n",
        " 6681,\n",
        " 7514,\n",
        " 8348,\n",
        " 9182,\n",
        " 10021,\n",
        " 10857,\n",
        " 11690,\n",
        " 12522,\n",
        " 13353,\n",
        " 14187,\n",
        " 15019,\n",
        " 15850,\n",
        " 16682,\n",
        " 17514,\n",
        " 18344,\n",
        " 19174,\n",
        " 20003,\n",
        " 20831,\n",
        " 21660,\n",
        " 23318,\n",
        " 24146,\n",
        " 24974,\n",
        " 25801,\n",
        " 26628,\n",
        " 27453,\n",
        " 28278,\n",
        " 29102,\n",
        " 29930,\n",
        " 30756,\n",
        " 31581,\n",
        " 32405,\n",
        " 33228,\n",
        " 34052,\n",
        " 34875,\n",
        " 35701,\n",
        " 36526,\n",
        " 38174,\n",
        " 38998,\n",
        " 39821,\n",
        " 40643,\n",
        " 41466,\n",
        " 42291,\n",
        " 43115,\n",
        " 43937,\n",
        " 44760,\n",
        " 45581,\n",
        " 46403,\n",
        " 47223,\n",
        " 48042,\n",
        " 48868,\n",
        " 49690,\n",
        " 50511,\n",
        " 52149,\n",
        " 52968,\n",
        " 53786,\n",
        " 54603,\n",
        " 55426,\n",
        " 56247,\n",
        " 57066,\n",
        " 57884,\n",
        " 58702,\n",
        " 59519,\n",
        " 60337,\n",
        " 61153,\n",
        " 61975,\n",
        " 62795,\n",
        " 63613,\n",
        " 64430,\n",
        " 65248,\n",
        " 66064,\n",
        " 66882,\n",
        " 67698,\n",
        " 68521,\n",
        " 69342,\n",
        " 70162,\n",
        " 70980,\n",
        " 71797,\n",
        " 72615,\n",
        " 73433,\n",
        " 74256,\n",
        " 75078,\n",
        " 75897,\n",
        " 76715,\n",
        " 77533,\n",
        " 78350,\n",
        " 79169,\n",
        " 79988,\n",
        " 80809,\n",
        " 81630,\n",
        " 82450,\n",
        " 83269]"
       ]
      }
     ],
     "prompt_number": 48
    },
    {
     "cell_type": "code",
     "collapsed": false,
     "input": [
      "len(peaks)"
     ],
     "language": "python",
     "metadata": {},
     "outputs": [
      {
       "metadata": {},
       "output_type": "pyout",
       "prompt_number": 49,
       "text": [
        "98"
       ]
      }
     ],
     "prompt_number": 49
    },
    {
     "cell_type": "code",
     "collapsed": false,
     "input": [],
     "language": "python",
     "metadata": {},
     "outputs": []
    }
   ],
   "metadata": {}
  }
 ]
}