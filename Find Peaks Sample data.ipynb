{
 "metadata": {
  "name": "",
  "signature": "sha256:2bc5ea140edd2ec7feef423cc7961fc249b85ec6a8a5e03d7923e7c6ea9bee60"
 },
 "nbformat": 3,
 "nbformat_minor": 0,
 "worksheets": [
  {
   "cells": [
    {
     "cell_type": "code",
     "collapsed": false,
     "input": [
      "import numpy as np\n",
      "import scipy\n",
      "from scipy import signal\n",
      "import matplotlib.pyplot as plt"
     ],
     "language": "python",
     "metadata": {},
     "outputs": [],
     "prompt_number": 28
    },
    {
     "cell_type": "markdown",
     "metadata": {},
     "source": [
      "np.loadtxt MUST have the unpack=True or else it become unhappy"
     ]
    },
    {
     "cell_type": "code",
     "collapsed": false,
     "input": [
      "time, data = np.loadtxt(\"/Users/abigaildobyns/Dropbox/Wilson_lab_papers/Abby/data/2014-29-04rat56-ECG.txt\", delimiter=\"\\t\", usecols=(0,1),  unpack=True)\n",
      "widths = np.loadtxt(\"/Users/abigaildobyns/Dropbox/Wilson_lab_papers/Abby/data/widths.txt\", delimiter= \"\\t\", unpack=True)"
     ],
     "language": "python",
     "metadata": {},
     "outputs": [],
     "prompt_number": 29
    },
    {
     "cell_type": "code",
     "collapsed": false,
     "input": [
      "time"
     ],
     "language": "python",
     "metadata": {},
     "outputs": [
      {
       "metadata": {},
       "output_type": "pyout",
       "prompt_number": 75,
       "text": [
        "array([  0.425  ,   0.42525,   0.4255 , ...,  21.33675,  21.337  ,\n",
        "        21.33725])"
       ]
      }
     ],
     "prompt_number": 75
    },
    {
     "cell_type": "code",
     "collapsed": false,
     "input": [
      "print data"
     ],
     "language": "python",
     "metadata": {},
     "outputs": [
      {
       "output_type": "stream",
       "stream": "stdout",
       "text": [
        "[ 0.099  0.334  0.557 ..., -0.022 -0.024 -0.025]\n"
       ]
      }
     ],
     "prompt_number": 31
    },
    {
     "cell_type": "code",
     "collapsed": false,
     "input": [
      "def savitzky_golay(y, window_size, order, deriv=0, rate=1):\n",
      "    r\"\"\"Smooth (and optionally differentiate) data with a Savitzky-Golay filter.\n",
      "    The Savitzky-Golay filter removes high frequency noise from data.\n",
      "    It has the advantage of preserving the original shape and\n",
      "    features of the signal better than other types of filtering\n",
      "    approaches, such as moving averages techniques.\n",
      "    Parameters\n",
      "    ----------\n",
      "    y : array_like, shape (N,)\n",
      "        the values of the time history of the signal.\n",
      "    window_size : int\n",
      "        the length of the window. Must be an odd integer number.\n",
      "    order : int\n",
      "        the order of the polynomial used in the filtering.\n",
      "        Must be less then `window_size` - 1.\n",
      "    deriv: int\n",
      "        the order of the derivative to compute (default = 0 means only smoothing)\n",
      "    Returns\n",
      "    -------\n",
      "    ys : ndarray, shape (N)\n",
      "        the smoothed signal (or it's n-th derivative).\n",
      "    Notes\n",
      "    -----\n",
      "    The Savitzky-Golay is a type of low-pass filter, particularly\n",
      "    suited for smoothing noisy data. The main idea behind this\n",
      "    approach is to make for each point a least-square fit with a\n",
      "    polynomial of high order over a odd-sized window centered at\n",
      "    the point.\n",
      "    Examples\n",
      "    --------\n",
      "    t = np.linspace(-4, 4, 500)\n",
      "    y = np.exp( -t**2 ) + np.random.normal(0, 0.05, t.shape)\n",
      "    ysg = savitzky_golay(y, window_size=31, order=4)\n",
      "    import matplotlib.pyplot as plt\n",
      "    plt.plot(t, y, label='Noisy signal')\n",
      "    plt.plot(t, np.exp(-t**2), 'k', lw=1.5, label='Original signal')\n",
      "    plt.plot(t, ysg, 'r', label='Filtered signal')\n",
      "    plt.legend()\n",
      "    plt.show()\n",
      "    References\n",
      "    ----------\n",
      "    .. [1] A. Savitzky, M. J. E. Golay, Smoothing and Differentiation of\n",
      "       Data by Simplified Least Squares Procedures. Analytical\n",
      "       Chemistry, 1964, 36 (8), pp 1627-1639.\n",
      "    .. [2] Numerical Recipes 3rd Edition: The Art of Scientific Computing\n",
      "       W.H. Press, S.A. Teukolsky, W.T. Vetterling, B.P. Flannery\n",
      "       Cambridge University Press ISBN-13: 9780521880688\n",
      "    \"\"\"\n",
      "    import numpy as np\n",
      "    from math import factorial\n",
      "\n",
      "    try:\n",
      "        window_size = np.abs(np.int(window_size))\n",
      "        order = np.abs(np.int(order))\n",
      "    except ValueError, msg:\n",
      "        raise ValueError(\"window_size and order have to be of type int\")\n",
      "    if window_size % 2 != 1 or window_size < 1:\n",
      "        raise TypeError(\"window_size size must be a positive odd number\")\n",
      "    if window_size < order + 2:\n",
      "        raise TypeError(\"window_size is too small for the polynomials order\")\n",
      "    order_range = range(order+1)\n",
      "    half_window = (window_size -1) // 2\n",
      "    # precompute coefficients\n",
      "    b = np.mat([[k**i for i in order_range] for k in range(-half_window, half_window+1)])\n",
      "    m = np.linalg.pinv(b).A[deriv] * rate**deriv * factorial(deriv)\n",
      "    # pad the signal at the extremes with\n",
      "    # values taken from the signal itself\n",
      "    firstvals = y[0] - np.abs( y[1:half_window+1][::-1] - y[0] )\n",
      "    lastvals = y[-1] + np.abs(y[-half_window-1:-1][::-1] - y[-1])\n",
      "    y = np.concatenate((firstvals, y, lastvals))\n",
      "    return np.convolve( m[::-1], y, mode='valid')"
     ],
     "language": "python",
     "metadata": {},
     "outputs": [],
     "prompt_number": 32
    },
    {
     "cell_type": "code",
     "collapsed": false,
     "input": [
      "data_trans = abs(data)\n",
      "data_trans =savitzky_golay(data_trans, 47, 4)"
     ],
     "language": "python",
     "metadata": {},
     "outputs": [],
     "prompt_number": 38
    },
    {
     "cell_type": "markdown",
     "metadata": {},
     "source": [
      "svitzky-golay settings for ECG: window = 41, poly= 4. Gives AD a smooth, 1 peak for QRS wave"
     ]
    },
    {
     "cell_type": "code",
     "collapsed": false,
     "input": [
      "plt.plot(time,data_trans, 'r')\n",
      "plt.xlabel('time')\n",
      "plt.ylabel('mV')\n",
      "plt.show()"
     ],
     "language": "python",
     "metadata": {},
     "outputs": [],
     "prompt_number": 39
    },
    {
     "cell_type": "code",
     "collapsed": false,
     "input": [
      "peaks=scipy.signal.find_peaks_cwt(data_trans,widths,noise_perc=20)\n",
      "peaks"
     ],
     "language": "python",
     "metadata": {},
     "outputs": [
      {
       "metadata": {},
       "output_type": "pyout",
       "prompt_number": 95,
       "text": [
        "[809,\n",
        " 1644,\n",
        " 2478,\n",
        " 3319,\n",
        " 4156,\n",
        " 4992,\n",
        " 5828,\n",
        " 6662,\n",
        " 7496,\n",
        " 8329,\n",
        " 9164,\n",
        " 10002,\n",
        " 10838,\n",
        " 11671,\n",
        " 12503,\n",
        " 13334,\n",
        " 14168,\n",
        " 14999,\n",
        " 15831,\n",
        " 16663,\n",
        " 17496,\n",
        " 18325,\n",
        " 19155,\n",
        " 19983,\n",
        " 20032,\n",
        " 20812,\n",
        " 21641,\n",
        " 22468,\n",
        " 23300,\n",
        " 24127,\n",
        " 24956,\n",
        " 25782,\n",
        " 26608,\n",
        " 27434,\n",
        " 28259,\n",
        " 29083,\n",
        " 29911,\n",
        " 30737,\n",
        " 31562,\n",
        " 32385,\n",
        " 33209,\n",
        " 34033,\n",
        " 34855,\n",
        " 35682,\n",
        " 36508,\n",
        " 37331,\n",
        " 37413,\n",
        " 38156,\n",
        " 38979,\n",
        " 39802,\n",
        " 39883,\n",
        " 40625,\n",
        " 41446,\n",
        " 42272,\n",
        " 42353,\n",
        " 43096,\n",
        " 43918,\n",
        " 43967,\n",
        " 44741,\n",
        " 45563,\n",
        " 46383,\n",
        " 47204,\n",
        " 48024,\n",
        " 48849,\n",
        " 48898,\n",
        " 49671,\n",
        " 50492,\n",
        " 51311,\n",
        " 51360,\n",
        " 52130,\n",
        " 52949,\n",
        " 53767,\n",
        " 54584,\n",
        " 55407,\n",
        " 56228,\n",
        " 57047,\n",
        " 57865,\n",
        " 58683,\n",
        " 59501,\n",
        " 60317,\n",
        " 61134,\n",
        " 61957,\n",
        " 62776,\n",
        " 62825,\n",
        " 63593,\n",
        " 64411,\n",
        " 65229,\n",
        " 66045,\n",
        " 66093,\n",
        " 66863,\n",
        " 67680,\n",
        " 68503,\n",
        " 69323,\n",
        " 69372,\n",
        " 69406,\n",
        " 70143,\n",
        " 70962,\n",
        " 71778,\n",
        " 71827,\n",
        " 72596,\n",
        " 73415,\n",
        " 74237,\n",
        " 74285,\n",
        " 75058,\n",
        " 75141,\n",
        " 75878,\n",
        " 76696,\n",
        " 77513,\n",
        " 78331,\n",
        " 78412,\n",
        " 79150,\n",
        " 79969,\n",
        " 80789,\n",
        " 80872,\n",
        " 81611,\n",
        " 82431,\n",
        " 83250,\n",
        " 83299]"
       ]
      }
     ],
     "prompt_number": 95
    },
    {
     "cell_type": "code",
     "collapsed": false,
     "input": [
      "len(peaks)"
     ],
     "language": "python",
     "metadata": {},
     "outputs": [
      {
       "metadata": {},
       "output_type": "pyout",
       "prompt_number": 96,
       "text": [
        "118"
       ]
      }
     ],
     "prompt_number": 96
    },
    {
     "cell_type": "code",
     "collapsed": false,
     "input": [
      "ptime = np.multiply(peaks,0.00025)\n",
      "ptime"
     ],
     "language": "python",
     "metadata": {},
     "outputs": [
      {
       "metadata": {},
       "output_type": "pyout",
       "prompt_number": 97,
       "text": [
        "array([  0.20225,   0.411  ,   0.6195 ,   0.82975,   1.039  ,   1.248  ,\n",
        "         1.457  ,   1.6655 ,   1.874  ,   2.08225,   2.291  ,   2.5005 ,\n",
        "         2.7095 ,   2.91775,   3.12575,   3.3335 ,   3.542  ,   3.74975,\n",
        "         3.95775,   4.16575,   4.374  ,   4.58125,   4.78875,   4.99575,\n",
        "         5.008  ,   5.203  ,   5.41025,   5.617  ,   5.825  ,   6.03175,\n",
        "         6.239  ,   6.4455 ,   6.652  ,   6.8585 ,   7.06475,   7.27075,\n",
        "         7.47775,   7.68425,   7.8905 ,   8.09625,   8.30225,   8.50825,\n",
        "         8.71375,   8.9205 ,   9.127  ,   9.33275,   9.35325,   9.539  ,\n",
        "         9.74475,   9.9505 ,   9.97075,  10.15625,  10.3615 ,  10.568  ,\n",
        "        10.58825,  10.774  ,  10.9795 ,  10.99175,  11.18525,  11.39075,\n",
        "        11.59575,  11.801  ,  12.006  ,  12.21225,  12.2245 ,  12.41775,\n",
        "        12.623  ,  12.82775,  12.84   ,  13.0325 ,  13.23725,  13.44175,\n",
        "        13.646  ,  13.85175,  14.057  ,  14.26175,  14.46625,  14.67075,\n",
        "        14.87525,  15.07925,  15.2835 ,  15.48925,  15.694  ,  15.70625,\n",
        "        15.89825,  16.10275,  16.30725,  16.51125,  16.52325,  16.71575,\n",
        "        16.92   ,  17.12575,  17.33075,  17.343  ,  17.3515 ,  17.53575,\n",
        "        17.7405 ,  17.9445 ,  17.95675,  18.149  ,  18.35375,  18.55925,\n",
        "        18.57125,  18.7645 ,  18.78525,  18.9695 ,  19.174  ,  19.37825,\n",
        "        19.58275,  19.603  ,  19.7875 ,  19.99225,  20.19725,  20.218  ,\n",
        "        20.40275,  20.60775,  20.8125 ,  20.82475])"
       ]
      }
     ],
     "prompt_number": 97
    },
    {
     "cell_type": "code",
     "collapsed": false,
     "input": [
      "arb = []\n",
      "for peak in peaks:\n",
      "    arb.append(1.25)\n",
      "print arb"
     ],
     "language": "python",
     "metadata": {},
     "outputs": [
      {
       "output_type": "stream",
       "stream": "stdout",
       "text": [
        "[1.25, 1.25, 1.25, 1.25, 1.25, 1.25, 1.25, 1.25, 1.25, 1.25, 1.25, 1.25, 1.25, 1.25, 1.25, 1.25, 1.25, 1.25, 1.25, 1.25, 1.25, 1.25, 1.25, 1.25, 1.25, 1.25, 1.25, 1.25, 1.25, 1.25, 1.25, 1.25, 1.25, 1.25, 1.25, 1.25, 1.25, 1.25, 1.25, 1.25, 1.25, 1.25, 1.25, 1.25, 1.25, 1.25, 1.25, 1.25, 1.25, 1.25, 1.25, 1.25, 1.25, 1.25, 1.25, 1.25, 1.25, 1.25, 1.25, 1.25, 1.25, 1.25, 1.25, 1.25, 1.25, 1.25, 1.25, 1.25, 1.25, 1.25, 1.25, 1.25, 1.25, 1.25, 1.25, 1.25, 1.25, 1.25, 1.25, 1.25, 1.25, 1.25, 1.25, 1.25, 1.25, 1.25, 1.25, 1.25, 1.25, 1.25, 1.25, 1.25, 1.25, 1.25, 1.25, 1.25, 1.25, 1.25, 1.25, 1.25, 1.25, 1.25, 1.25, 1.25, 1.25, 1.25, 1.25, 1.25, 1.25, 1.25, 1.25, 1.25, 1.25, 1.25, 1.25, 1.25, 1.25, 1.25]\n"
       ]
      }
     ],
     "prompt_number": 98
    },
    {
     "cell_type": "code",
     "collapsed": false,
     "input": [
      "plt.plot(time, data_trans)\n",
      "plt.plot(ptime,arb, marker = \"o\", linestyle= \"None\")"
     ],
     "language": "python",
     "metadata": {},
     "outputs": [
      {
       "metadata": {},
       "output_type": "pyout",
       "prompt_number": 99,
       "text": [
        "[<matplotlib.lines.Line2D at 0x10d4d51d0>]"
       ]
      }
     ],
     "prompt_number": 99
    },
    {
     "cell_type": "code",
     "collapsed": false,
     "input": [
      "plt.show()"
     ],
     "language": "python",
     "metadata": {},
     "outputs": [],
     "prompt_number": 100
    },
    {
     "cell_type": "code",
     "collapsed": false,
     "input": [],
     "language": "python",
     "metadata": {},
     "outputs": []
    }
   ],
   "metadata": {}
  }
 ]
}