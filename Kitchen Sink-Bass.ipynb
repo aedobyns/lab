{
 "metadata": {
  "name": "",
  "signature": "sha256:1a0935fa117c59765bc51be164eea733c71a25bcb6891da766dc6ef350063af1"
 },
 "nbformat": 3,
 "nbformat_minor": 0,
 "worksheets": [
  {
   "cells": [
    {
     "cell_type": "code",
     "collapsed": false,
     "input": [
      "from bass import *"
     ],
     "language": "python",
     "metadata": {},
     "outputs": [
      {
       "output_type": "stream",
       "stream": "stdout",
       "text": [
        "RAIN ready!\n"
       ]
      }
     ],
     "prompt_number": 1
    },
    {
     "cell_type": "code",
     "collapsed": false,
     "input": [
      "#initialize new file\n",
      "start = t.clock()\n",
      "Data = {}\n",
      "Settings = {}\n",
      "Results ={}\n",
      "\n",
      "############################################################################################\n",
      "#manual Setting block\n",
      "Settings['folder']= \"/Users/abigaildobyns/Desktop/Neuron Modeling/morgan voltage data\"\n",
      "Settings['Output Folder'] = \"/Users/abigaildobyns/Desktop/Neuron Modeling/morgan voltage data/IP0_9\"\n",
      "Settings['Label'] = 'voltage-TBModel-sec1320-eL-IP0_9.txt'\n",
      "Settings['File Type'] = 'Morgan' #'LCPro', 'ImageJ', 'SIMA', 'Plain', 'Morgan'\n",
      "Settings['Milliseconds'] = True\n",
      "\n",
      "#transformation Settings\n",
      "Settings['Absolute Value'] = False #Must be True if Savitzky-Golay is being used\n",
      "\n",
      "Settings['Bandpass Highcut'] = 'none'\n",
      "Settings['Bandpass Lowcut'] = 'none'\n",
      "Settings['Bandpass Polynomial'] = 'none'\n",
      "\n",
      "Settings['Linear Fit'] = False #between 0 and 1 on the whole time series\n",
      "Settings['Linear Fit-Rolling R'] = 0.75 #between 0 and 1\n",
      "Settings['Linear Fit-Rolling Window'] = 1000 #window for rolling mean for fit, unit is index\n",
      "Settings['Relative Baseline'] = 5000.0 #default 0, unless data is normalized, then 1.0\n",
      "\n",
      "Settings['Savitzky-Golay Polynomial'] = 'none' #intiger\n",
      "Settings['Savitzky-Golay Window Size'] = 'none' #must be odd, index not time\n",
      "\n",
      "#Baseline Settings\n",
      "Settings['Baseline Type'] = 'static' #'linear', 'rolling', or 'static'\n",
      "Settings['Rolling Baseline Window'] = 'none' #leave as 'none' if linear or static\n",
      "\n",
      "#Peaks\n",
      "Settings['Delta'] = 10\n",
      "Settings['Peak Minimum'] = -(np.Inf) #amplitude value\n",
      "Settings['Peak Maximum'] = np.Inf #amplitude value\n",
      "\n",
      "#Bursts\n",
      "Settings['Burst Area'] = False #calculate burst area\n",
      "Settings['Exclude Edges'] = True #False to keep edges, True to discard them\n",
      "Settings['Inter-event interval minimum (seconds)'] = 0.700 #only for bursts, not for peaks\n",
      "Settings['Maximum Burst Duration (s)'] = 10 \n",
      "Settings['Minimum Burst Duration (s)'] = 0\n",
      "Settings['Minimum Peak Number'] = 1 #minimum number of peaks/burst, integer\n",
      "Settings['Threshold']= -40 #linear: proportion of baseline. \n",
      "                           #static: literal value.\n",
      "                           #rolling, linear ammount grater than rolling baseline at each time point.\n",
      "\n",
      "#Outputs\n",
      "Settings['Generate Graphs'] = False #create and save the fancy graph outputs\n",
      "Settings['Graph LCpro events'] = False \n",
      "############################################################################################"
     ],
     "language": "python",
     "metadata": {},
     "outputs": [],
     "prompt_number": 2
    },
    {
     "cell_type": "code",
     "collapsed": false,
     "input": [
      "Data, Settings, Results = analyze(Data, Settings, Results)"
     ],
     "language": "python",
     "metadata": {},
     "outputs": [
      {
       "output_type": "stream",
       "stream": "stdout",
       "text": [
        "Data Loaded\n",
        "Made plots folder\n",
        "transformation completed"
       ]
      },
      {
       "output_type": "stream",
       "stream": "stdout",
       "text": [
        "\n",
        "Baseline set completed\n",
        "Peak Detection completed"
       ]
      },
      {
       "output_type": "stream",
       "stream": "stdout",
       "text": [
        "\n",
        "-60is empty"
       ]
      },
      {
       "output_type": "stream",
       "stream": "stdout",
       "text": [
        "\n",
        "-65is empty"
       ]
      },
      {
       "output_type": "stream",
       "stream": "stdout",
       "text": [
        "\n",
        "Burst Detection completed\n",
        "Analysis Complete: "
       ]
      },
      {
       "output_type": "stream",
       "stream": "stdout",
       "text": [
        " 305.7234  Seconds\n",
        "--------------------------------------------\n",
        "Available Measurements from Peaks for further analysis:\n",
        "Intervals\n",
        "Peaks Amplitude\n",
        "Available Measurements from Bursts for further analysis:\n",
        "Burst Start\n",
        "Burst End\n",
        "Burst Duration\n",
        "Edge Event\n",
        "Interburst Interval\n",
        "Total Cycle Time\n",
        "Peaks per Burst\n",
        "Peak Amp\n",
        "Peak Time\n",
        "Attack\n",
        "Decay\n",
        "Intraburst Frequency\n"
       ]
      }
     ],
     "prompt_number": 3
    },
    {
     "cell_type": "heading",
     "level": 2,
     "metadata": {},
     "source": [
      "Event Summary Table"
     ]
    },
    {
     "cell_type": "code",
     "collapsed": false,
     "input": [
      "#Display the Bursts Summary Table\n",
      "Results['Burst-Master Summary']"
     ],
     "language": "python",
     "metadata": {},
     "outputs": []
    },
    {
     "cell_type": "code",
     "collapsed": false,
     "input": [
      "#Display the Peaks Summary Table\n",
      "Results['Peaks-Master Summary']"
     ],
     "language": "python",
     "metadata": {},
     "outputs": []
    },
    {
     "cell_type": "heading",
     "level": 2,
     "metadata": {},
     "source": [
      "Analyze time series by Key"
     ]
    },
    {
     "cell_type": "code",
     "collapsed": false,
     "input": [
      "#Call one time series by Key\n",
      "roi = '-55'\n",
      "graph_detected_events_display(Data, Settings, Results, roi)"
     ],
     "language": "python",
     "metadata": {},
     "outputs": []
    },
    {
     "cell_type": "code",
     "collapsed": false,
     "input": [
      "#autocorrelation\n",
      "key = '-55'\n",
      "autocorrelation_plot(Data['trans'][key])"
     ],
     "language": "python",
     "metadata": {},
     "outputs": []
    },
    {
     "cell_type": "heading",
     "level": 2,
     "metadata": {},
     "source": [
      "Raster Plot"
     ]
    },
    {
     "cell_type": "markdown",
     "metadata": {},
     "source": [
      "Shows the temporal relationship of peaks in each column. Auto scales. Display only"
     ]
    },
    {
     "cell_type": "code",
     "collapsed": false,
     "input": [
      "#raster\n",
      "raster(Results)"
     ],
     "language": "python",
     "metadata": {},
     "outputs": [],
     "prompt_number": 8
    },
    {
     "cell_type": "heading",
     "level": 2,
     "metadata": {},
     "source": [
      "Analyze Events by Measurement"
     ]
    },
    {
     "cell_type": "code",
     "collapsed": false,
     "input": [
      "#Get average plots, display only\n",
      "event_type = 'peaks'\n",
      "meas = 'Peaks Amplitude'\n",
      "average_measurement_plot(event_type, meas,Results)"
     ],
     "language": "python",
     "metadata": {},
     "outputs": []
    },
    {
     "cell_type": "code",
     "collapsed": false,
     "input": [
      "#Histogram Entropy\n",
      "event_type = 'Bursts'\n",
      "meas = 'all'\n",
      "Results = histent_wrapper(event_type, meas, Data, Settings, Results)\n",
      "Results['Histogram Entropy']"
     ],
     "language": "python",
     "metadata": {},
     "outputs": [
      {
       "output_type": "stream",
       "stream": "stdout",
       "text": [
        "All Bursts measurements analyzed.\n"
       ]
      },
      {
       "html": [
        "<div style=\"max-height:1000px;max-width:1500px;overflow:auto;\">\n",
        "<table border=\"1\" class=\"dataframe\">\n",
        "  <thead>\n",
        "    <tr style=\"text-align: right;\">\n",
        "      <th></th>\n",
        "      <th>Intervals</th>\n",
        "      <th>Peaks Amplitude</th>\n",
        "      <th>Burst Start</th>\n",
        "      <th>Burst End</th>\n",
        "      <th>Burst Duration</th>\n",
        "      <th>Edge Event</th>\n",
        "      <th>Interburst Interval</th>\n",
        "      <th>Total Cycle Time</th>\n",
        "      <th>Peaks per Burst</th>\n",
        "      <th>Peak Amp</th>\n",
        "      <th>Peak Time</th>\n",
        "      <th>Attack</th>\n",
        "      <th>Decay</th>\n",
        "      <th>Intraburst Frequency</th>\n",
        "    </tr>\n",
        "  </thead>\n",
        "  <tbody>\n",
        "    <tr>\n",
        "      <th>-40</th>\n",
        "      <td>  0</td>\n",
        "      <td>  0</td>\n",
        "      <td>NaN</td>\n",
        "      <td>NaN</td>\n",
        "      <td>NaN</td>\n",
        "      <td>NaN</td>\n",
        "      <td>NaN</td>\n",
        "      <td>NaN</td>\n",
        "      <td>NaN</td>\n",
        "      <td>NaN</td>\n",
        "      <td>NaN</td>\n",
        "      <td>NaN</td>\n",
        "      <td>NaN</td>\n",
        "      <td>NaN</td>\n",
        "    </tr>\n",
        "    <tr>\n",
        "      <th>-45</th>\n",
        "      <td>  0</td>\n",
        "      <td>  0</td>\n",
        "      <td>NaN</td>\n",
        "      <td>NaN</td>\n",
        "      <td>NaN</td>\n",
        "      <td>NaN</td>\n",
        "      <td>NaN</td>\n",
        "      <td>NaN</td>\n",
        "      <td>NaN</td>\n",
        "      <td>NaN</td>\n",
        "      <td>NaN</td>\n",
        "      <td>NaN</td>\n",
        "      <td>NaN</td>\n",
        "      <td>NaN</td>\n",
        "    </tr>\n",
        "    <tr>\n",
        "      <th>-50</th>\n",
        "      <td>  0</td>\n",
        "      <td>  0</td>\n",
        "      <td>NaN</td>\n",
        "      <td>NaN</td>\n",
        "      <td>NaN</td>\n",
        "      <td>NaN</td>\n",
        "      <td>NaN</td>\n",
        "      <td>NaN</td>\n",
        "      <td>NaN</td>\n",
        "      <td>NaN</td>\n",
        "      <td>NaN</td>\n",
        "      <td>NaN</td>\n",
        "      <td>NaN</td>\n",
        "      <td>NaN</td>\n",
        "    </tr>\n",
        "    <tr>\n",
        "      <th>-55</th>\n",
        "      <td>  0</td>\n",
        "      <td>  0</td>\n",
        "      <td>  0</td>\n",
        "      <td>  0</td>\n",
        "      <td>  0</td>\n",
        "      <td>  0</td>\n",
        "      <td>  0</td>\n",
        "      <td>  0</td>\n",
        "      <td>  0</td>\n",
        "      <td>  0</td>\n",
        "      <td>  0</td>\n",
        "      <td>  0</td>\n",
        "      <td>  0</td>\n",
        "      <td>  0</td>\n",
        "    </tr>\n",
        "    <tr>\n",
        "      <th>-60</th>\n",
        "      <td>NaN</td>\n",
        "      <td>NaN</td>\n",
        "      <td>NaN</td>\n",
        "      <td>NaN</td>\n",
        "      <td>NaN</td>\n",
        "      <td>NaN</td>\n",
        "      <td>NaN</td>\n",
        "      <td>NaN</td>\n",
        "      <td>NaN</td>\n",
        "      <td>NaN</td>\n",
        "      <td>NaN</td>\n",
        "      <td>NaN</td>\n",
        "      <td>NaN</td>\n",
        "      <td>NaN</td>\n",
        "    </tr>\n",
        "    <tr>\n",
        "      <th>-65</th>\n",
        "      <td>NaN</td>\n",
        "      <td>NaN</td>\n",
        "      <td>NaN</td>\n",
        "      <td>NaN</td>\n",
        "      <td>NaN</td>\n",
        "      <td>NaN</td>\n",
        "      <td>NaN</td>\n",
        "      <td>NaN</td>\n",
        "      <td>NaN</td>\n",
        "      <td>NaN</td>\n",
        "      <td>NaN</td>\n",
        "      <td>NaN</td>\n",
        "      <td>NaN</td>\n",
        "      <td>NaN</td>\n",
        "    </tr>\n",
        "  </tbody>\n",
        "</table>\n",
        "<p>6 rows \u00d7 14 columns</p>\n",
        "</div>"
       ],
       "metadata": {},
       "output_type": "pyout",
       "prompt_number": 6,
       "text": [
        "     Intervals  Peaks Amplitude  Burst Start  Burst End  Burst Duration  \\\n",
        "-40          0                0          NaN        NaN             NaN   \n",
        "-45          0                0          NaN        NaN             NaN   \n",
        "-50          0                0          NaN        NaN             NaN   \n",
        "-55          0                0            0          0               0   \n",
        "-60        NaN              NaN          NaN        NaN             NaN   \n",
        "-65        NaN              NaN          NaN        NaN             NaN   \n",
        "\n",
        "     Edge Event  Interburst Interval  Total Cycle Time  Peaks per Burst  \\\n",
        "-40         NaN                  NaN               NaN              NaN   \n",
        "-45         NaN                  NaN               NaN              NaN   \n",
        "-50         NaN                  NaN               NaN              NaN   \n",
        "-55           0                    0                 0                0   \n",
        "-60         NaN                  NaN               NaN              NaN   \n",
        "-65         NaN                  NaN               NaN              NaN   \n",
        "\n",
        "     Peak Amp  Peak Time  Attack  Decay  Intraburst Frequency  \n",
        "-40       NaN        NaN     NaN    NaN                   NaN  \n",
        "-45       NaN        NaN     NaN    NaN                   NaN  \n",
        "-50       NaN        NaN     NaN    NaN                   NaN  \n",
        "-55         0          0       0      0                     0  \n",
        "-60       NaN        NaN     NaN    NaN                   NaN  \n",
        "-65       NaN        NaN     NaN    NaN                   NaN  \n",
        "\n",
        "[6 rows x 14 columns]"
       ]
      }
     ],
     "prompt_number": 6
    },
    {
     "cell_type": "code",
     "collapsed": false,
     "input": [
      "#Moving Stats\n",
      "event_type = 'Peaks'\n",
      "meas = 'all'\n",
      "window = 60 #seconds\n",
      "Results = moving_statistics(event_type, meas, window, Data, Settings, Results)"
     ],
     "language": "python",
     "metadata": {},
     "outputs": []
    },
    {
     "cell_type": "heading",
     "level": 2,
     "metadata": {},
     "source": [
      "Miscellaneous functions"
     ]
    },
    {
     "cell_type": "code",
     "collapsed": false,
     "input": [
      "display_settings(Settings)"
     ],
     "language": "python",
     "metadata": {},
     "outputs": [
      {
       "html": [
        "<div style=\"max-height:1000px;max-width:1500px;overflow:auto;\">\n",
        "<table border=\"1\" class=\"dataframe\">\n",
        "  <thead>\n",
        "    <tr style=\"text-align: right;\">\n",
        "      <th></th>\n",
        "      <th>Value</th>\n",
        "    </tr>\n",
        "  </thead>\n",
        "  <tbody>\n",
        "    <tr>\n",
        "      <th>Absolute Value</th>\n",
        "      <td>                                             False</td>\n",
        "    </tr>\n",
        "    <tr>\n",
        "      <th>Bandpass Highcut</th>\n",
        "      <td>                                              none</td>\n",
        "    </tr>\n",
        "    <tr>\n",
        "      <th>Bandpass Lowcut</th>\n",
        "      <td>                                              none</td>\n",
        "    </tr>\n",
        "    <tr>\n",
        "      <th>Bandpass Polynomial</th>\n",
        "      <td>                                              none</td>\n",
        "    </tr>\n",
        "    <tr>\n",
        "      <th>Baseline Type</th>\n",
        "      <td>                                            static</td>\n",
        "    </tr>\n",
        "    <tr>\n",
        "      <th>Burst Area</th>\n",
        "      <td>                                             False</td>\n",
        "    </tr>\n",
        "    <tr>\n",
        "      <th>Delta</th>\n",
        "      <td>                                                10</td>\n",
        "    </tr>\n",
        "    <tr>\n",
        "      <th>Exclude Edges</th>\n",
        "      <td>                                              True</td>\n",
        "    </tr>\n",
        "    <tr>\n",
        "      <th>File Type</th>\n",
        "      <td>                                            Morgan</td>\n",
        "    </tr>\n",
        "    <tr>\n",
        "      <th>Generate Graphs</th>\n",
        "      <td>                                             False</td>\n",
        "    </tr>\n",
        "    <tr>\n",
        "      <th>Graph LCpro events</th>\n",
        "      <td>                                             False</td>\n",
        "    </tr>\n",
        "    <tr>\n",
        "      <th>Inter-event interval minimum (seconds)</th>\n",
        "      <td>                                               0.7</td>\n",
        "    </tr>\n",
        "    <tr>\n",
        "      <th>Label</th>\n",
        "      <td>              voltage-TBModel-sec1320-eL-IP0_9.txt</td>\n",
        "    </tr>\n",
        "    <tr>\n",
        "      <th>Linear Fit</th>\n",
        "      <td>                                             False</td>\n",
        "    </tr>\n",
        "    <tr>\n",
        "      <th>Linear Fit-Rolling R</th>\n",
        "      <td>                                              0.75</td>\n",
        "    </tr>\n",
        "    <tr>\n",
        "      <th>Linear Fit-Rolling Window</th>\n",
        "      <td>                                              1000</td>\n",
        "    </tr>\n",
        "    <tr>\n",
        "      <th>Maximum Burst Duration (s)</th>\n",
        "      <td>                                                10</td>\n",
        "    </tr>\n",
        "    <tr>\n",
        "      <th>Milliseconds</th>\n",
        "      <td>                                              True</td>\n",
        "    </tr>\n",
        "    <tr>\n",
        "      <th>Minimum Burst Duration (s)</th>\n",
        "      <td>                                                 0</td>\n",
        "    </tr>\n",
        "    <tr>\n",
        "      <th>Minimum Peak Number</th>\n",
        "      <td>                                                 1</td>\n",
        "    </tr>\n",
        "    <tr>\n",
        "      <th>Output Folder</th>\n",
        "      <td> /Users/abigaildobyns/Desktop/Neuron Modeling/m...</td>\n",
        "    </tr>\n",
        "    <tr>\n",
        "      <th>Peak Maximum</th>\n",
        "      <td>                                               inf</td>\n",
        "    </tr>\n",
        "    <tr>\n",
        "      <th>Peak Minimum</th>\n",
        "      <td>                                              -inf</td>\n",
        "    </tr>\n",
        "    <tr>\n",
        "      <th>Relative Baseline</th>\n",
        "      <td>                                              5000</td>\n",
        "    </tr>\n",
        "    <tr>\n",
        "      <th>Rolling Baseline Window</th>\n",
        "      <td>                                              none</td>\n",
        "    </tr>\n",
        "    <tr>\n",
        "      <th>Sample Rate (s/frame)</th>\n",
        "      <td>                                            0.0001</td>\n",
        "    </tr>\n",
        "    <tr>\n",
        "      <th>Savitzky-Golay Polynomial</th>\n",
        "      <td>                                              none</td>\n",
        "    </tr>\n",
        "    <tr>\n",
        "      <th>Savitzky-Golay Window Size</th>\n",
        "      <td>                                              none</td>\n",
        "    </tr>\n",
        "    <tr>\n",
        "      <th>Threshold</th>\n",
        "      <td>                                               -40</td>\n",
        "    </tr>\n",
        "    <tr>\n",
        "      <th>folder</th>\n",
        "      <td> /Users/abigaildobyns/Desktop/Neuron Modeling/m...</td>\n",
        "    </tr>\n",
        "    <tr>\n",
        "      <th>plots folder</th>\n",
        "      <td> /Users/abigaildobyns/Desktop/Neuron Modeling/m...</td>\n",
        "    </tr>\n",
        "  </tbody>\n",
        "</table>\n",
        "<p>31 rows \u00d7 1 columns</p>\n",
        "</div>"
       ],
       "metadata": {},
       "output_type": "pyout",
       "prompt_number": 11,
       "text": [
        "                                                                                    Value\n",
        "Absolute Value                                                                      False\n",
        "Bandpass Highcut                                                                     none\n",
        "Bandpass Lowcut                                                                      none\n",
        "Bandpass Polynomial                                                                  none\n",
        "Baseline Type                                                                      static\n",
        "Burst Area                                                                          False\n",
        "Delta                                                                                  10\n",
        "Exclude Edges                                                                        True\n",
        "File Type                                                                          Morgan\n",
        "Generate Graphs                                                                     False\n",
        "Graph LCpro events                                                                  False\n",
        "Inter-event interval minimum (seconds)                                                0.7\n",
        "Label                                                voltage-TBModel-sec1320-eL-IP0_9.txt\n",
        "Linear Fit                                                                          False\n",
        "Linear Fit-Rolling R                                                                 0.75\n",
        "Linear Fit-Rolling Window                                                            1000\n",
        "Maximum Burst Duration (s)                                                             10\n",
        "Milliseconds                                                                         True\n",
        "Minimum Burst Duration (s)                                                              0\n",
        "Minimum Peak Number                                                                     1\n",
        "Output Folder                           /Users/abigaildobyns/Desktop/Neuron Modeling/m...\n",
        "Peak Maximum                                                                          inf\n",
        "Peak Minimum                                                                         -inf\n",
        "Relative Baseline                                                                    5000\n",
        "Rolling Baseline Window                                                              none\n",
        "Sample Rate (s/frame)                                                              0.0001\n",
        "Savitzky-Golay Polynomial                                                            none\n",
        "Savitzky-Golay Window Size                                                           none\n",
        "Threshold                                                                             -40\n",
        "folder                                  /Users/abigaildobyns/Desktop/Neuron Modeling/m...\n",
        "plots folder                            /Users/abigaildobyns/Desktop/Neuron Modeling/m...\n",
        "\n",
        "[31 rows x 1 columns]"
       ]
      }
     ],
     "prompt_number": 11
    },
    {
     "cell_type": "code",
     "collapsed": false,
     "input": [
      "moving_statistics?"
     ],
     "language": "python",
     "metadata": {},
     "outputs": []
    }
   ],
   "metadata": {}
  }
 ]
}