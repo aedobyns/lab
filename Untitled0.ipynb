{
 "metadata": {
  "name": "",
  "signature": "sha256:5e877a28d6b043bd717ea50ca3fbd7005154bbafa46e0371a466d1ff83408a00"
 },
 "nbformat": 3,
 "nbformat_minor": 0,
 "worksheets": [
  {
   "cells": [
    {
     "cell_type": "code",
     "collapsed": false,
     "input": [
      "#!/usr/bin/env python\n",
      "\n",
      "\"\"\"\n",
      "\n",
      "You can enable picking by setting the \"picker\" property of an artist\n",
      "(for example, a matplotlib Line2D, Text, Patch, Polygon, AxesImage,\n",
      "etc...)\n",
      "\n",
      "There are a variety of meanings of the picker property\n",
      "\n",
      "    None -  picking is disabled for this artist (default)\n",
      "\n",
      "    boolean - if True then picking will be enabled and the\n",
      "      artist will fire a pick event if the mouse event is over\n",
      "      the artist\n",
      "\n",
      "    float - if picker is a number it is interpreted as an\n",
      "      epsilon tolerance in points and the artist will fire\n",
      "      off an event if it's data is within epsilon of the mouse\n",
      "      event.  For some artists like lines and patch collections,\n",
      "      the artist may provide additional data to the pick event\n",
      "      that is generated, for example, the indices of the data within\n",
      "      epsilon of the pick event\n",
      "\n",
      "    function - if picker is callable, it is a user supplied\n",
      "      function which determines whether the artist is hit by the\n",
      "      mouse event.\n",
      "\n",
      "         hit, props = picker(artist, mouseevent)\n",
      "\n",
      "      to determine the hit test.  If the mouse event is over the\n",
      "      artist, return hit=True and props is a dictionary of properties\n",
      "      you want added to the PickEvent attributes\n",
      "\n",
      "\n",
      "After you have enabled an artist for picking by setting the \"picker\"\n",
      "property, you need to connect to the figure canvas pick_event to get\n",
      "pick callbacks on mouse press events.  For example,\n",
      "\n",
      "  def pick_handler(event):\n",
      "      mouseevent = event.mouseevent\n",
      "      artist = event.artist\n",
      "      # now do something with this...\n",
      "\n",
      "\n",
      "The pick event (matplotlib.backend_bases.PickEvent) which is passed to\n",
      "your callback is always fired with two attributes:\n",
      "\n",
      "  mouseevent - the mouse event that generate the pick event.  The\n",
      "    mouse event in turn has attributes like x and y (the coordinates in\n",
      "    display space, such as pixels from left, bottom) and xdata, ydata (the\n",
      "    coords in data space).  Additionally, you can get information about\n",
      "    which buttons were pressed, which keys were pressed, which Axes\n",
      "    the mouse is over, etc.  See matplotlib.backend_bases.MouseEvent\n",
      "    for details.\n",
      "\n",
      "  artist - the matplotlib.artist that generated the pick event.\n",
      "\n",
      "Additionally, certain artists like Line2D and PatchCollection may\n",
      "attach additional meta data like the indices into the data that meet\n",
      "the picker criteria (for example, all the points in the line that are within\n",
      "the specified epsilon tolerance)\n",
      "\n",
      "The examples below illustrate each of these methods.\n",
      "\"\"\"\n",
      "\n",
      "from __future__ import print_function\n",
      "import matplotlib.pyplot as plt\n",
      "from matplotlib.lines import Line2D\n",
      "from matplotlib.patches import Rectangle\n",
      "from matplotlib.text import Text\n",
      "from matplotlib.image import AxesImage\n",
      "import numpy as np\n",
      "from numpy.random import rand\n",
      "\n",
      "if 1: # simple picking, lines, rectangles and text\n",
      "    fig, (ax1, ax2) = plt.subplots(2,1)\n",
      "    ax1.set_title('click on points, rectangles or text', picker=True)\n",
      "    ax1.set_ylabel('ylabel', picker=True, bbox=dict(facecolor='red'))\n",
      "    line, = ax1.plot(rand(100), 'o', picker=5)  # 5 points tolerance\n",
      "\n",
      "    # pick the rectangle\n",
      "    bars = ax2.bar(range(10), rand(10), picker=True)\n",
      "    for label in ax2.get_xticklabels():  # make the xtick labels pickable\n",
      "        label.set_picker(True)\n",
      "\n",
      "\n",
      "    def onpick1(event):\n",
      "        if isinstance(event.artist, Line2D):\n",
      "            thisline = event.artist\n",
      "            xdata = thisline.get_xdata()\n",
      "            ydata = thisline.get_ydata()\n",
      "            ind = event.ind\n",
      "            print('onpick1 line:', zip(np.take(xdata, ind), np.take(ydata, ind)))\n",
      "        elif isinstance(event.artist, Rectangle):\n",
      "            patch = event.artist\n",
      "            print('onpick1 patch:', patch.get_path())\n",
      "        elif isinstance(event.artist, Text):\n",
      "            text = event.artist\n",
      "            print('onpick1 text:', text.get_text())\n",
      "\n",
      "\n",
      "\n",
      "    fig.canvas.mpl_connect('pick_event', onpick1)\n",
      "\n",
      "if 1: # picking with a custom hit test function\n",
      "    # you can define custom pickers by setting picker to a callable\n",
      "    # function.  The function has the signature\n",
      "    #\n",
      "    #  hit, props = func(artist, mouseevent)\n",
      "    #\n",
      "    # to determine the hit test.  if the mouse event is over the artist,\n",
      "    # return hit=True and props is a dictionary of\n",
      "    # properties you want added to the PickEvent attributes\n",
      "\n",
      "    def line_picker(line, mouseevent):\n",
      "        \"\"\"\n",
      "        find the points within a certain distance from the mouseclick in\n",
      "        data coords and attach some extra attributes, pickx and picky\n",
      "        which are the data points that were picked\n",
      "        \"\"\"\n",
      "        if mouseevent.xdata is None: return False, dict()\n",
      "        xdata = line.get_xdata()\n",
      "        ydata = line.get_ydata()\n",
      "        maxd = 0.05\n",
      "        d = np.sqrt((xdata-mouseevent.xdata)**2. + (ydata-mouseevent.ydata)**2.)\n",
      "\n",
      "        ind = np.nonzero(np.less_equal(d, maxd))\n",
      "        if len(ind):\n",
      "            pickx = np.take(xdata, ind)\n",
      "            picky = np.take(ydata, ind)\n",
      "            props = dict(ind=ind, pickx=pickx, picky=picky)\n",
      "            return True, props\n",
      "        else:\n",
      "            return False, dict()\n",
      "\n",
      "    def onpick2(event):\n",
      "        print('onpick2 line:', event.pickx, event.picky)\n",
      "\n",
      "    fig, ax = plt.subplots()\n",
      "    ax.set_title('custom picker for line data')\n",
      "    line, = ax.plot(rand(100), rand(100), 'o', picker=line_picker)\n",
      "    fig.canvas.mpl_connect('pick_event', onpick2)\n",
      "\n",
      "\n",
      "if 1: # picking on a scatter plot (matplotlib.collections.RegularPolyCollection)\n",
      "\n",
      "    x, y, c, s = rand(4, 100)\n",
      "    def onpick3(event):\n",
      "        ind = event.ind\n",
      "        print('onpick3 scatter:', ind, np.take(x, ind), np.take(y, ind))\n",
      "\n",
      "    fig, ax = plt.subplots()\n",
      "    col = ax.scatter(x, y, 100*s, c, picker=True)\n",
      "    #fig.savefig('pscoll.eps')\n",
      "    fig.canvas.mpl_connect('pick_event', onpick3)\n",
      "\n",
      "if 1: # picking images (matplotlib.image.AxesImage)\n",
      "    fig, ax = plt.subplots()\n",
      "    im1 = ax.imshow(rand(10,5), extent=(1,2,1,2), picker=True)\n",
      "    im2 = ax.imshow(rand(5,10), extent=(3,4,1,2), picker=True)\n",
      "    im3 = ax.imshow(rand(20,25), extent=(1,2,3,4), picker=True)\n",
      "    im4 = ax.imshow(rand(30,12), extent=(3,4,3,4), picker=True)\n",
      "    ax.axis([0,5,0,5])\n",
      "\n",
      "    def onpick4(event):\n",
      "        artist = event.artist\n",
      "        if isinstance(artist, AxesImage):\n",
      "            im = artist\n",
      "            A = im.get_array()\n",
      "            print('onpick4 image', A.shape)\n",
      "\n",
      "    fig.canvas.mpl_connect('pick_event', onpick4)\n",
      "\n",
      "\n",
      "plt.show()"
     ],
     "language": "python",
     "metadata": {},
     "outputs": [
      {
       "output_type": "stream",
       "stream": "stdout",
       "text": [
        "onpick3 scatter: [38] [ 0.21165445] [ 0.4475709]\n",
        "onpick3 scatter:"
       ]
      },
      {
       "output_type": "stream",
       "stream": "stdout",
       "text": [
        " [21] [ 0.13701464] [ 0.28345676]\n",
        "onpick3 scatter:"
       ]
      },
      {
       "output_type": "stream",
       "stream": "stdout",
       "text": [
        " [7] [ 0.20649928] [ 0.22272676]\n",
        "onpick3 scatter:"
       ]
      },
      {
       "output_type": "stream",
       "stream": "stdout",
       "text": [
        " [0] [ 0.39099711] [ 0.10953735]\n",
        "onpick3 scatter:"
       ]
      },
      {
       "output_type": "stream",
       "stream": "stdout",
       "text": [
        " [8] [ 0.41114232] [ 0.1910127]\n",
        "onpick3 scatter:"
       ]
      },
      {
       "output_type": "stream",
       "stream": "stdout",
       "text": [
        " [8] [ 0.41114232] [ 0.1910127]\n",
        "onpick3 scatter:"
       ]
      },
      {
       "output_type": "stream",
       "stream": "stdout",
       "text": [
        " [8] [ 0.41114232] [ 0.1910127]\n",
        "onpick3 scatter:"
       ]
      },
      {
       "output_type": "stream",
       "stream": "stdout",
       "text": [
        " [8] [ 0.41114232] [ 0.1910127]\n",
        "onpick3 scatter:"
       ]
      },
      {
       "output_type": "stream",
       "stream": "stdout",
       "text": [
        " [8] [ 0.41114232] [ 0.1910127]\n",
        "onpick3 scatter:"
       ]
      },
      {
       "output_type": "stream",
       "stream": "stdout",
       "text": [
        " [8] [ 0.41114232] [ 0.1910127]\n",
        "onpick3 scatter:"
       ]
      },
      {
       "output_type": "stream",
       "stream": "stdout",
       "text": [
        " [19] [ 0.03198531] [ 0.90053483]\n",
        "onpick3 scatter:"
       ]
      },
      {
       "output_type": "stream",
       "stream": "stdout",
       "text": [
        " [19] [ 0.03198531] [ 0.90053483]\n",
        "onpick3 scatter:"
       ]
      },
      {
       "output_type": "stream",
       "stream": "stdout",
       "text": [
        " [35] [ 0.24982807] [ 0.98155921]\n",
        "onpick3 scatter:"
       ]
      },
      {
       "output_type": "stream",
       "stream": "stdout",
       "text": [
        " [35] [ 0.24982807] [ 0.98155921]\n"
       ]
      }
     ],
     "prompt_number": 2
    },
    {
     "cell_type": "code",
     "collapsed": false,
     "input": [],
     "language": "python",
     "metadata": {},
     "outputs": []
    }
   ],
   "metadata": {}
  }
 ]
}