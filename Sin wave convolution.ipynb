{
 "metadata": {
  "name": "",
  "signature": "sha256:f9a55a87a154380fa47e5e3dbf8904c4dd8b7da8e9fd32c5501675a6ee565985"
 },
 "nbformat": 3,
 "nbformat_minor": 0,
 "worksheets": [
  {
   "cells": [
    {
     "cell_type": "code",
     "collapsed": false,
     "input": [
      "import numpy as np\n",
      "import scipy\n",
      "from scipy import signal\n",
      "import matplotlib.pyplot as plt\n",
      "import sys\n",
      "import time as t\n",
      "import matplotlib.patches as patches"
     ],
     "language": "python",
     "metadata": {},
     "outputs": [],
     "prompt_number": 50
    },
    {
     "cell_type": "code",
     "collapsed": false,
     "input": [
      "time = np.arange(5000)\n",
      "wave1 = sin(time)\n",
      "wave2= sin(60*time)\n"
     ],
     "language": "python",
     "metadata": {},
     "outputs": [],
     "prompt_number": 46
    },
    {
     "cell_type": "code",
     "collapsed": false,
     "input": [
      "wave = signal.convolve(wave1,wave2)"
     ],
     "language": "python",
     "metadata": {},
     "outputs": [],
     "prompt_number": 51
    },
    {
     "cell_type": "code",
     "collapsed": false,
     "input": [
      "plt.subplot(311)\n",
      "plt.plot(wave1, color = 'r')\n",
      "plt.title('Wave1')\n",
      "\n",
      "plt.subplot(312)\n",
      "plt.plot(wave2,color = 'k')\n",
      "plt.title('wave2')\n",
      "\n",
      "plt.subplot(313)\n",
      "plt.plot(wave, color ='b')\n",
      "plt.title('additive wave')\n",
      "\n",
      "plt.show()"
     ],
     "language": "python",
     "metadata": {},
     "outputs": [],
     "prompt_number": 52
    },
    {
     "cell_type": "code",
     "collapsed": false,
     "input": [
      "n = len(wave)\n",
      "k = np.arange(n)\n",
      "T = n/4000\n",
      "frq = k/T\n",
      "frq = frq[range(n/2)]\n",
      "\n",
      "Y = fft(wave)/n\n",
      "Y = Y[range(n/2)]\n",
      "\n",
      "plt.plot(frq, abs(Y))\n",
      "plt.xlabel('Freq (hz)')\n",
      "plt.ylabel('|Y(freq)|')\n",
      "#plt.xlim(xmax = 60, xmin= -1)\n",
      "#plt.ylim(ymax = max(Y))\n",
      "plt.title('Power Plot (Low freq)')\n",
      "plt.show()"
     ],
     "language": "python",
     "metadata": {},
     "outputs": [],
     "prompt_number": 53
    },
    {
     "cell_type": "code",
     "collapsed": false,
     "input": [
      "Y"
     ],
     "language": "python",
     "metadata": {},
     "outputs": [
      {
       "metadata": {},
       "output_type": "pyout",
       "prompt_number": 35,
       "text": [
        "array([ 0.00010116 +0.00000000e+00j,  0.00010116 +1.93467393e-07j,\n",
        "        0.00010116 +3.86935485e-07j, ...,  0.00053779 -2.55183870e-06j,\n",
        "        0.00053778 -1.70118930e-06j,  0.00053777 -8.50583701e-07j])"
       ]
      }
     ],
     "prompt_number": 35
    },
    {
     "cell_type": "code",
     "collapsed": false,
     "input": [
      "frq"
     ],
     "language": "python",
     "metadata": {},
     "outputs": [
      {
       "metadata": {},
       "output_type": "pyout",
       "prompt_number": 36,
       "text": [
        "array([   0,    1,    2, ..., 2497, 2498, 2499])"
       ]
      }
     ],
     "prompt_number": 36
    },
    {
     "cell_type": "code",
     "collapsed": false,
     "input": [],
     "language": "python",
     "metadata": {},
     "outputs": []
    }
   ],
   "metadata": {}
  }
 ]
}