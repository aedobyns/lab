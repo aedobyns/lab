{
 "metadata": {
  "name": "",
  "signature": "sha256:13c57455dd24cf4f665bc9f11d5c5088c1068b9e213b793832fbe9ede8f35605"
 },
 "nbformat": 3,
 "nbformat_minor": 0,
 "worksheets": [
  {
   "cells": [
    {
     "cell_type": "code",
     "collapsed": false,
     "input": [
      "import numpy as np\n",
      "import scipy\n",
      "from scipy import spatial\n",
      "import pandas as pd\n",
      "import matplotlib.pyplot as plt\n",
      "from pandas.tools.plotting import autocorrelation_plot\n",
      "from pandas import Series, DataFrame\n",
      "import time as t\n",
      "from scipy.misc import imread\n",
      "import matplotlib.cbook as cbook"
     ],
     "language": "python",
     "metadata": {},
     "outputs": [],
     "prompt_number": 1
    },
    {
     "cell_type": "heading",
     "level": 2,
     "metadata": {},
     "source": [
      "Load Block"
     ]
    },
    {
     "cell_type": "markdown",
     "metadata": {},
     "source": [
      "Use the following block below to load your data. Please load both the LC_pro intensity file (normally called 'ROI normalized.txt') and the parameter list (normally called 'Parameter List.txt'). You can, optionally, load a still from you video to plot your ROIs over.\n",
      "\n",
      "This whole notebook is especially formated for LC_pro outputs. This means that the load files and wrappers expect that certain columns are in exactly the right locations and labels are formatted a certain way. This author does not expect other types of files to be handled properly (as in will probably fail)"
     ]
    },
    {
     "cell_type": "code",
     "collapsed": false,
     "input": [
      "data = pd.read_csv('/Users/abigaildobyns/Desktop/CW/022614 Output/ROI normalized.txt', index_col= 'time(s)', sep='\\t')\n",
      "del data['Unnamed: 0']\n",
      "roi_param = pd.read_csv('/Users/abigaildobyns/Desktop/CW/022614 Output/Parameter List .txt', index_col='ROI', sep='\\t')\n",
      "\n",
      "still = cbook.get_sample_data('/Users/abigaildobyns/Desktop/CW/022614 Output/image.tif')\n",
      "img = imread(still)\n",
      "\n",
      "roi_loc = roi_param[['X', 'Y']]\n",
      "roi_loc.drop_duplicates(inplace= True)\n",
      "roi_x = roi_loc['X'].tolist()\n",
      "roi_y = roi_loc['Y'].tolist()\n",
      "new_index = []\n",
      "for i in np.arange(len(roi_loc.index)):\n",
      "    new_index.append('Roi'+str(roi_loc.index[i]))\n",
      "roi_loc = DataFrame({'x':roi_x, 'y':roi_y}, index= new_index)"
     ],
     "language": "python",
     "metadata": {},
     "outputs": [
      {
       "output_type": "stream",
       "stream": "stderr",
       "text": [
        "-c:9: SettingWithCopyWarning: A value is trying to be set on a copy of a slice from a DataFrame\n"
       ]
      }
     ],
     "prompt_number": 2
    },
    {
     "cell_type": "heading",
     "level": 2,
     "metadata": {},
     "source": [
      "Cross Correlation"
     ]
    },
    {
     "cell_type": "code",
     "collapsed": false,
     "input": [
      "r = 0.8 #set r value, must be -1<= r <=1\n",
      "\n",
      "data_corr = data.corr()\n",
      "ls = (data_corr[data_corr>r].count())\n",
      "data_corr['Number of Related ROIs'] = ls\n",
      "cols = data_corr.columns.tolist()\n",
      "cols = cols[-1:] + cols[:-1]\n",
      "data_corr = data_corr[cols]\n",
      "\n",
      "#Save crosscorelation spreadsheet\n",
      "data_corr.to_csv('/Users/abigaildobyns/Desktop/sw practice/xcor.csv')"
     ],
     "language": "python",
     "metadata": {},
     "outputs": [],
     "prompt_number": 3
    },
    {
     "cell_type": "heading",
     "level": 2,
     "metadata": {},
     "source": [
      "Distance Matrix"
     ]
    },
    {
     "cell_type": "code",
     "collapsed": false,
     "input": [
      "loc_tup = []\n",
      "for i in np.arange(len(roi_loc.index)):\n",
      "    loc_tup.append((roi_x[i], roi_y[i]))\n",
      "roi_dist = scipy.spatial.distance.cdist(loc_tup, loc_tup, 'euclidean')\n",
      "roi_dist = DataFrame(data = (scipy.spatial.distance.cdist(loc_tup, loc_tup, 'euclidean')), index = new_index, columns= new_index)\n",
      "\n",
      "#Save Distance matrix\n",
      "roi_dist.to_csv('/Users/abigaildobyns/Desktop/sw practice/distance matrix.csv')"
     ],
     "language": "python",
     "metadata": {},
     "outputs": [],
     "prompt_number": 4
    },
    {
     "cell_type": "heading",
     "level": 2,
     "metadata": {},
     "source": [
      "ROI Friends"
     ]
    },
    {
     "cell_type": "heading",
     "level": 3,
     "metadata": {},
     "source": [
      "Calculations"
     ]
    },
    {
     "cell_type": "code",
     "collapsed": false,
     "input": [
      "roi_friend = data_corr[data_corr>r].index.tolist()\n",
      "friend_names = {}\n",
      "for label, column in data_corr.iteritems():\n",
      "    friend_names[label] = column[column>r].index.tolist()\n",
      "roi_friend_dist = DataFrame(index = data_corr.index)\n",
      "roi_friend_dist['Distance sum'] = (roi_dist[data_corr>r].sum())\n",
      "roi_friend_dist['Friend num'] = (data_corr[data_corr>r].count()-1)\n",
      "roi_friend_dist['Rel Dist'] = roi_friend_dist['Distance sum']/roi_friend_dist['Friend num']"
     ],
     "language": "python",
     "metadata": {},
     "outputs": [],
     "prompt_number": 5
    },
    {
     "cell_type": "code",
     "collapsed": false,
     "input": [
      "print roi_friend_dist"
     ],
     "language": "python",
     "metadata": {},
     "outputs": [
      {
       "output_type": "stream",
       "stream": "stdout",
       "text": [
        "        Distance sum  Friend num    Rel Dist\n",
        "Roi1     2469.289048          12  205.774087\n",
        "Roi2    43636.705370         130  335.666964\n",
        "Roi3      667.693647           3  222.564549\n",
        "Roi5     3458.576873          11  314.416079\n",
        "Roi10     913.819995           8  114.227499\n",
        "Roi11    4532.779463          19  238.567340\n",
        "Roi13      52.897443           3   17.632481\n",
        "Roi15    1107.675774           6  184.612629\n",
        "Roi17   13194.994943          61  216.311393\n",
        "Roi24       0.000000           0         inf\n",
        "Roi25    1296.731807           6  216.121968\n",
        "Roi30    3290.436035          15  219.362402\n",
        "Roi33     433.879765           3  144.626588\n",
        "Roi35    8502.511018          38  223.750290\n",
        "Roi37    5638.166164          29  194.419523\n",
        "Roi38   18669.710724          64  291.714230\n",
        "Roi39    8082.655290          42  192.444174\n",
        "Roi40     251.576923           2  125.788462\n",
        "Roi43      13.038405           1   13.038405\n",
        "Roi46   13220.986690          64  206.577917\n",
        "Roi47    9162.468757          59  155.296081\n",
        "Roi49    3084.708479          20  154.235424\n",
        "Roi53   20373.151135          86  236.897106\n",
        "Roi54     334.323547           6   55.720591\n",
        "Roi55    4104.066795          22  186.548491\n",
        "Roi58   29781.659070         163  182.709565\n",
        "Roi60   38303.996770         191  200.544486\n",
        "Roi61    2096.717704          16  131.044856\n",
        "Roi66   19090.005107          89  214.494439\n",
        "Roi68   33989.690186         186  182.740270\n",
        "Roi74    2130.344788          15  142.022986\n",
        "Roi75   13997.166147          52  269.176272\n",
        "Roi76     251.622870           2  125.811435\n",
        "Roi77    1733.987949          12  144.498996\n",
        "Roi78    1686.223709           9  187.358190\n",
        "Roi81   20579.342702         128  160.776115\n",
        "Roi82   16507.604359         115  143.544386\n",
        "Roi83   11144.304059          62  179.746840\n",
        "Roi84     191.452996           3   63.817665\n",
        "Roi88     116.109355           3   38.703118\n",
        "Roi89   41740.442444         165  252.972378\n",
        "Roi90   33262.027571         153  217.398873\n",
        "Roi92    8140.023768          38  214.211152\n",
        "Roi93    6887.528033          37  186.149406\n",
        "Roi95    3493.046790          23  151.871600\n",
        "Roi96   24202.889425         154  157.161620\n",
        "Roi98    9104.552700          55  165.537322\n",
        "Roi99   33253.682046         187  177.827177\n",
        "Roi101   1749.254018          13  134.558001\n",
        "Roi103    380.912650           4   95.228163\n",
        "Roi104   8735.224070          41  213.054246\n",
        "Roi106  22046.338819         144  153.099575\n",
        "Roi108  41954.037907         162  258.975543\n",
        "Roi110  19496.518465         107  182.210453\n",
        "Roi111   8829.640388          50  176.592808\n",
        "Roi112  42154.212588         211  199.782998\n",
        "Roi113  39895.019213         206  193.665142\n",
        "Roi116  29128.408196         183  159.171629\n",
        "Roi117  21823.105615         100  218.231056\n",
        "Roi118  38715.894169         149  259.838216\n",
        "                 ...         ...         ...\n",
        "\n",
        "[823 rows x 3 columns]\n"
       ]
      }
     ],
     "prompt_number": 38
    },
    {
     "cell_type": "code",
     "collapsed": false,
     "input": [
      "#Save ROI friend info\n",
      "roi_friend_dist.to_csv('/Users/abigaildobyns/Desktop/sw practice/roi_friends.csv')"
     ],
     "language": "python",
     "metadata": {},
     "outputs": [],
     "prompt_number": 34
    },
    {
     "cell_type": "heading",
     "level": 3,
     "metadata": {},
     "source": [
      "Individual Plots"
     ]
    },
    {
     "cell_type": "code",
     "collapsed": false,
     "input": [
      "roi = 'Roi2' #Use Roi Name to call it and it's friends for a plot\n",
      "\n",
      "plt.figure()\n",
      "plt.scatter(roi_loc.x[friend_names[roi]], roi_loc.y[friend_names[roi]], label = 'Friends', s=50, edgecolor = 'k', linewidth ='1',color = 'r', marker =\"o\", alpha = 0.75)\n",
      "plt.scatter(roi_loc.x[roi], roi_loc.y[roi], label = roi, s=50, edgecolor = 'k', linewidth ='1',color = 'b', marker =\"o\", alpha = 0.75)\n",
      "\n",
      "plt.xlim(xmin=0, xmax=490)\n",
      "plt.ylim(ymin = 0, ymax = 490)\n",
      "plt.title(roi)\n",
      "plt.imshow(img)\n",
      "#plt.legend(loc = 'center left')\n",
      "plt.show()"
     ],
     "language": "python",
     "metadata": {},
     "outputs": [],
     "prompt_number": 46
    },
    {
     "cell_type": "heading",
     "level": 2,
     "metadata": {},
     "source": [
      "All ROI + Img Plot"
     ]
    },
    {
     "cell_type": "code",
     "collapsed": false,
     "input": [
      "plt.figure()\n",
      "plt.scatter(roi_loc.x, roi_loc.y, s=50, edgecolor = 'k', linewidth ='1',color = 'r', marker =\"o\", alpha = 0.75)\n",
      "\n",
      "plt.xlim(xmin=-1, xmax=471)\n",
      "plt.ylim(ymin = -1, ymax = 471)\n",
      "plt.title('All LC_Pro ROIs')\n",
      "plt.imshow(img)\n",
      "#plt.legend(loc = 'center left')\n",
      "plt.show()"
     ],
     "language": "python",
     "metadata": {},
     "outputs": [],
     "prompt_number": 6
    },
    {
     "cell_type": "heading",
     "level": 2,
     "metadata": {},
     "source": [
      "Line Plots"
     ]
    },
    {
     "cell_type": "markdown",
     "metadata": {},
     "source": [
      "Change the file path upto the /%s to change the folder to the location where you would like the graphs to be saved."
     ]
    },
    {
     "cell_type": "code",
     "collapsed": false,
     "input": [
      "def rainbow_traces(dataframe, num_rois, ymin, ymax):\n",
      "    \n",
      "    for r in np.arange(num_rois):\n",
      "        \n",
      "        plt.figure()\n",
      "        plt.xlabel('Time (s)')\n",
      "        plt.ylabel('Intensity')\n",
      "        plt.title(dataframe.columns[r])\n",
      "        plt.ylim(ymin = ymin, ymax = ymax)\n",
      "        plt.xlim(xmin= dataframe.index[0], xmax = dataframe.index[-1])\n",
      "        plt.plot(dataframe.index, dataframe.ix[:,r], color = [np.random.random(), np.random.random(), np.random.random()])\n",
      "\n",
      "        \n",
      "        plt.savefig(r'/Users/abigaildobyns/Desktop/sw practice/plots/%s.pdf' %(dataframe.columns[r]))\n",
      "        plt.close()"
     ],
     "language": "python",
     "metadata": {},
     "outputs": [],
     "prompt_number": 31
    },
    {
     "cell_type": "markdown",
     "metadata": {},
     "source": [
      "The code below automatically sets the limits the y limits to 0 and the max of the tallest graph. "
     ]
    },
    {
     "cell_type": "code",
     "collapsed": false,
     "input": [
      "rainbow_traces(data, len(data.columns), ymin = 0, ymax = max(data.max()))"
     ],
     "language": "python",
     "metadata": {},
     "outputs": [],
     "prompt_number": 32
    },
    {
     "cell_type": "heading",
     "level": 1,
     "metadata": {},
     "source": [
      "END"
     ]
    }
   ],
   "metadata": {}
  }
 ]
}