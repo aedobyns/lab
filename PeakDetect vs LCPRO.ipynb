{
 "metadata": {
  "name": "",
  "signature": "sha256:edf5699484ebc40d9e7a8e7c8dca12f976c9c778f4c856e185d09296a03e01e4"
 },
 "nbformat": 3,
 "nbformat_minor": 0,
 "worksheets": [
  {
   "cells": [
    {
     "cell_type": "markdown",
     "metadata": {},
     "source": [
      "Support code below"
     ]
    },
    {
     "cell_type": "code",
     "collapsed": false,
     "input": [
      "import numpy as np\n",
      "import scipy\n",
      "from scipy import spatial, signal, fft, arange\n",
      "import pandas as pd\n",
      "import matplotlib.pyplot as plt\n",
      "from pandas import Series, DataFrame\n",
      "import time as t\n",
      "from PIL import Image\n",
      "import sys\n",
      "import os, errno\n",
      "import matplotlib.patches as patches\n",
      "from pandas.tools.plotting import autocorrelation_plot\n",
      "from pyeeg import * \n",
      "from numpy import NaN, Inf, arange, isscalar, asarray, array"
     ],
     "language": "python",
     "metadata": {},
     "outputs": [],
     "prompt_number": 1
    },
    {
     "cell_type": "code",
     "collapsed": false,
     "input": [
      "File_path = \" \"\n"
     ],
     "language": "python",
     "metadata": {},
     "outputs": []
    },
    {
     "cell_type": "code",
     "collapsed": false,
     "input": [
      "data = pd.read_csv(r'%s/%s_ROI.csv' %(folder, animal), index_col= 'time(s)', sep=',') #load the intensity time series for each roi. should be a text file named exactly 'ROI normalized.txt'\n",
      "print \"Loaded 'ROI normalized.txt'\"\n",
      "\n",
      "roi_param = pd.read_csv(r'%s/%s_ROI_loc.csv' %(folder,animal), index_col=0, sep='\\t')#load the parameter list.\n",
      "print \"Loaded 'Parameter List_edit.txt'\"\n",
      "\n",
      "im = Image.open(r'%s/%s_MaxIntensity.png' %(folder, animal)) #MUST BE RBG and .png. seriously, I'm not kidding.\n",
      "print \"Loaded 'rbg.png'\"\n",
      "\n",
      "roi_x = roi_param['XM'].tolist() #extract the x column as an array and store it as a value. this is handy for later calculations\n",
      "roi_y = roi_param['YM'].tolist() #extract the y column as an array and store it as a value. this is handy for later calculations\n",
      "new_index = [] #make an empty temp list\n",
      "for i in np.arange(len(roi_param.index)): #for each index in roi_loc\n",
      "    new_index.append('Mean'+str(roi_param.index[i])) #make a string from the index name in the same format as the data\n",
      "roi_loc = DataFrame({'x':roi_x, 'y':roi_y}, index= new_index) #reassign roi_loc to a dataframe with the properly named index. this means that we can use the same roi name to call from either the data or location dataframes\n",
      "print 'roi_loc parsed'"
     ],
     "language": "python",
     "metadata": {},
     "outputs": []
    },
    {
     "cell_type": "code",
     "collapsed": false,
     "input": [
      "#this is the settings box\n",
      "rate = \n",
      "\n",
      "#True or False\n",
      "linear_subtraction = True \n",
      "\n",
      "\n"
     ],
     "language": "python",
     "metadata": {},
     "outputs": []
    },
    {
     "cell_type": "code",
     "collapsed": false,
     "input": [
      "def delta_tuner(dataframe, epsilon):\n",
      "    '''\n",
      "    \n",
      "    '''\n",
      "    \n",
      "    "
     ],
     "language": "python",
     "metadata": {},
     "outputs": []
    },
    {
     "cell_type": "code",
     "collapsed": false,
     "input": [
      "load(roi parameters-original)\n",
      "load(roi parameters-select)\n",
      "load(time series-original)\n",
      "load(time series-select) #use data = data[roi_loc.index] to filter the full time series to obtain the select list\n",
      "\n",
      "def delta_turner(dataframe, epsilon): #choose which data to use to tune. can be either selected list or full ist. AD reccoments full list.\n",
      "    '''\n",
      "    this function takes a dataframe of time series data and runs peak detection iteritvely. \n",
      "    since peak detection always has the the range of delta values of 0 to the max of stack,\n",
      "    epsiolon is used to be the number of divisions of that range to test. 1 being the minimum for epsilon, which is the exact middle of the range.\n",
      "    the function will return a results table (average # of events) and (# ROIs with events>1) on their own axis.\n",
      "    the graph will be click able, as to obtain the delta value that generated that point.\n",
      "    data results are not saved.\n",
      "    '''\n",
      "    \n",
      "    range_array = np.linspace(0, max(dataframe), num = epsilon)\n",
      "    results = DataFrame(index=range_array, col = ['Average events', 'Average # ROIs']) #dataframe with an index for each of the delta values. the columns will be (average # of events) and (# ROIs with events>1)\n",
      "    \n",
      "    for delta in range_array:\n",
      "        \n",
      "        peak_amp_sum = event_detection(data,delta) #perform event detection\n",
      "\n",
      "        event_counts = peak_amp_sum.loc['count']\n",
      "        average_num_events = event_counts.mean()\n",
      "        percent_roi = events_counts[events_counts>0].count()/events_counts.count()\n",
      "\n",
      "        results[delta, 'average events'] = average_num_events\n",
      "        results[delta, 'percentage ROIS'] = percent_roi\n",
      "    return results\n",
      "\n",
      "def delta_tuner_graph(results):\n",
      "    '''\n",
      "    plot results in two tandem graphs\n",
      "    '''\n",
      "    \n",
      "    "
     ],
     "language": "python",
     "metadata": {},
     "outputs": []
    }
   ],
   "metadata": {}
  }
 ]
}