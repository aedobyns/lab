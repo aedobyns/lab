{
 "metadata": {
  "name": "",
  "signature": "sha256:59dc469063a91d85d0af65f9b1190af200640dd38aa4641a4e57a7a32a2df6d7"
 },
 "nbformat": 3,
 "nbformat_minor": 0,
 "worksheets": [
  {
   "cells": [
    {
     "cell_type": "code",
     "collapsed": false,
     "input": [
      "from bass import *"
     ],
     "language": "python",
     "metadata": {},
     "outputs": [],
     "prompt_number": 5
    },
    {
     "cell_type": "code",
     "collapsed": false,
     "input": [
      "    \"\"\"\n",
      "    Description\n",
      "    Parameters\n",
      "    ----------\n",
      "    param1 : type, shape (N,) optional\n",
      "        description.\n",
      "    param2 : type, shape (N,) optional\n",
      "        description.\n",
      "    Returns\n",
      "    -------\n",
      "    value : type, shape (N) optional\n",
      "        description.\n",
      "    Notes\n",
      "    -----\n",
      "    more note about usage and philosophy. \n",
      "    Examples\n",
      "    --------\n",
      "    ?\n",
      "    References\n",
      "    ----------\n",
      "    .. [1] Ref1\n",
      "    .. [2] Ref2\n",
      "    \"\"\""
     ],
     "language": "python",
     "metadata": {},
     "outputs": []
    },
    {
     "cell_type": "markdown",
     "metadata": {},
     "source": [
      "We live in an era of Big Data analytics in biomedical research. While there have been great advances in monitoring devices and analysis algorithms, there is no prescribed work-flow for analyzing biological data obtained from imaging or physiology experiments. Most laboratories use their own unique process for analyzing data and this often involves a mix of proprietary and Free/Libre Open-Source software (FLOSS). Many FLOSS tools are available, however, none comprehensively addresses the needs of current data-intensive biomedical research\u2014specifically the need for free access and reproducibility. We have developed a FLOSS interactive analysis tool-set based on IPython/Python and specifically tailored to a physiology laboratory's work-flow. IPython provides an interactive work-flow that is easy to learn, use, and modify\u2014thus facilitating training of new users in a laboratory and resulting in more rapid data analysis. Our IPython modules incorporate signal analysis tools used for time-series data (including event detection), spectral analysis (including FFT and wavelets), and information theory metrics (including Sample/Approximate, and Shannon entropy). We have developed a set of tools that allow flexible incorporation of these modules for data analyses typically used in physiology and neuroscience laboratories. We present examples of calcium imaging data analysis in both neural and vascular tissue. Additionally, we provide examples of data analyses applied to autonomic neural output, ECG, and phrenic neurogram. Our suite of tools are freely available for investigators to customize for their laboratory's needs."
     ]
    }
   ],
   "metadata": {}
  }
 ]
}