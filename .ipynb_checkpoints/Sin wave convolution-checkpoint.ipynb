{
 "metadata": {
  "name": "",
  "signature": "sha256:250ce5f36a663b27cac5d3ab16f10dd9b1c9f212950ca85d41e08be2c7e71fd7"
 },
 "nbformat": 3,
 "nbformat_minor": 0,
 "worksheets": [
  {
   "cells": [
    {
     "cell_type": "code",
     "collapsed": false,
     "input": [
      "import numpy as np\n",
      "import scipy\n",
      "from scipy import signal\n",
      "import matplotlib.pyplot as plt\n",
      "import sys\n",
      "import time as t\n",
      "import matplotlib.patches as patches\n",
      "from math import pi,sin\n",
      "from numpy.fft import fft"
     ],
     "language": "python",
     "metadata": {},
     "outputs": [],
     "prompt_number": 1
    },
    {
     "cell_type": "code",
     "collapsed": false,
     "input": [
      "time = np.arange(1000)\n",
      "\n",
      "#make a list for each wave\n",
      "wave1 =[]\n",
      "wave2= []\n",
      "\n",
      "frq1=400\n",
      "frq2=700\n",
      "\n",
      "#sin function needs to be for one value only\n",
      "for w1 in time:\n",
      "    sin_w1 = sin(w1*frq1)\n",
      "    wave1.append(sin_w1)\n",
      "\n",
      "for w2 in time:\n",
      "    sin_w2 = sin(w2*frq2)\n",
      "    wave2.append(sin_w2)"
     ],
     "language": "python",
     "metadata": {},
     "outputs": [],
     "prompt_number": 83
    },
    {
     "cell_type": "code",
     "collapsed": false,
     "input": [
      "# combine both waves\n",
      "wave = signal.convolve(wave1,wave2)"
     ],
     "language": "python",
     "metadata": {},
     "outputs": [],
     "prompt_number": 84
    },
    {
     "cell_type": "code",
     "collapsed": false,
     "input": [
      "#plot the waves\n",
      "plt.subplot(311)\n",
      "plt.plot(wave1, color = 'r')\n",
      "plt.title('Wave1')\n",
      "\n",
      "plt.subplot(312)\n",
      "plt.plot(wave2,color = 'k')\n",
      "plt.title('Wave2')\n",
      "\n",
      "plt.subplot(313)\n",
      "plt.plot(wave[:1000], color ='b')\n",
      "plt.title('Convolved Wave')\n",
      "\n",
      "plt.show()"
     ],
     "language": "python",
     "metadata": {},
     "outputs": [],
     "prompt_number": 85
    },
    {
     "cell_type": "code",
     "collapsed": false,
     "input": [
      "\"\"\"\n",
      "fft has to imported like: from numpy.fft importt fft\n",
      "fft seems to be working, just need to make sure that the freq are right\n",
      "\"\"\"\n",
      "n = len(wave[:1000])  #length of the wave\n",
      "k = np.arange(n)      # creates a list of integers from 0 to len-1\n",
      "T = n/500\n",
      "\n",
      "frq = k/T             # finding freq by dividing list and T (n/sample rate)\n",
      "                   \n",
      "#frq = frq[range(n/2)]\n",
      "\n",
      "Y = fft(wave[:1000])\n",
      "#Y = Y[range(n/2)]\n",
      "\n",
      "plt.plot(frq,abs(Y))\n",
      "plt.xlabel('Freq (hz)')\n",
      "plt.ylabel('|Y(freq)|')\n",
      "plt.title('Power Plot (Low freq)')\n",
      "plt.show()\n"
     ],
     "language": "python",
     "metadata": {},
     "outputs": [],
     "prompt_number": 90
    },
    {
     "cell_type": "code",
     "collapsed": false,
     "input": [
      "#frq"
     ],
     "language": "python",
     "metadata": {},
     "outputs": [],
     "prompt_number": 142
    },
    {
     "cell_type": "code",
     "collapsed": false,
     "input": [],
     "language": "python",
     "metadata": {},
     "outputs": []
    }
   ],
   "metadata": {}
  }
 ]
}