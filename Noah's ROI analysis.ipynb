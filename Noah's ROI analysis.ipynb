{
 "metadata": {
  "name": "",
  "signature": "sha256:bbcc9137a77ba000b61bf55c9168ac191fe1137d31e1a4c3342d43f8ed649b0e"
 },
 "nbformat": 3,
 "nbformat_minor": 0,
 "worksheets": [
  {
   "cells": [
    {
     "cell_type": "code",
     "collapsed": false,
     "input": [
      "import numpy as np\n",
      "import scipy\n",
      "import pandas as pd\n",
      "import matplotlib.pyplot as plt\n",
      "from pandas.tools.plotting import autocorrelation_plot\n",
      "from pandas import Series, DataFrame"
     ],
     "language": "python",
     "metadata": {},
     "outputs": [],
     "prompt_number": 3
    },
    {
     "cell_type": "code",
     "collapsed": false,
     "input": [
      "baseline = pd.read_csv('/Users/abigaildobyns/Dropbox/Wilson_lab_papers/Abby/data/Noah/20140626-ROI table-(2014-06-03-Baseline-(Pup_5)-NTS -1).txt', index_col= 'Time [s]', sep='\\t')"
     ],
     "language": "python",
     "metadata": {},
     "outputs": [],
     "prompt_number": 4
    },
    {
     "cell_type": "code",
     "collapsed": false,
     "input": [
      "lps = pd.read_csv('/Users/abigaildobyns/Dropbox/Wilson_lab_papers/Abby/data/Noah/20140626-ROI table-(2014-06-03-LPS-(Pup_5)-NTS -1)-frame4.txt', index_col= 'Time [s]', sep='\\t')"
     ],
     "language": "python",
     "metadata": {},
     "outputs": [],
     "prompt_number": 5
    },
    {
     "cell_type": "code",
     "collapsed": false,
     "input": [
      "lps = lps[:600]\n",
      "baseline = baseline[:600]"
     ],
     "language": "python",
     "metadata": {},
     "outputs": [],
     "prompt_number": 6
    },
    {
     "cell_type": "code",
     "collapsed": false,
     "input": [
      "lps.plot(subplots= True, legend = False, sharex = True, sharey = True)\n",
      "plt.show()"
     ],
     "language": "python",
     "metadata": {},
     "outputs": [],
     "prompt_number": 25
    },
    {
     "cell_type": "code",
     "collapsed": false,
     "input": [
      "baseline_corr = baseline.corr()\n",
      "baseline_corr.to_csv('/Users/abigaildobyns/Dropbox/Wilson_lab_papers/Abby/data/Noah/Baseline Corralation.csv')\n",
      "baseline_corr"
     ],
     "language": "python",
     "metadata": {},
     "outputs": [
      {
       "html": [
        "<div style=\"max-height:1000px;max-width:1500px;overflow:auto;\">\n",
        "<table border=\"1\" class=\"dataframe\">\n",
        "  <thead>\n",
        "    <tr style=\"text-align: right;\">\n",
        "      <th></th>\n",
        "      <th>Intensity Region 3</th>\n",
        "      <th>Intensity Region 4</th>\n",
        "      <th>Intensity Region 6</th>\n",
        "    </tr>\n",
        "  </thead>\n",
        "  <tbody>\n",
        "    <tr>\n",
        "      <th>Intensity Region 3</th>\n",
        "      <td> 1.000000</td>\n",
        "      <td> 0.291601</td>\n",
        "      <td> 0.330402</td>\n",
        "    </tr>\n",
        "    <tr>\n",
        "      <th>Intensity Region 4</th>\n",
        "      <td> 0.291601</td>\n",
        "      <td> 1.000000</td>\n",
        "      <td> 0.625306</td>\n",
        "    </tr>\n",
        "    <tr>\n",
        "      <th>Intensity Region 6</th>\n",
        "      <td> 0.330402</td>\n",
        "      <td> 0.625306</td>\n",
        "      <td> 1.000000</td>\n",
        "    </tr>\n",
        "  </tbody>\n",
        "</table>\n",
        "<p>3 rows \u00d7 3 columns</p>\n",
        "</div>"
       ],
       "metadata": {},
       "output_type": "pyout",
       "prompt_number": 7,
       "text": [
        "                    Intensity Region 3  Intensity Region 4  Intensity Region 6\n",
        "Intensity Region 3            1.000000            0.291601            0.330402\n",
        "Intensity Region 4            0.291601            1.000000            0.625306\n",
        "Intensity Region 6            0.330402            0.625306            1.000000\n",
        "\n",
        "[3 rows x 3 columns]"
       ]
      }
     ],
     "prompt_number": 7
    },
    {
     "cell_type": "code",
     "collapsed": false,
     "input": [
      "lps_corr = lps.corr()\n",
      "lps_corr.to_csv('/Users/abigaildobyns/Dropbox/Wilson_lab_papers/Abby/data/Noah/LPS Corralation.csv')\n",
      "\n",
      "lps_corr"
     ],
     "language": "python",
     "metadata": {},
     "outputs": [
      {
       "html": [
        "<div style=\"max-height:1000px;max-width:1500px;overflow:auto;\">\n",
        "<table border=\"1\" class=\"dataframe\">\n",
        "  <thead>\n",
        "    <tr style=\"text-align: right;\">\n",
        "      <th></th>\n",
        "      <th>Intensity Region 3</th>\n",
        "      <th>Intensity Region 4</th>\n",
        "      <th>Intensity Region 6</th>\n",
        "    </tr>\n",
        "  </thead>\n",
        "  <tbody>\n",
        "    <tr>\n",
        "      <th>Intensity Region 3</th>\n",
        "      <td> 1.000000</td>\n",
        "      <td> 0.862779</td>\n",
        "      <td> 0.141833</td>\n",
        "    </tr>\n",
        "    <tr>\n",
        "      <th>Intensity Region 4</th>\n",
        "      <td> 0.862779</td>\n",
        "      <td> 1.000000</td>\n",
        "      <td> 0.100178</td>\n",
        "    </tr>\n",
        "    <tr>\n",
        "      <th>Intensity Region 6</th>\n",
        "      <td> 0.141833</td>\n",
        "      <td> 0.100178</td>\n",
        "      <td> 1.000000</td>\n",
        "    </tr>\n",
        "  </tbody>\n",
        "</table>\n",
        "<p>3 rows \u00d7 3 columns</p>\n",
        "</div>"
       ],
       "metadata": {},
       "output_type": "pyout",
       "prompt_number": 8,
       "text": [
        "                    Intensity Region 3  Intensity Region 4  Intensity Region 6\n",
        "Intensity Region 3            1.000000            0.862779            0.141833\n",
        "Intensity Region 4            0.862779            1.000000            0.100178\n",
        "Intensity Region 6            0.141833            0.100178            1.000000\n",
        "\n",
        "[3 rows x 3 columns]"
       ]
      }
     ],
     "prompt_number": 8
    },
    {
     "cell_type": "code",
     "collapsed": false,
     "input": [
      "baseline.plot(subplots= True, legend = False, sharex = True, sharey = True, ylim=(0, 16000), title='Baseline')\n",
      "plt.savefig('/Users/abigaildobyns/Dropbox/Wilson_lab_papers/Abby/data/Noah/Baseline(subplot=True).pdf')\n",
      "\n",
      "baseline.plot(subplots= False, legend = True, sharex = True, sharey = True, ylim=(0, 16000), title='Baseline')\n",
      "plt.savefig('/Users/abigaildobyns/Dropbox/Wilson_lab_papers/Abby/data/Noah/Baseline(subplot=False).pdf')\n",
      "\n",
      "lps.plot(subplots= True, legend = False, sharex = True, sharey = True, ylim=(0, 16000), title='LPS')\n",
      "plt.savefig('/Users/abigaildobyns/Dropbox/Wilson_lab_papers/Abby/data/Noah/LPS(subplot=True).pdf')\n",
      "\n",
      "lps.plot(subplots= False, legend = True, sharex = True, sharey = True, ylim=(0, 16000), title='LPS')\n",
      "plt.savefig('/Users/abigaildobyns/Dropbox/Wilson_lab_papers/Abby/data/Noah/LPS(subplot=False).pdf')"
     ],
     "language": "python",
     "metadata": {},
     "outputs": [],
     "prompt_number": 33
    },
    {
     "cell_type": "code",
     "collapsed": false,
     "input": [
      "dict_results = {}\n",
      "    "
     ],
     "language": "python",
     "metadata": {},
     "outputs": []
    }
   ],
   "metadata": {}
  }
 ]
}