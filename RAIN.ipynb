{
 "metadata": {
  "name": "",
  "signature": "sha256:3ad641593607b397bdbbb7cf97a86f2e489d5fbaba8e10c4ab5fe6f6ad400f7b"
 },
 "nbformat": 3,
 "nbformat_minor": 0,
 "worksheets": []
}