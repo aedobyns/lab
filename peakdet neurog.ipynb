{
 "metadata": {
  "name": "",
  "signature": "sha256:933d13a53b6b6c75d4e9cb2a2faefdc5fe377891c6bcc0feb6595142a88ea4c6"
 },
 "nbformat": 3,
 "nbformat_minor": 0,
 "worksheets": [
  {
   "cells": [
    {
     "cell_type": "code",
     "collapsed": false,
     "input": [
      "import numpy as np\n",
      "import scipy\n",
      "from scipy import signal\n",
      "import matplotlib.pyplot as plt\n",
      "import sys\n",
      "import time as t"
     ],
     "language": "python",
     "metadata": {},
     "outputs": [],
     "prompt_number": 1
    },
    {
     "cell_type": "code",
     "collapsed": false,
     "input": [
      "from numpy import NaN, Inf, arange, isscalar, asarray, array\n",
      " \n",
      "def peakdet(v, delta, x = None):\n",
      "    \"\"\"\n",
      "    Converted from MATLAB script at http://billauer.co.il/peakdet.html\n",
      "    \n",
      "    Returns two arrays\n",
      "    \n",
      "    function [maxtab, mintab]=peakdet(v, delta, x)\n",
      "    %PEAKDET Detect peaks in a vector\n",
      "    %        [MAXTAB, MINTAB] = PEAKDET(V, DELTA) finds the local\n",
      "    %        maxima and minima (\"peaks\") in the vector V.\n",
      "    %        MAXTAB and MINTAB consists of two columns. Column 1\n",
      "    %        contains indices in V, and column 2 the found values.\n",
      "    %      \n",
      "    %        With [MAXTAB, MINTAB] = PEAKDET(V, DELTA, X) the indices\n",
      "    %        in MAXTAB and MINTAB are replaced with the corresponding\n",
      "    %        X-values.\n",
      "    %\n",
      "    %        A point is considered a maximum peak if it has the maximal\n",
      "    %        value, and was preceded (to the left) by a value lower by\n",
      "    %        DELTA.\n",
      "    \n",
      "    % Eli Billauer, 3.4.05 (Explicitly not copyrighted).\n",
      "    % This function is released to the public domain; Any use is allowed.\n",
      "    \n",
      "    \"\"\"\n",
      "    maxtab = []\n",
      "    mintab = []\n",
      "       \n",
      "    if x is None:\n",
      "        x = arange(len(v))\n",
      "    \n",
      "    v = asarray(v)\n",
      "    \n",
      "    if len(v) != len(x):\n",
      "        sys.exit('Input vectors v and x must have same length')\n",
      "    \n",
      "    if not isscalar(delta):\n",
      "        sys.exit('Input argument delta must be a scalar')\n",
      "    \n",
      "    if delta <= 0:\n",
      "        sys.exit('Input argument delta must be positive')\n",
      "    \n",
      "    mn, mx = Inf, -Inf\n",
      "    mnpos, mxpos = NaN, NaN\n",
      "    \n",
      "    lookformax = True\n",
      "    \n",
      "    for i in arange(len(v)):\n",
      "        this = v[i]\n",
      "        if this > mx:\n",
      "            mx = this\n",
      "            mxpos = x[i]\n",
      "        if this < mn:\n",
      "            mn = this\n",
      "            mnpos = x[i]\n",
      "        \n",
      "        if lookformax:\n",
      "            if this < mx-delta:\n",
      "                maxtab.append((mxpos, mx))\n",
      "                mn = this\n",
      "                mnpos = x[i]\n",
      "                lookformax = False\n",
      "        else:\n",
      "            if this > mn+delta:\n",
      "                mintab.append((mnpos, mn))\n",
      "                mx = this\n",
      "                mxpos = x[i]\n",
      "                lookformax = True\n",
      " \n",
      "    return array(maxtab), array(mintab)"
     ],
     "language": "python",
     "metadata": {},
     "outputs": [],
     "prompt_number": 2
    },
    {
     "cell_type": "code",
     "collapsed": false,
     "input": [
      "from matplotlib import cbook\n",
      "\n",
      "class DataCursor(object):\n",
      "    \"\"\"A simple data cursor widget that displays the x,y location of a\n",
      "    matplotlib artist when it is selected.\"\"\"\n",
      "    def __init__(self, artists, tolerance=5, offsets=(-20, 20), \n",
      "                 template='x: %0.2f\\ny: %0.2f', display_all=False):\n",
      "        \"\"\"Create the data cursor and connect it to the relevant figure.\n",
      "        \"artists\" is the matplotlib artist or sequence of artists that will be \n",
      "            selected. \n",
      "        \"tolerance\" is the radius (in points) that the mouse click must be\n",
      "            within to select the artist.\n",
      "        \"offsets\" is a tuple of (x,y) offsets in points from the selected\n",
      "            point to the displayed annotation box\n",
      "        \"template\" is the format string to be used. Note: For compatibility\n",
      "            with older versions of python, this uses the old-style (%) \n",
      "            formatting specification.\n",
      "        \"display_all\" controls whether more than one annotation box will\n",
      "            be shown if there are multiple axes.  Only one will be shown\n",
      "            per-axis, regardless. \n",
      "        \"\"\"\n",
      "        self.template = template\n",
      "        self.offsets = offsets\n",
      "        self.display_all = display_all\n",
      "        if not cbook.iterable(artists):\n",
      "            artists = [artists]\n",
      "        self.artists = artists\n",
      "        self.axes = tuple(set(art.axes for art in self.artists))\n",
      "        self.figures = tuple(set(ax.figure for ax in self.axes))\n",
      "\n",
      "        self.annotations = {}\n",
      "        for ax in self.axes:\n",
      "            self.annotations[ax] = self.annotate(ax)\n",
      "\n",
      "        for artist in self.artists:\n",
      "            artist.set_picker(tolerance)\n",
      "        for fig in self.figures:\n",
      "            fig.canvas.mpl_connect('pick_event', self)\n",
      "\n",
      "    def annotate(self, ax):\n",
      "        \"\"\"Draws and hides the annotation box for the given axis \"ax\".\"\"\"\n",
      "        annotation = ax.annotate(self.template, xy=(0, 0), ha='right',\n",
      "                xytext=self.offsets, textcoords='offset points', va='bottom',\n",
      "                bbox=dict(boxstyle='round,pad=0.5', fc='yellow', alpha=0.5),\n",
      "                arrowprops=dict(arrowstyle='->', connectionstyle='arc3,rad=0')\n",
      "                )\n",
      "        annotation.set_visible(False)\n",
      "        return annotation\n",
      "\n",
      "    def __call__(self, event):\n",
      "        \"\"\"Intended to be called through \"mpl_connect\".\"\"\"\n",
      "        # Rather than trying to interpolate, just display the clicked coords\n",
      "        # This will only be called if it's within \"tolerance\", anyway.\n",
      "        x, y = event.mouseevent.xdata, event.mouseevent.ydata\n",
      "        annotation = self.annotations[event.artist.axes]\n",
      "        if x is not None:\n",
      "            if not self.display_all:\n",
      "                # Hide any other annotation boxes...\n",
      "                for ann in self.annotations.values():\n",
      "                    ann.set_visible(False)\n",
      "            # Update the annotation in the current axis..\n",
      "            annotation.xy = x, y\n",
      "            annotation.set_text(self.template % (x, y))\n",
      "            annotation.set_visible(True)\n",
      "            event.canvas.draw()\n",
      "\n",
      "#if __name__ == '__main__':\n",
      "    #import matplotlib.pyplot as plt\n",
      "    #plt.figure()\n",
      "    #plt.subplot(2,1,1)\n",
      "    #line1, = plt.plot(range(10), 'ro-')\n",
      "    #plt.subplot(2,1,2)\n",
      "    #line2, = plt.plot(range(10), 'bo-')\n",
      "\n",
      "    #DataCursor([line1, line2])"
     ],
     "language": "python",
     "metadata": {},
     "outputs": [],
     "prompt_number": 3
    },
    {
     "cell_type": "code",
     "collapsed": false,
     "input": [
      "def baseline(data,rate):\n",
      "    \n",
      "    '''\n",
      "    input data array and rate value.\n",
      "    using the first 0.2 s of data, find average of all data values. this becomes the baseline.\n",
      "    baseline is used later in burst measurements\n",
      "    import numpy as np\n",
      "    '''\n",
      "    \n",
      "    index = 0.2/rate #find the index of the first 0.2 seconds of data\n",
      "    baserate = np.mean(data[:index]) #average all points to obtain baserate\n",
      "    \n",
      "    datashift = []\n",
      "    \n",
      "    #may be able to use np.subtract(data,base) instead, but this seems to work correctly.\n",
      "    for x in data:\n",
      "        foo = (x-baserate)\n",
      "        datashift.append(foo)\n",
      "        \n",
      "    return baserate, datashift"
     ],
     "language": "python",
     "metadata": {},
     "outputs": [],
     "prompt_number": 4
    },
    {
     "cell_type": "code",
     "collapsed": false,
     "input": [
      "def shorten (time, data, factor=25):\n",
      "    '''\n",
      "    a method to take every FACTOR element from two arrays and return a shorter list of those values. \n",
      "    AD is creating this because the spectral data we are collecting is too fine to calculate it with. makes me cray cray\n",
      "    '''\n",
      "    \n",
      "    time_short = []\n",
      "    data_short= []\n",
      "    \n",
      "    length = len(time)/factor\n",
      "    "
     ],
     "language": "python",
     "metadata": {},
     "outputs": []
    },
    {
     "cell_type": "code",
     "collapsed": false,
     "input": [
      "def burstduration(time, data, baserate, threshperc=0.2, clusterperc=0.006):\n",
      "    \"\"\"\n",
      "    threshperc should be 0<= x <= 1; clusterperc should be changed based on the type of data (default for ECG is 0.006)\n",
      "    baserate needs to be calculated and passed into this argument\n",
      "    data should already be transformed, smoothed, and baseline shifted (shifting is technically optional, but it really doesn't matter)\n",
      "    \"\"\"\n",
      "    \n",
      "    if len(time) != len(data): #logic check, are the number of data points and time points the same?\n",
      "        sys.exit('You cannot have more time points than there are data points. Get that sorted, buddy.')    \n",
      "    \n",
      "    burst_start = [] #empty array for burst start\n",
      "    burst_end = [] #empty array for burst end\n",
      "    burst_duration = [] #empty array to calculate burst durration\n",
      "    \n",
      "    threshold = baserate * threshperc #calculate the point at which a event is considered a peak\n",
      "    \n",
      "    burst = False #burst flag, should start not in a burst\n",
      "\n",
      "    index = -1\n",
      "    for point in data: #for each data point in the set\n",
      "        \n",
      "        index = index +1\n",
      "        if index %1000 == 0:\n",
      "            print index, \"=\", t.clock()\n",
      "            \n",
      "        if burst == False and point > threshold: #if we are not in a burst already, the value is higher than the threshold, AND the last burst didn't end less than .2 ms ago\n",
      "            timeindex = data.index(point) #find the time index of a given data point\n",
      "            tpoint = time[timeindex] #find the actual time given teh time index\n",
      "            burst_start.append(tpoint) #add the time at point as the begining of the burst\n",
      "            burst = True #burst flag, we are now in a burst \n",
      "        \n",
      "        if burst == True and  point <= threshold: #if we are in a burst and the point falls below the threshold\n",
      "            \n",
      "            if len(burst_end) == 0 or len(burst_start) == 0: #if this is the first end\n",
      "                timeindex = data.index(point) #find the time index of a given data point\n",
      "                tpoint = time[timeindex] #find the actual time given teh time index\n",
      "                burst_end.append (tpoint) #add the time at point as the end of the burst\n",
      "                burst = False #burst flag, we are now out of the burst\n",
      "    \n",
      "            #elif burst_start[-1] > (burst_end[-1] + 0.0007): #if the start time and the last end time are too close together, don't add it as a seperate burst\n",
      "            #    del burst_end[-1] #delete the last end time\n",
      "             #   burst_end.append(tpoint) #replace it with the new end time\n",
      "              #  del burst_start[-1] #get rid of new start time, since it isn't really a new start time\n",
      "            \n",
      "            else:\n",
      "                timeindex = data.index(point) #find the time index of a given data point\n",
      "                tpoint = time[timeindex] #find the actual time given teh time index\n",
      "                burst_end.append (tpoint) #add the time at point as the end of the burst\n",
      "                burst = False #burst flag, we are now out of the burst\n",
      "                if burst_start[-1] < (burst_end[-2] + clusterperc):\n",
      "                    del burst_end[-2]\n",
      "                    del burst_start[-1]\n",
      "    \n",
      "    if len(burst_start) != len(burst_end):\n",
      "        sys.exit('Unexpectedly, the number of burst start times and end times are not equal. Seeing as this is physically impossible, I quit the program for you. Begin hunting for the fatal flaw. Good luck!')\n",
      "        \n",
      "    print t.clock(), \"- start duration array\"\n",
      "    for foo in burst_start: #for each burst\n",
      "        index = burst_start.index(foo)\n",
      "        duration = burst_end[index] - burst_start[index] #calculate duration by subtracting the start time from the end time, found by indexing\n",
      "        burst_duration.append(duration) #add the burst duration to the duration list\n",
      "    print t.clock(), \"-end duration array\"\n",
      "    \n",
      "    return burst_start, burst_end, burst_duration"
     ],
     "language": "python",
     "metadata": {},
     "outputs": [],
     "prompt_number": 18
    },
    {
     "cell_type": "code",
     "collapsed": false,
     "input": [
      "def ibi(burst_start, burst_end):\n",
      "    \"\"\"\n",
      "    this function is used to find the inter-burst interval. \n",
      "    this is defined as the difference between the last end and the new start time\n",
      "    Dependent on numpy, burst_start, and burst_end\n",
      "    \"\"\"\n",
      "    \n",
      "    ibi = []\n",
      "    \n",
      "    for end in burst_end[:-1]: #for each end time except the last one\n",
      "        tindex = burst_end.index(end) #find the start time index\n",
      "        start = burst_start[tindex+1] #find start time\n",
      "        ibi.append(start-end) #subtract the old end time from the start time\n",
      "    \n",
      "    return ibi"
     ],
     "language": "python",
     "metadata": {},
     "outputs": [],
     "prompt_number": 6
    },
    {
     "cell_type": "code",
     "collapsed": false,
     "input": [
      "def ttot(burst_start): \n",
      "    \"\"\"\n",
      "    find time from start to start, called the interburst interval. Input array must be a list of numbers (float).\n",
      "    \"\"\"\n",
      "    \n",
      "    ttotal = [] #empty array for ttot to go into\n",
      "    \n",
      "    for time in burst_start[1:]: #for each start time, starting with the second one\n",
      "        s2time = burst_start.index(time) \n",
      "        s2 = burst_start[s2time-1]\n",
      "        meas = time - s2 #measure the interval by subtracting\n",
      "        ttotal.append(meas) #append the measurement to the ttotal array\n",
      "    return ttotal #return array"
     ],
     "language": "python",
     "metadata": {},
     "outputs": [],
     "prompt_number": 7
    },
    {
     "cell_type": "code",
     "collapsed": false,
     "input": [
      "def burstarea(data, time, burst_start, burst_end, dx = 10):\n",
      "    \"\"\"\n",
      "    integral, area under curve of each burst. Use start and end times to split the y values into short lists. \n",
      "    need the time array to do this\n",
      "    \"\"\"\n",
      "    from scipy.integrate import simps, trapz #import the integral functions\n",
      "    \n",
      "    time = list(time) #time array must be a list for the indexting to work.\n",
      "    \n",
      "    burst_area = [] #empty array for the areas to go into\n",
      "    \n",
      "    for i in np.arange(len(burst_start)): #for each index in the start array\n",
      "        end = time.index(burst_end[i]) #using the value at each i in the burst_end array, index in the time array to get the time index. this will be the same index # as the data array\n",
      "        start = time.index(burst_start[i])\n",
      "        area = trapz(data[start:end], x=time[start:end], dx= dx) #find area using the trapz function, but only \n",
      "        burst_area.append(area)\n",
      "    \n",
      "    return burst_area"
     ],
     "language": "python",
     "metadata": {},
     "outputs": [],
     "prompt_number": 8
    },
    {
     "cell_type": "code",
     "collapsed": false,
     "input": [
      "def burstpeaks(data, burst_start, burst_end, time=0, delta=0.04, rate=0.00025):\n",
      "    \"\"\"\n",
      "    given the burst start and end time, along with the looser peak detect, calculate the number of peaks in a given burst\n",
      "    dependent on burstduration, numpy, sys, and peakdet\n",
      "    default delta is 0.04, based on ECG data, seems to catch QRS and sometimes P and/or T\n",
      "    data MUST be transformed, but not shifted. peakdet will reject it if it has negative values\n",
      "    time varible is the value of time at the the first index of the time array. You can input it in as time=TIME_ARRAY[0]\n",
      "    rate is the collection rate of the data set. \n",
      "    \"\"\"\n",
      "    \n",
      "    if len(burst_start) != len(burst_end): #logic check, before we start\n",
      "        sys.exit('Unexpectedly, the number of burst start times and end times are not equal. Seeing as this is physically impossible, I quit the program for you. Begin hunting for the fatal flaw. Good luck!')\n",
      "    \n",
      "    if (len(burst_start) == 0) or (len(burst_end) == 0): #logic check, are they empty lists\n",
      "        sys.exit('One of the input arrays is an empty list')\n",
      "        \n",
      "    maxtab, mintab= peakdet(data, delta) #generate the maxtab array of times and heights\n",
      "    \n",
      "    maxptime = maxtab[:,0] #extract the time column\n",
      "    maxptime = (np.multiply(maxptime,rate) + time) #convert from index to ms\n",
      "    \n",
      "    index = 0 #initalize burst index to zero\n",
      "    burstpeaknum = [] #empty array for where the number of peaks will go. index # = burst #\n",
      "    burstpeaks = [] #empty tuple of peak locations. index # = burst #\n",
      "    plist= [] #make blank plist\n",
      "    \n",
      "    \n",
      "    for time in maxptime: #for each peak found in maxtab. remember that maxtab has multipule columns, so only take time.\n",
      "        \n",
      "        if time > burst_end[-1]:\n",
      "            break\n",
      "        \n",
      "        if burst_start[index] < time < burst_end[index]: # if the peak is within the duration of the burst\n",
      "            plist.append(time)\n",
      "            if time == maxptime[-1]:#if the current peak is the last one\n",
      "                burstpeaks.append(plist) #put list of peaks in burst peaks list\n",
      "                burstpeaknum.append(len(plist)) #add count of peaks to burst peak num list\n",
      "        \n",
      "        if index < (len(burst_start)-1) and time > burst_start[index+1]: #if the next peak is actually in the NEXT burst AND it isn't the last burst\n",
      "            burstpeaks.append(plist) #put list of peaks in burst peaks list\n",
      "            burstpeaknum.append(len(plist)) #add count of peaks to burst peak num list\n",
      "            index = (index+1) #go to the next peak\n",
      "            plist=[] #make a new list for the new peak\n",
      "            plist.append(time) #add this timepoint to the new list\n",
      "               \n",
      "    return burstpeaknum, burstpeaks, maxtab"
     ],
     "language": "python",
     "metadata": {},
     "outputs": [],
     "prompt_number": 9
    },
    {
     "cell_type": "code",
     "collapsed": false,
     "input": [
      "def savitzky_golay(y, window_size, order, deriv=0, rate=1):\n",
      "    r\"\"\"Smooth (and optionally differentiate) data with a Savitzky-Golay filter.\n",
      "    The Savitzky-Golay filter removes high frequency noise from data.\n",
      "    It has the advantage of preserving the original shape and\n",
      "    features of the signal better than other types of filtering\n",
      "    approaches, such as moving averages techniques.\n",
      "    Parameters\n",
      "    ----------\n",
      "    y : array_like, shape (N,)\n",
      "        the values of the time history of the signal.\n",
      "    window_size : int\n",
      "        the length of the window. Must be an odd integer number.\n",
      "    order : int\n",
      "        the order of the polynomial used in the filtering.\n",
      "        Must be less then `window_size` - 1.\n",
      "    deriv: int\n",
      "        the order of the derivative to compute (default = 0 means only smoothing)\n",
      "    Returns\n",
      "    -------\n",
      "    ys : ndarray, shape (N)\n",
      "        the smoothed signal (or it's n-th derivative).\n",
      "    Notes\n",
      "    -----\n",
      "    The Savitzky-Golay is a type of low-pass filter, particularly\n",
      "    suited for smoothing noisy data. The main idea behind this\n",
      "    approach is to make for each point a least-square fit with a\n",
      "    polynomial of high order over a odd-sized window centered at\n",
      "    the point.\n",
      "    Examples\n",
      "    --------\n",
      "    t = np.linspace(-4, 4, 500)\n",
      "    y = np.exp( -t**2 ) + np.random.normal(0, 0.05, t.shape)\n",
      "    ysg = savitzky_golay(y, window_size=31, order=4)\n",
      "    import matplotlib.pyplot as plt\n",
      "    plt.plot(t, y, label='Noisy signal')\n",
      "    plt.plot(t, np.exp(-t**2), 'k', lw=1.5, label='Original signal')\n",
      "    plt.plot(t, ysg, 'r', label='Filtered signal')\n",
      "    plt.legend()\n",
      "    plt.show()\n",
      "    References\n",
      "    ----------\n",
      "    .. [1] A. Savitzky, M. J. E. Golay, Smoothing and Differentiation of\n",
      "       Data by Simplified Least Squares Procedures. Analytical\n",
      "       Chemistry, 1964, 36 (8), pp 1627-1639.\n",
      "    .. [2] Numerical Recipes 3rd Edition: The Art of Scientific Computing\n",
      "       W.H. Press, S.A. Teukolsky, W.T. Vetterling, B.P. Flannery\n",
      "       Cambridge University Press ISBN-13: 9780521880688\n",
      "    \"\"\"\n",
      "    import numpy as np\n",
      "    from math import factorial\n",
      "\n",
      "    try:\n",
      "        window_size = np.abs(np.int(window_size))\n",
      "        order = np.abs(np.int(order))\n",
      "    except ValueError, msg:\n",
      "        raise ValueError(\"window_size and order have to be of type int\")\n",
      "    if window_size % 2 != 1 or window_size < 1:\n",
      "        raise TypeError(\"window_size size must be a positive odd number\")\n",
      "    if window_size < order + 2:\n",
      "        raise TypeError(\"window_size is too small for the polynomials order\")\n",
      "    order_range = range(order+1)\n",
      "    half_window = (window_size -1) // 2\n",
      "    # precompute coefficients\n",
      "    b = np.mat([[k**i for i in order_range] for k in range(-half_window, half_window+1)])\n",
      "    m = np.linalg.pinv(b).A[deriv] * rate**deriv * factorial(deriv)\n",
      "    # pad the signal at the extremes with\n",
      "    # values taken from the signal itself\n",
      "    firstvals = y[0] - np.abs( y[1:half_window+1][::-1] - y[0] )\n",
      "    lastvals = y[-1] + np.abs(y[-half_window-1:-1][::-1] - y[-1])\n",
      "    y = np.concatenate((firstvals, y, lastvals))\n",
      "    return np.convolve( m[::-1], y, mode='valid')"
     ],
     "language": "python",
     "metadata": {},
     "outputs": [],
     "prompt_number": 10
    },
    {
     "cell_type": "markdown",
     "metadata": {},
     "source": [
      "end functions\n",
      "begin user input"
     ]
    },
    {
     "cell_type": "code",
     "collapsed": false,
     "input": [
      "time, data = np.loadtxt(\"/Users/abigaildobyns/Dropbox/Wilson_lab_papers/Abby/data/2011-12-27-CGW-XII-NeuroG.txt\", usecols=(0,1),  unpack=True)"
     ],
     "language": "python",
     "metadata": {},
     "outputs": [],
     "prompt_number": 11
    },
    {
     "cell_type": "markdown",
     "metadata": {},
     "source": [
      "SG default setting for NeuroG data is (DATA, 2001, 4)"
     ]
    },
    {
     "cell_type": "code",
     "collapsed": false,
     "input": [
      "data_trans = abs(data)\n",
      "data_trans =savitzky_golay(data_trans, 2001, 4)"
     ],
     "language": "python",
     "metadata": {},
     "outputs": [],
     "prompt_number": 12
    },
    {
     "cell_type": "markdown",
     "metadata": {},
     "source": [
      "collection rate is 0.00025 on sample data"
     ]
    },
    {
     "cell_type": "code",
     "collapsed": false,
     "input": [
      "base, data_shift =baseline(data_trans,0.00025)"
     ],
     "language": "python",
     "metadata": {},
     "outputs": [],
     "prompt_number": 13
    },
    {
     "cell_type": "markdown",
     "metadata": {},
     "source": [
      "peakdet **CANNOT** take negative values, so base_shift cannot be used to calculate the peaks."
     ]
    },
    {
     "cell_type": "code",
     "collapsed": false,
     "input": [
      "print t.clock()\n",
      "maxtab, mintab = peakdet(data_trans, 0.1, None)\n",
      "print t.clock()"
     ],
     "language": "python",
     "metadata": {},
     "outputs": [
      {
       "output_type": "stream",
       "stream": "stdout",
       "text": [
        "14.301611\n",
        "15.804149"
       ]
      },
      {
       "output_type": "stream",
       "stream": "stdout",
       "text": [
        "\n"
       ]
      }
     ],
     "prompt_number": 14
    },
    {
     "cell_type": "code",
     "collapsed": false,
     "input": [
      "maxtab = np.array(maxtab)\n",
      "maxptime = maxtab[:,0]\n",
      "maxptime = (np.multiply(maxptime,0.00025) + time[0])\n",
      "maxpeaks = maxtab[:,1]\n",
      "#maxpeaks = (np.subtract(maxpeaks,base))"
     ],
     "language": "python",
     "metadata": {},
     "outputs": [],
     "prompt_number": 15
    },
    {
     "cell_type": "markdown",
     "metadata": {},
     "source": [
      "mintab = np.array(mintab)\n",
      "minptime = mintab[:,0]\n",
      "minptime = (np.multiply(minptime,0.00025) + time[0])\n",
      "minpeaks = mintab[:,1]"
     ]
    },
    {
     "cell_type": "code",
     "collapsed": false,
     "input": [
      "print t.clock()\n",
      "bstart, bend, bdur = burstduration(time, data_shift, base, threshperc=0.5)\n",
      "print t.clock()"
     ],
     "language": "python",
     "metadata": {},
     "outputs": [
      {
       "output_type": "stream",
       "stream": "stdout",
       "text": [
        "1755.622201\n",
        "0 = 1755.622742\n",
        "1000 = 1755.646815\n",
        "2000"
       ]
      },
      {
       "output_type": "stream",
       "stream": "stdout",
       "text": [
        " = 1755.712823\n",
        "3000"
       ]
      },
      {
       "output_type": "stream",
       "stream": "stdout",
       "text": [
        " = 1755.796446\n",
        "4000"
       ]
      },
      {
       "output_type": "stream",
       "stream": "stdout",
       "text": [
        " = 1755.908937\n",
        "5000"
       ]
      },
      {
       "output_type": "stream",
       "stream": "stdout",
       "text": [
        " = 1756.053248\n",
        "6000"
       ]
      },
      {
       "output_type": "stream",
       "stream": "stdout",
       "text": [
        " = 1756.237818\n",
        "7000"
       ]
      },
      {
       "output_type": "stream",
       "stream": "stdout",
       "text": [
        " = 1756.437896\n",
        "8000"
       ]
      },
      {
       "output_type": "stream",
       "stream": "stdout",
       "text": [
        " = 1756.657191\n",
        "9000"
       ]
      },
      {
       "output_type": "stream",
       "stream": "stdout",
       "text": [
        " = 1756.942096\n",
        "10000"
       ]
      },
      {
       "output_type": "stream",
       "stream": "stdout",
       "text": [
        " = 1757.244393\n",
        "11000"
       ]
      },
      {
       "output_type": "stream",
       "stream": "stdout",
       "text": [
        " = 1757.583943\n",
        "12000"
       ]
      },
      {
       "output_type": "stream",
       "stream": "stdout",
       "text": [
        " = 1757.940767\n",
        "13000"
       ]
      },
      {
       "output_type": "stream",
       "stream": "stdout",
       "text": [
        " = 1758.350025\n",
        "14000"
       ]
      },
      {
       "output_type": "stream",
       "stream": "stdout",
       "text": [
        " = 1758.774766\n",
        "15000"
       ]
      },
      {
       "output_type": "stream",
       "stream": "stdout",
       "text": [
        " = 1759.240258\n",
        "16000"
       ]
      },
      {
       "output_type": "stream",
       "stream": "stdout",
       "text": [
        " = 1759.873109\n",
        "17000"
       ]
      },
      {
       "output_type": "stream",
       "stream": "stdout",
       "text": [
        " = 1760.379973\n",
        "18000"
       ]
      },
      {
       "output_type": "stream",
       "stream": "stdout",
       "text": [
        " = 1760.969695\n",
        "19000"
       ]
      },
      {
       "output_type": "stream",
       "stream": "stdout",
       "text": [
        " = 1761.538509\n",
        "20000"
       ]
      },
      {
       "output_type": "stream",
       "stream": "stdout",
       "text": [
        " = 1762.122049\n",
        "21000"
       ]
      },
      {
       "output_type": "stream",
       "stream": "stdout",
       "text": [
        " = 1762.716381\n",
        "22000"
       ]
      },
      {
       "output_type": "stream",
       "stream": "stdout",
       "text": [
        " = 1763.360234\n",
        "23000"
       ]
      },
      {
       "output_type": "stream",
       "stream": "stdout",
       "text": [
        " = 1764.045744\n",
        "24000"
       ]
      },
      {
       "output_type": "stream",
       "stream": "stdout",
       "text": [
        " = 1764.739494\n",
        "25000"
       ]
      },
      {
       "output_type": "stream",
       "stream": "stdout",
       "text": [
        " = 1765.48596\n",
        "26000"
       ]
      },
      {
       "output_type": "stream",
       "stream": "stdout",
       "text": [
        " = 1766.258055\n",
        "27000"
       ]
      },
      {
       "output_type": "stream",
       "stream": "stdout",
       "text": [
        " = 1767.038265\n",
        "28000"
       ]
      },
      {
       "output_type": "stream",
       "stream": "stdout",
       "text": [
        " = 1767.853119\n",
        "29000"
       ]
      },
      {
       "output_type": "stream",
       "stream": "stdout",
       "text": [
        " = 1768.711136\n",
        "30000"
       ]
      },
      {
       "output_type": "stream",
       "stream": "stdout",
       "text": [
        " = 1769.573437\n",
        "31000"
       ]
      },
      {
       "output_type": "stream",
       "stream": "stdout",
       "text": [
        " = 1770.460826\n",
        "32000"
       ]
      },
      {
       "output_type": "stream",
       "stream": "stdout",
       "text": [
        " = 1771.411645\n",
        "33000"
       ]
      },
      {
       "output_type": "stream",
       "stream": "stdout",
       "text": [
        " = 1772.367353\n",
        "34000"
       ]
      },
      {
       "output_type": "stream",
       "stream": "stdout",
       "text": [
        " = 1773.335618\n",
        "35000"
       ]
      },
      {
       "output_type": "stream",
       "stream": "stdout",
       "text": [
        " = 1774.342485\n",
        "36000"
       ]
      },
      {
       "output_type": "stream",
       "stream": "stdout",
       "text": [
        " = 1775.440076\n",
        "37000"
       ]
      },
      {
       "output_type": "stream",
       "stream": "stdout",
       "text": [
        " = 1776.51154\n",
        "38000"
       ]
      },
      {
       "output_type": "stream",
       "stream": "stdout",
       "text": [
        " = 1777.625137\n",
        "39000"
       ]
      },
      {
       "output_type": "stream",
       "stream": "stdout",
       "text": [
        " = 1778.863056\n",
        "40000"
       ]
      },
      {
       "output_type": "stream",
       "stream": "stdout",
       "text": [
        " = 1780.403948\n",
        "41000"
       ]
      },
      {
       "output_type": "stream",
       "stream": "stdout",
       "text": [
        " = 1781.700032\n",
        "42000"
       ]
      },
      {
       "output_type": "stream",
       "stream": "stdout",
       "text": [
        " = 1782.915544\n",
        "43000"
       ]
      },
      {
       "output_type": "stream",
       "stream": "stdout",
       "text": [
        " = 1784.194798\n",
        "44000"
       ]
      },
      {
       "output_type": "stream",
       "stream": "stdout",
       "text": [
        " = 1785.471557\n",
        "45000"
       ]
      },
      {
       "output_type": "stream",
       "stream": "stdout",
       "text": [
        " = 1786.782564\n",
        "46000"
       ]
      },
      {
       "output_type": "stream",
       "stream": "stdout",
       "text": [
        " = 1788.158643\n",
        "47000"
       ]
      },
      {
       "output_type": "stream",
       "stream": "stdout",
       "text": [
        " = 1789.535216\n",
        "48000"
       ]
      },
      {
       "output_type": "stream",
       "stream": "stdout",
       "text": [
        " = 1790.932193\n",
        "49000"
       ]
      },
      {
       "output_type": "stream",
       "stream": "stdout",
       "text": [
        " = 1792.397492\n",
        "50000"
       ]
      },
      {
       "output_type": "stream",
       "stream": "stdout",
       "text": [
        " = 1793.869498\n",
        "51000"
       ]
      },
      {
       "output_type": "stream",
       "stream": "stdout",
       "text": [
        " = 1795.408606\n",
        "52000"
       ]
      },
      {
       "output_type": "stream",
       "stream": "stdout",
       "text": [
        " = 1796.989872\n",
        "53000"
       ]
      },
      {
       "output_type": "stream",
       "stream": "stdout",
       "text": [
        " = 1798.567704\n",
        "54000"
       ]
      },
      {
       "output_type": "stream",
       "stream": "stdout",
       "text": [
        " = 1800.169146\n",
        "55000"
       ]
      },
      {
       "output_type": "stream",
       "stream": "stdout",
       "text": [
        " = 1801.807456\n",
        "56000"
       ]
      },
      {
       "output_type": "stream",
       "stream": "stdout",
       "text": [
        " = 1803.510186\n",
        "57000"
       ]
      },
      {
       "output_type": "stream",
       "stream": "stdout",
       "text": [
        " = 1805.612636\n",
        "58000"
       ]
      },
      {
       "output_type": "stream",
       "stream": "stdout",
       "text": [
        " = 1807.444799\n",
        "59000"
       ]
      },
      {
       "output_type": "stream",
       "stream": "stdout",
       "text": [
        " = 1809.204278\n",
        "60000"
       ]
      },
      {
       "output_type": "stream",
       "stream": "stdout",
       "text": [
        " = 1811.030752\n",
        "61000"
       ]
      },
      {
       "output_type": "stream",
       "stream": "stdout",
       "text": [
        " = 1812.911679\n",
        "62000"
       ]
      }
     ]
    },
    {
     "cell_type": "code",
     "collapsed": false,
     "input": [
      "q = np.mean(time[:25])\n",
      "print q\n",
      "print time[13]"
     ],
     "language": "python",
     "metadata": {},
     "outputs": [
      {
       "output_type": "stream",
       "stream": "stdout",
       "text": [
        "62.503\n",
        "62.50325\n"
       ]
      }
     ],
     "prompt_number": 24
    },
    {
     "cell_type": "code",
     "collapsed": false,
     "input": [
      "print len(bend)\n",
      "print len(bstart)"
     ],
     "language": "python",
     "metadata": {},
     "outputs": [
      {
       "output_type": "stream",
       "stream": "stdout",
       "text": [
        "111\n",
        "111\n"
       ]
      }
     ],
     "prompt_number": 18
    },
    {
     "cell_type": "code",
     "collapsed": false,
     "input": [
      "x = ibi(bstart, bend)\n",
      "print len(x)"
     ],
     "language": "python",
     "metadata": {},
     "outputs": [
      {
       "output_type": "stream",
       "stream": "stdout",
       "text": [
        "110\n"
       ]
      }
     ],
     "prompt_number": 19
    },
    {
     "cell_type": "code",
     "collapsed": false,
     "input": [
      "tot = ttot(bstart)\n",
      "print len(tot)"
     ],
     "language": "python",
     "metadata": {},
     "outputs": [
      {
       "output_type": "stream",
       "stream": "stdout",
       "text": [
        "110\n"
       ]
      }
     ],
     "prompt_number": 20
    },
    {
     "cell_type": "code",
     "collapsed": false,
     "input": [
      "x[:5]"
     ],
     "language": "python",
     "metadata": {},
     "outputs": [
      {
       "metadata": {},
       "output_type": "pyout",
       "prompt_number": 44,
       "text": [
        "[0.1705000000000001,\n",
        " 0.17649999999999988,\n",
        " 0.1692499999999999,\n",
        " 0.0064999999999999503,\n",
        " 0.17599999999999993]"
       ]
      }
     ],
     "prompt_number": 44
    },
    {
     "cell_type": "code",
     "collapsed": false,
     "input": [
      "b_area = burstarea(data_trans, time, bstart, bend)"
     ],
     "language": "python",
     "metadata": {},
     "outputs": [],
     "prompt_number": 59
    },
    {
     "cell_type": "code",
     "collapsed": false,
     "input": [
      "b_area[0:5]"
     ],
     "language": "python",
     "metadata": {},
     "outputs": [
      {
       "metadata": {},
       "output_type": "pyout",
       "prompt_number": 60,
       "text": [
        "[0.0068102428750570036,\n",
        " 0.0082884187051366822,\n",
        " 0.0071816454768696102,\n",
        " 7.7317072004448131e-05,\n",
        " 0.0080478914929653349]"
       ]
      }
     ],
     "prompt_number": 60
    },
    {
     "cell_type": "code",
     "collapsed": false,
     "input": [
      "print t.clock()\n",
      "burstpeak_num, burstpeaks, maxtabALL = burstpeaks(data_trans, bstart, bend, time=time[0])\n",
      "print t.clock()"
     ],
     "language": "python",
     "metadata": {},
     "outputs": [
      {
       "output_type": "stream",
       "stream": "stdout",
       "text": [
        "207.009088\n"
       ]
      },
      {
       "ename": "TypeError",
       "evalue": "'list' object is not callable",
       "output_type": "pyerr",
       "traceback": [
        "\u001b[0;31m---------------------------------------------------------------------------\u001b[0m\n\u001b[0;31mTypeError\u001b[0m                                 Traceback (most recent call last)",
        "\u001b[0;32m<ipython-input-61-a46ce0a4ee04>\u001b[0m in \u001b[0;36m<module>\u001b[0;34m()\u001b[0m\n\u001b[1;32m      1\u001b[0m \u001b[0;32mprint\u001b[0m \u001b[0mt\u001b[0m\u001b[0;34m.\u001b[0m\u001b[0mclock\u001b[0m\u001b[0;34m(\u001b[0m\u001b[0;34m)\u001b[0m\u001b[0;34m\u001b[0m\u001b[0m\n\u001b[0;32m----> 2\u001b[0;31m \u001b[0mburstpeak_num\u001b[0m\u001b[0;34m,\u001b[0m \u001b[0mburstpeaks\u001b[0m\u001b[0;34m,\u001b[0m \u001b[0mmaxtabALL\u001b[0m \u001b[0;34m=\u001b[0m \u001b[0mburstpeaks\u001b[0m\u001b[0;34m(\u001b[0m\u001b[0mdata_trans\u001b[0m\u001b[0;34m,\u001b[0m \u001b[0mbstart\u001b[0m\u001b[0;34m,\u001b[0m \u001b[0mbend\u001b[0m\u001b[0;34m,\u001b[0m \u001b[0mtime\u001b[0m\u001b[0;34m=\u001b[0m\u001b[0mtime\u001b[0m\u001b[0;34m[\u001b[0m\u001b[0;36m0\u001b[0m\u001b[0;34m]\u001b[0m\u001b[0;34m)\u001b[0m\u001b[0;34m\u001b[0m\u001b[0m\n\u001b[0m\u001b[1;32m      3\u001b[0m \u001b[0;32mprint\u001b[0m \u001b[0mt\u001b[0m\u001b[0;34m.\u001b[0m\u001b[0mclock\u001b[0m\u001b[0;34m(\u001b[0m\u001b[0;34m)\u001b[0m\u001b[0;34m\u001b[0m\u001b[0m\n",
        "\u001b[0;31mTypeError\u001b[0m: 'list' object is not callable"
       ]
      }
     ],
     "prompt_number": 61
    },
    {
     "cell_type": "code",
     "collapsed": false,
     "input": [
      "maxtabALL = np.array(maxtabALL)\n",
      "maxptimeALL = maxtabALL[:,0]\n",
      "maxptimeALL = (np.multiply(maxptimeALL,0.00025) + time[0])\n",
      "maxpeaksALL = maxtabALL[:,1]\n",
      "maxpeaksALL = (np.subtract(maxpeaksALL,base))"
     ],
     "language": "python",
     "metadata": {},
     "outputs": [],
     "prompt_number": 26
    },
    {
     "cell_type": "code",
     "collapsed": false,
     "input": [
      "burstpeaksY = []\n",
      "for point in burstpeaks:\n",
      "    burstpeaksY.append"
     ],
     "language": "python",
     "metadata": {},
     "outputs": [
      {
       "ename": "SyntaxError",
       "evalue": "invalid syntax (<ipython-input-27-d124a0742be5>, line 2)",
       "output_type": "pyerr",
       "traceback": [
        "\u001b[0;36m  File \u001b[0;32m\"<ipython-input-27-d124a0742be5>\"\u001b[0;36m, line \u001b[0;32m2\u001b[0m\n\u001b[0;31m    for point in burstpeaks\u001b[0m\n\u001b[0m                           ^\u001b[0m\n\u001b[0;31mSyntaxError\u001b[0m\u001b[0;31m:\u001b[0m invalid syntax\n"
       ]
      }
     ],
     "prompt_number": 27
    },
    {
     "cell_type": "code",
     "collapsed": false,
     "input": [
      "bendy = []\n",
      "for point in bend:\n",
      "    bendy.append(base*0.5)"
     ],
     "language": "python",
     "metadata": {},
     "outputs": [],
     "prompt_number": 28
    },
    {
     "cell_type": "code",
     "collapsed": false,
     "input": [
      "bstarty = []\n",
      "for point in bstart:\n",
      "    bstarty.append(base*0.5)"
     ],
     "language": "python",
     "metadata": {},
     "outputs": [],
     "prompt_number": 29
    },
    {
     "cell_type": "code",
     "collapsed": false,
     "input": [
      "fig = plt.plot(time,data_trans, color=\"k\")\n",
      "#plt.plot(time,data_trans,color='b')\n",
      "#plt.plot(maxptimeALL,maxpeaksALL, marker = \"^\", color=\"g\", linestyle= \"None\")\n",
      "plt.plot(maxptime, maxpeaks, marker = \"^\", color =\"b\", linestyle= \"None\")\n",
      "#plt.plot(bstart, bstarty, marker = \"v\", color=\"y\", linestyle= \"None\")\n",
      "#plt.plot(bend, bendy,marker = \"v\", color=\"m\", linestyle= \"None\")\n",
      "#plt.plot(minptime, minpeaks, marker =\"v\", color=\"m\",  linestyle= \"None\")\n",
      "#plt.hlines(0,time[0],time[-1],colors='k')\n",
      "#plt.hlines((base*0.5),time[0],time[-1], colors='r')\n",
      "DataCursor(fig)"
     ],
     "language": "python",
     "metadata": {},
     "outputs": [
      {
       "metadata": {},
       "output_type": "pyout",
       "prompt_number": 23,
       "text": [
        "<__main__.DataCursor at 0x11cdfde50>"
       ]
      }
     ],
     "prompt_number": 23
    },
    {
     "cell_type": "code",
     "collapsed": false,
     "input": [
      "plt.show(fig)"
     ],
     "language": "python",
     "metadata": {},
     "outputs": [],
     "prompt_number": 24
    },
    {
     "cell_type": "code",
     "collapsed": false,
     "input": [
      "print data_trans[0:5]\n",
      "print data_shift[0:5]"
     ],
     "language": "python",
     "metadata": {},
     "outputs": [
      {
       "output_type": "stream",
       "stream": "stdout",
       "text": [
        "[ 0.0162657   0.01637714  0.01620614  0.01556582  0.01461065]\n",
        "[-0.03393484502707593, -0.033823404508265792, -0.03399440314027681, -0.034634719039026318, -0.035589891409805473]\n"
       ]
      }
     ],
     "prompt_number": 173
    },
    {
     "cell_type": "code",
     "collapsed": false,
     "input": [
      "x = time[0]"
     ],
     "language": "python",
     "metadata": {},
     "outputs": [],
     "prompt_number": 19
    },
    {
     "cell_type": "code",
     "collapsed": false,
     "input": [
      "print x"
     ],
     "language": "python",
     "metadata": {},
     "outputs": [
      {
       "output_type": "stream",
       "stream": "stdout",
       "text": [
        "0.425\n"
       ]
      }
     ],
     "prompt_number": 20
    },
    {
     "cell_type": "code",
     "collapsed": false,
     "input": [
      "base"
     ],
     "language": "python",
     "metadata": {},
     "outputs": [
      {
       "metadata": {},
       "output_type": "pyout",
       "prompt_number": 34,
       "text": [
        "0.050200543983550852"
       ]
      }
     ],
     "prompt_number": 34
    },
    {
     "cell_type": "code",
     "collapsed": false,
     "input": [
      "plt.hlines(0,time[0],time[-1])"
     ],
     "language": "python",
     "metadata": {},
     "outputs": [
      {
       "metadata": {},
       "output_type": "pyout",
       "prompt_number": 39,
       "text": [
        "<matplotlib.collections.LineCollection at 0x1028ff2d0>"
       ]
      }
     ],
     "prompt_number": 39
    },
    {
     "cell_type": "code",
     "collapsed": false,
     "input": [],
     "language": "python",
     "metadata": {},
     "outputs": []
    }
   ],
   "metadata": {}
  }
 ]
}