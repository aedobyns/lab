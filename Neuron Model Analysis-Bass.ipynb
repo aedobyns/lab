{
 "metadata": {
  "name": "",
  "signature": "sha256:14e3b179d12dbdfc87d6aa6ae6c88ffd501279b34b616fe0a21d8d7e28897ead"
 },
 "nbformat": 3,
 "nbformat_minor": 0,
 "worksheets": [
  {
   "cells": [
    {
     "cell_type": "heading",
     "level": 1,
     "metadata": {},
     "source": [
      "Neuron Modeling Analysis Notebook"
     ]
    },
    {
     "cell_type": "markdown",
     "metadata": {},
     "source": [
      "    BASS: Biomedical Analysis Software Suite for signal processing, event detection, and event\n",
      "    analysis.\n",
      "    Copyright (C) 2014  Abigail Dobyns\n",
      "\n",
      "    This program is free software: you can redistribute it and/or modify\n",
      "    it under the terms of the GNU General Public License as published by\n",
      "    the Free Software Foundation, either version 3 of the License, or\n",
      "    (at your option) any later version.\n",
      "\n",
      "    This program is distributed in the hope that it will be useful,\n",
      "    but WITHOUT ANY WARRANTY; without even the implied warranty of\n",
      "    MERCHANTABILITY or FITNESS FOR A PARTICULAR PURPOSE.  See the\n",
      "    GNU General Public License for more details.\n",
      "\n",
      "    You should have received a copy of the GNU General Public License\n",
      "    along with this program.  If not, see <http://www.gnu.org/licenses/>"
     ]
    },
    {
     "cell_type": "heading",
     "level": 2,
     "metadata": {},
     "source": [
      "Run the following block"
     ]
    },
    {
     "cell_type": "code",
     "collapsed": false,
     "input": [
      "from bass import *"
     ],
     "language": "python",
     "metadata": {},
     "outputs": [
      {
       "output_type": "stream",
       "stream": "stdout",
       "text": [
        "BASS ready!\n"
       ]
      }
     ],
     "prompt_number": 1
    },
    {
     "cell_type": "heading",
     "level": 1,
     "metadata": {},
     "source": [
      "Initalize a New File"
     ]
    },
    {
     "cell_type": "markdown",
     "metadata": {},
     "source": [
      "1. Run this block to initalize a new file and your settings. The defaults are present.\n",
      "2. Change the settings to customize your analysis"
     ]
    },
    {
     "cell_type": "markdown",
     "metadata": {},
     "source": [
      "-**folder** is the full file path to where your data is stored (not including the file itself).\n",
      "    \n",
      "    Settings['folder']= \"/Users/abigaildobyns/Desktop/Neuron Modeling/morgan voltage data\"\n",
      "\n",
      "-**Label** is the file name, including the type.\n",
      "    \n",
      "    Settings['Label'] = 'voltage-TBModel-sec1320-eL-IP0_9.txt'\n",
      "    \n",
      "-**Output Folder** is the full file path to where your out put will be located. A plots folder, called 'plots' will be created inside this folder for you if it does not already exsist. \n",
      "    \n",
      "    Settings['Output Folder'] = \"/Users/abigaildobyns/Desktop/Neuron Modeling/morgan voltage data/IP0_9\"\n",
      "    \n",
      "-**File Type** Determines how a file will be loaded and preprocessed.\n",
      "    \n",
      "    Settings['File Type'] = 'Morgan' #'LCPro', 'ImageJ', 'SIMA', 'Plain', 'Morgan'\n",
      "    \n",
      "1. **LCPro**: This loads in the files that are outputted from \n",
      "\n",
      "-**Milliseconds** Data is expected to be in seconds, so this is by default False. However, if your data is in ms, then set this to True. \n",
      "    \n",
      "    Settings['Milliseconds'] = True"
     ]
    },
    {
     "cell_type": "code",
     "collapsed": false,
     "input": [
      "#initialize new file\n",
      "Data = {}\n",
      "Settings = {}\n",
      "Results ={}\n",
      "\n",
      "############################################################################################\n",
      "#File Settings\n",
      "Settings['folder']= \"/Users/abigaildobyns/Desktop/Neuron Modeling/morgan voltage data\"\n",
      "Settings['Label'] = 'voltage-TBModel-sec1320-eL-IP0_9.txt'\n",
      "Settings['Output Folder'] = \"/Users/abigaildobyns/Desktop/Neuron Modeling/morgan voltage data/IP0_9\"\n",
      "Settings['File Type'] = 'Morgan' #'LCPro', 'ImageJ', 'SIMA', 'Plain', 'Morgan'\n",
      "Settings['Milliseconds'] = True\n",
      "\n",
      "#Transformation Settings\n",
      "Settings['Absolute Value'] = False #Must be True if Savitzky-Golay is being used\n",
      "\n",
      "Settings['Bandpass Highcut'] = 'none' #hz\n",
      "Settings['Bandpass Lowcut'] = 'none' #hz\n",
      "Settings['Bandpass Polynomial'] = 'none' #integer\n",
      "\n",
      "Settings['Linear Fit'] = False #between 0 and 1 on the whole time series, or False if not using\n",
      "Settings['Linear Fit-Rolling R'] = 0.75 #between 0 and 1\n",
      "Settings['Linear Fit-Rolling Window'] = 1000 #window for rolling mean for fit, unit is index\n",
      "Settings['Relative Baseline'] = 5000.0 #default 0, unless data is normalized, then 1.0\n",
      "\n",
      "Settings['Savitzky-Golay Polynomial'] = 'none' #intiger\n",
      "Settings['Savitzky-Golay Window Size'] = 'none' #must be odd, index not time\n",
      "\n",
      "#Baseline Settings\n",
      "Settings['Baseline Type'] = 'static' #'linear', 'rolling', or 'static'\n",
      "Settings['Rolling Baseline Window'] = 'none' #seconds, leave as 'none' if linear or static\n",
      "\n",
      "#Peaks\n",
      "Settings['Delta'] = 10\n",
      "Settings['Peak Minimum'] = -(np.Inf) #amplitude value\n",
      "Settings['Peak Maximum'] = np.Inf #amplitude value\n",
      "\n",
      "#Bursts\n",
      "Settings['Burst Area'] = False #calculate burst area\n",
      "Settings['Exclude Edges'] = True #False to keep edges, True to discard them\n",
      "Settings['Inter-event interval minimum (seconds)'] = 0.700 #only for bursts, not for peaks\n",
      "Settings['Maximum Burst Duration (s)'] = 10 \n",
      "Settings['Minimum Burst Duration (s)'] = 0\n",
      "Settings['Minimum Peak Number'] = 1 #minimum number of peaks/burst, integer\n",
      "Settings['Threshold']= -40 #linear: proportion of baseline. \n",
      "                           #static: literal value.\n",
      "                           #rolling, linear ammount grater than rolling baseline at each time point.\n",
      "\n",
      "#Outputs\n",
      "Settings['Generate Graphs'] = False #create and save the fancy graph outputs\n",
      "Settings['Graph LCpro events'] = False #only for use with LCPro type files\n",
      "############################################################################################"
     ],
     "language": "python",
     "metadata": {},
     "outputs": [],
     "prompt_number": 2
    },
    {
     "cell_type": "code",
     "collapsed": false,
     "input": [
      "Data, Settings, Results = analyze(Data, Settings, Results)"
     ],
     "language": "python",
     "metadata": {},
     "outputs": [
      {
       "output_type": "stream",
       "stream": "stdout",
       "text": [
        "Data Loaded\n",
        "Made plots folder\n",
        "Transformation completed"
       ]
      },
      {
       "output_type": "stream",
       "stream": "stdout",
       "text": [
        "\n",
        "Baseline set completed\n",
        "-60"
       ]
      },
      {
       "output_type": "stream",
       "stream": "stdout",
       "text": [
        " has no peaks.\n",
        "-65"
       ]
      },
      {
       "output_type": "stream",
       "stream": "stdout",
       "text": [
        " has no peaks.\n",
        "Peak Detection completed"
       ]
      },
      {
       "output_type": "stream",
       "stream": "stdout",
       "text": [
        "\n",
        "-40has no bursts."
       ]
      },
      {
       "output_type": "stream",
       "stream": "stdout",
       "text": [
        "\n",
        "-45has no bursts."
       ]
      },
      {
       "output_type": "stream",
       "stream": "stdout",
       "text": [
        "\n",
        "-50has no bursts."
       ]
      },
      {
       "output_type": "stream",
       "stream": "stdout",
       "text": [
        "\n",
        "-60has no bursts."
       ]
      },
      {
       "output_type": "stream",
       "stream": "stdout",
       "text": [
        "\n",
        "-60has no bursts.\n",
        "-65has no bursts."
       ]
      },
      {
       "output_type": "stream",
       "stream": "stdout",
       "text": [
        "\n",
        "-65has no bursts.\n",
        "Burst Detection completed\n",
        "Analysis Complete: "
       ]
      },
      {
       "output_type": "stream",
       "stream": "stdout",
       "text": [
        " 304.5915  Seconds\n",
        "\n",
        "--------------------------------------------\n",
        "Data Column Names/Keys\n",
        "-----\n",
        "-40\n",
        "-45\n",
        "-50\n",
        "-55\n",
        "-60\n",
        "-65\n",
        "\n",
        "--------------------------------------------\n",
        "Available Measurements from Peaks for further analysis:\n",
        "-----\n",
        "Intervals\n",
        "Peaks Amplitude\n",
        "\n",
        "--------------------------------------------\n",
        "Available Measurements from Bursts for further analysis:\n",
        "-----\n",
        "Burst Start\n",
        "Burst End\n",
        "Burst Duration\n",
        "Edge Event\n",
        "Interburst Interval\n",
        "Total Cycle Time\n",
        "Peaks per Burst\n",
        "Peak Amp\n",
        "Peak Time\n",
        "Attack\n",
        "Decay\n",
        "Intraburst Frequency\n",
        "Event Detection Complete!\n"
       ]
      }
     ],
     "prompt_number": 3
    },
    {
     "cell_type": "heading",
     "level": 2,
     "metadata": {},
     "source": [
      "Event Summary Tables"
     ]
    },
    {
     "cell_type": "code",
     "collapsed": false,
     "input": [
      "#Display the Bursts Summary Table\n",
      "Results['Burst-Master Summary']"
     ],
     "language": "python",
     "metadata": {},
     "outputs": []
    },
    {
     "cell_type": "code",
     "collapsed": false,
     "input": [
      "#Display the Peaks Summary Table\n",
      "Results['Peaks-Master Summary']"
     ],
     "language": "python",
     "metadata": {},
     "outputs": []
    },
    {
     "cell_type": "heading",
     "level": 2,
     "metadata": {},
     "source": [
      "Analyze Time series by Key"
     ]
    },
    {
     "cell_type": "code",
     "collapsed": false,
     "input": [
      "#Call one time series by Key, display only\n",
      "key = '-55'\n",
      "graph_detected_events_display(Data, Settings, Results, key)"
     ],
     "language": "python",
     "metadata": {},
     "outputs": []
    },
    {
     "cell_type": "code",
     "collapsed": false,
     "input": [
      "#autocorrelation\n",
      "#to capture whole time series, use [0:-1]\n",
      "key = '-55'\n",
      "start = 0 #seconds, where you want the slice to begin\n",
      "end = 1 #seconds, where you want the slice to end. The absolute end is -1\n",
      "autocorrelation_plot(Data['trans'][key][start:end])\n",
      "plt.show()"
     ],
     "language": "python",
     "metadata": {},
     "outputs": [],
     "prompt_number": 12
    },
    {
     "cell_type": "heading",
     "level": 2,
     "metadata": {},
     "source": [
      "Raster plot"
     ]
    },
    {
     "cell_type": "markdown",
     "metadata": {},
     "source": [
      "Shows the temporal relationship of peaks in each column. Auto scales. Display only"
     ]
    },
    {
     "cell_type": "code",
     "collapsed": false,
     "input": [
      "#Raster\n",
      "raster(Results)"
     ],
     "language": "python",
     "metadata": {},
     "outputs": []
    },
    {
     "cell_type": "heading",
     "level": 2,
     "metadata": {},
     "source": [
      "Analyze Events by Measurement"
     ]
    },
    {
     "cell_type": "code",
     "collapsed": false,
     "input": [
      "#Get average plots, display only\n",
      "event_type = 'bursts' #bursts or peaks\n",
      "meas = 'Burst Duration'\n",
      "average_measurement_plot(event_type, meas, Results)"
     ],
     "language": "python",
     "metadata": {},
     "outputs": []
    },
    {
     "cell_type": "code",
     "collapsed": false,
     "input": [
      "#Histogram Entropy\n",
      "event_type = 'Peaks' #bursts or peaks\n",
      "meas = 'all'\n",
      "Results = histent_wrapper(event_type, meas, Data, Settings, Results)\n",
      "Results['Histogram Entropy']"
     ],
     "language": "python",
     "metadata": {},
     "outputs": []
    },
    {
     "cell_type": "code",
     "collapsed": false,
     "input": [
      "#Moving Stats\n",
      "event_type = 'Peaks' #bursts or peaks\n",
      "meas = 'all'\n",
      "window = 60 #seconds\n",
      "Results = moving_statistics(event_type, meas, window, Data, Settings, Results)"
     ],
     "language": "python",
     "metadata": {},
     "outputs": []
    },
    {
     "cell_type": "heading",
     "level": 1,
     "metadata": {},
     "source": [
      "Helpful Stuff"
     ]
    },
    {
     "cell_type": "markdown",
     "metadata": {},
     "source": [
      "While not completely up to date with some of the new changes, the Wiki can be useful if you have questions about some of the settings: https://github.com/drcgw/SWAN/wiki/Tutorial"
     ]
    },
    {
     "cell_type": "code",
     "collapsed": false,
     "input": [
      "#Quick display settings used for analysis\n",
      "display_settings(Settings)"
     ],
     "language": "python",
     "metadata": {},
     "outputs": []
    },
    {
     "cell_type": "heading",
     "level": 2,
     "metadata": {},
     "source": [
      "More help?"
     ]
    },
    {
     "cell_type": "markdown",
     "metadata": {},
     "source": [
      "Stuck on a particular step or function?\n",
      "Try typing the function name followed by two ??. This will pop up the docstring and source code.\n",
      "You can also call help() to have the notebook print the doc string.\n",
      "\n",
      "    Example:\n",
      "    analyze??\n",
      "    help(analyze)"
     ]
    },
    {
     "cell_type": "code",
     "collapsed": false,
     "input": [
      "help(moving_statistics)"
     ],
     "language": "python",
     "metadata": {},
     "outputs": []
    },
    {
     "cell_type": "code",
     "collapsed": false,
     "input": [
      "moving_statistics??"
     ],
     "language": "python",
     "metadata": {},
     "outputs": [],
     "prompt_number": 2
    }
   ],
   "metadata": {}
  }
 ]
}