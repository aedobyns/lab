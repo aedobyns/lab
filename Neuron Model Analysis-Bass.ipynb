{
 "metadata": {
  "name": "",
  "signature": "sha256:e172bc3d2e1f176d19c7fc86309abe5861abc1ab4198db3fd4bceb8f8b366a8f"
 },
 "nbformat": 3,
 "nbformat_minor": 0,
 "worksheets": [
  {
   "cells": [
    {
     "cell_type": "heading",
     "level": 1,
     "metadata": {},
     "source": [
      "Neuron Modeling Analysis Notebook"
     ]
    },
    {
     "cell_type": "markdown",
     "metadata": {},
     "source": [
      "    BASS: Biomedical Analysis Software Suite for signal processing, event detection, and event\n",
      "    analysis.\n",
      "    Copyright (C) 2014  Abigail Dobyns\n",
      "\n",
      "    This program is free software: you can redistribute it and/or modify\n",
      "    it under the terms of the GNU General Public License as published by\n",
      "    the Free Software Foundation, either version 3 of the License, or\n",
      "    (at your option) any later version.\n",
      "\n",
      "    This program is distributed in the hope that it will be useful,\n",
      "    but WITHOUT ANY WARRANTY; without even the implied warranty of\n",
      "    MERCHANTABILITY or FITNESS FOR A PARTICULAR PURPOSE.  See the\n",
      "    GNU General Public License for more details.\n",
      "\n",
      "    You should have received a copy of the GNU General Public License\n",
      "    along with this program.  If not, see <http://www.gnu.org/licenses/>"
     ]
    },
    {
     "cell_type": "heading",
     "level": 2,
     "metadata": {},
     "source": [
      "Run the following block"
     ]
    },
    {
     "cell_type": "code",
     "collapsed": false,
     "input": [
      "from bass import *"
     ],
     "language": "python",
     "metadata": {},
     "outputs": [],
     "prompt_number": 25
    },
    {
     "cell_type": "heading",
     "level": 1,
     "metadata": {},
     "source": [
      "Initalize a New File"
     ]
    },
    {
     "cell_type": "markdown",
     "metadata": {},
     "source": [
      "1. Run this block to initalize a new file and your settings. The defaults are present.\n",
      "2. Change the settings to customize your analysis"
     ]
    },
    {
     "cell_type": "markdown",
     "metadata": {},
     "source": [
      "-**folder** is the full file path to where your data is stored (not including the file itself).\n",
      "    \n",
      "    Settings['folder']= \"/Users/abigaildobyns/Desktop/Neuron Modeling/morgan voltage data\"\n",
      "\n",
      "-**Label** is the file name, including the type.\n",
      "    \n",
      "    Settings['Label'] = 'voltage-TBModel-sec1320-eL-IP0_9.txt'\n",
      "    \n",
      "-**Output Folder** is the full file path to where your out put will be located. A plots folder, called 'plots' will be created inside this folder for you if it does not already exsist. \n",
      "    \n",
      "    Settings['Output Folder'] = \"/Users/abigaildobyns/Desktop/Neuron Modeling/morgan voltage data/IP0_9\"\n",
      "    \n",
      "-**File Type** Determines how a file will be loaded and preprocessed.\n",
      "    \n",
      "    Settings['File Type'] = 'Morgan'\n",
      "    \n",
      "1. **LCPro**: This loads in the files that are outputted from \n",
      "\n",
      "-**Milliseconds** Data is expected to be in seconds, so this is by default False. However, if your data is in ms, then set this to True. \n",
      "    \n",
      "    Settings['Milliseconds'] = True"
     ]
    },
    {
     "cell_type": "code",
     "collapsed": false,
     "input": [
      "#initialize new file\n",
      "Data = {}\n",
      "Settings = {}\n",
      "Results ={}\n",
      "\n",
      "############################################################################################\n",
      "#File Settings\n",
      "Settings['folder']= \"/Users/abigaildobyns/Desktop/Neuron Modeling/morgan voltage data\"\n",
      "Settings['Label'] = 'voltage-TBModel-sec1320-eL-IP0_9.txt'\n",
      "Settings['Output Folder'] = \"/Users/abigaildobyns/Desktop/Neuron Modeling/morgan voltage data/IP0_9\"\n",
      "Settings['File Type'] = 'Morgan' #'LCPro', 'ImageJ', 'SIMA', 'Plain', 'Morgan'\n",
      "Settings['Milliseconds'] = True\n",
      "\n",
      "#Transformation Settings\n",
      "Settings['Absolute Value'] = False #Must be True if Savitzky-Golay is being used\n",
      "\n",
      "Settings['Bandpass Highcut'] = 'none' #hz\n",
      "Settings['Bandpass Lowcut'] = 'none' #hz\n",
      "Settings['Bandpass Polynomial'] = 'none' #integer\n",
      "\n",
      "Settings['Linear Fit'] = False #between 0 and 1 on the whole time series, or False if not using\n",
      "Settings['Linear Fit-Rolling R'] = 0.75 #between 0 and 1\n",
      "Settings['Linear Fit-Rolling Window'] = 1000 #window for rolling mean for fit, unit is index\n",
      "Settings['Relative Baseline'] = 5000.0 #default 0, unless data is normalized, then 1.0\n",
      "\n",
      "Settings['Savitzky-Golay Polynomial'] = 'none' #intiger\n",
      "Settings['Savitzky-Golay Window Size'] = 'none' #must be odd, index not time\n",
      "\n",
      "#Baseline Settings\n",
      "Settings['Baseline Type'] = 'static' #'linear', 'rolling', or 'static'\n",
      "Settings['Rolling Baseline Window'] = 'none' #seconds, leave as 'none' if linear or static\n",
      "\n",
      "#Peaks\n",
      "Settings['Delta'] = 10\n",
      "Settings['Peak Minimum'] = -(np.Inf) #amplitude value\n",
      "Settings['Peak Maximum'] = np.Inf #amplitude value\n",
      "\n",
      "#Bursts\n",
      "Settings['Burst Area'] = False #calculate burst area\n",
      "Settings['Exclude Edges'] = True #False to keep edges, True to discard them\n",
      "Settings['Inter-event interval minimum (seconds)'] = 0.700 #only for bursts, not for peaks\n",
      "Settings['Maximum Burst Duration (s)'] = 10 \n",
      "Settings['Minimum Burst Duration (s)'] = 0\n",
      "Settings['Minimum Peak Number'] = 1 #minimum number of peaks/burst, integer\n",
      "Settings['Threshold']= -40 #linear: proportion of baseline. \n",
      "                           #static: literal value.\n",
      "                           #rolling, linear ammount grater than rolling baseline at each time point.\n",
      "\n",
      "#Outputs\n",
      "Settings['Generate Graphs'] = False #create and save the fancy graph outputs\n",
      "Settings['Graph LCpro events'] = False #only for use with LCPro type files\n",
      "############################################################################################"
     ],
     "language": "python",
     "metadata": {},
     "outputs": [],
     "prompt_number": 26
    },
    {
     "cell_type": "code",
     "collapsed": false,
     "input": [
      "Data, Settings, Results = analyze(Data, Settings, Results)"
     ],
     "language": "python",
     "metadata": {},
     "outputs": [
      {
       "output_type": "stream",
       "stream": "stdout",
       "text": [
        "Data Loaded\n",
        "Made plots folder\n",
        "Transformation completed"
       ]
      },
      {
       "output_type": "stream",
       "stream": "stdout",
       "text": [
        "\n",
        "Baseline set completed\n",
        "-60"
       ]
      },
      {
       "output_type": "stream",
       "stream": "stdout",
       "text": [
        " has no peaks.\n",
        "-65"
       ]
      },
      {
       "output_type": "stream",
       "stream": "stdout",
       "text": [
        " has no peaks.\n",
        "Peak Detection completed"
       ]
      },
      {
       "output_type": "stream",
       "stream": "stdout",
       "text": [
        "\n",
        "-40has no bursts."
       ]
      },
      {
       "output_type": "stream",
       "stream": "stdout",
       "text": [
        "\n",
        "-45has no bursts."
       ]
      },
      {
       "output_type": "stream",
       "stream": "stdout",
       "text": [
        "\n",
        "-50has no bursts."
       ]
      },
      {
       "output_type": "stream",
       "stream": "stdout",
       "text": [
        "\n",
        "-60has no bursts."
       ]
      },
      {
       "output_type": "stream",
       "stream": "stdout",
       "text": [
        "\n",
        "-60has no bursts.\n",
        "-65has no bursts."
       ]
      },
      {
       "output_type": "stream",
       "stream": "stdout",
       "text": [
        "\n",
        "-65has no bursts.\n",
        "Burst Detection completed\n",
        "Analysis Complete: "
       ]
      },
      {
       "output_type": "stream",
       "stream": "stdout",
       "text": [
        " 292.617  Seconds\n",
        "\n",
        "--------------------------------------------\n",
        "Data Column Names/Keys\n",
        "-----\n",
        "-40\n",
        "-45\n",
        "-50\n",
        "-55\n",
        "-60\n",
        "-65\n",
        "\n",
        "--------------------------------------------\n",
        "Available Measurements from Peaks for further analysis:\n",
        "-----\n",
        "Intervals\n",
        "Peaks Amplitude\n",
        "\n",
        "--------------------------------------------\n",
        "Available Measurements from Bursts for further analysis:\n",
        "-----\n",
        "Burst Start\n",
        "Burst End\n",
        "Burst Duration\n",
        "Edge Event\n",
        "Interburst Interval\n",
        "Total Cycle Time\n",
        "Peaks per Burst\n",
        "Peak Amp\n",
        "Peak Time\n",
        "Attack\n",
        "Decay\n",
        "Intraburst Frequency\n",
        "Event Detection Complete!\n"
       ]
      }
     ],
     "prompt_number": 27
    },
    {
     "cell_type": "heading",
     "level": 2,
     "metadata": {},
     "source": [
      "Event Summary Tables"
     ]
    },
    {
     "cell_type": "code",
     "collapsed": false,
     "input": [
      "#Display the Bursts Summary Table\n",
      "Results['Bursts-Master'].groupby(level=0).describe()"
     ],
     "language": "python",
     "metadata": {},
     "outputs": [
      {
       "html": [
        "<div style=\"max-height:1000px;max-width:1500px;overflow:auto;\">\n",
        "<table border=\"1\" class=\"dataframe\">\n",
        "  <thead>\n",
        "    <tr style=\"text-align: right;\">\n",
        "      <th></th>\n",
        "      <th></th>\n",
        "      <th>Burst Start</th>\n",
        "      <th>Burst End</th>\n",
        "      <th>Burst Duration</th>\n",
        "      <th>Edge Event</th>\n",
        "      <th>Interburst Interval</th>\n",
        "      <th>Total Cycle Time</th>\n",
        "      <th>Peaks per Burst</th>\n",
        "      <th>Peak Amp</th>\n",
        "      <th>Peak Time</th>\n",
        "      <th>Attack</th>\n",
        "      <th>Decay</th>\n",
        "      <th>Intraburst Frequency</th>\n",
        "    </tr>\n",
        "  </thead>\n",
        "  <tbody>\n",
        "    <tr>\n",
        "      <th rowspan=\"8\" valign=\"top\">-55</th>\n",
        "      <th>count</th>\n",
        "      <td>  397.000000</td>\n",
        "      <td>  397.000000</td>\n",
        "      <td> 397.000000</td>\n",
        "      <td>   397</td>\n",
        "      <td> 396.000000</td>\n",
        "      <td> 396.000000</td>\n",
        "      <td> 397</td>\n",
        "      <td> 397.000000</td>\n",
        "      <td>  397.000000</td>\n",
        "      <td> 397.000000</td>\n",
        "      <td> 397.000000</td>\n",
        "      <td> 397.000000</td>\n",
        "    </tr>\n",
        "    <tr>\n",
        "      <th>mean</th>\n",
        "      <td>  663.722380</td>\n",
        "      <td>  663.727415</td>\n",
        "      <td>   0.005035</td>\n",
        "      <td>     0</td>\n",
        "      <td>   3.299925</td>\n",
        "      <td>   3.304960</td>\n",
        "      <td>   1</td>\n",
        "      <td>   5.618682</td>\n",
        "      <td>  663.725003</td>\n",
        "      <td>   0.002623</td>\n",
        "      <td>   0.002412</td>\n",
        "      <td> 198.636805</td>\n",
        "    </tr>\n",
        "    <tr>\n",
        "      <th>std</th>\n",
        "      <td>  379.238415</td>\n",
        "      <td>  379.238414</td>\n",
        "      <td>   0.000048</td>\n",
        "      <td>     0</td>\n",
        "      <td>   0.000043</td>\n",
        "      <td>   0.000049</td>\n",
        "      <td>   0</td>\n",
        "      <td>   0.052198</td>\n",
        "      <td>  379.238384</td>\n",
        "      <td>   0.000054</td>\n",
        "      <td>   0.000057</td>\n",
        "      <td>   1.869847</td>\n",
        "    </tr>\n",
        "    <tr>\n",
        "      <th>min</th>\n",
        "      <td>    9.340401</td>\n",
        "      <td>    9.345501</td>\n",
        "      <td>   0.005000</td>\n",
        "      <td> False</td>\n",
        "      <td>   3.299900</td>\n",
        "      <td>   3.304900</td>\n",
        "      <td>   1</td>\n",
        "      <td>   5.501563</td>\n",
        "      <td>    9.343100</td>\n",
        "      <td>   0.002501</td>\n",
        "      <td>   0.002301</td>\n",
        "      <td> 196.074587</td>\n",
        "    </tr>\n",
        "    <tr>\n",
        "      <th>25%</th>\n",
        "      <td>  336.531325</td>\n",
        "      <td>  336.536426</td>\n",
        "      <td>   0.005000</td>\n",
        "      <td> False</td>\n",
        "      <td>   3.299900</td>\n",
        "      <td>   3.304900</td>\n",
        "      <td>   1</td>\n",
        "      <td>   5.579021</td>\n",
        "      <td>  336.534000</td>\n",
        "      <td>   0.002592</td>\n",
        "      <td>   0.002366</td>\n",
        "      <td> 196.078431</td>\n",
        "    </tr>\n",
        "    <tr>\n",
        "      <th>50%</th>\n",
        "      <td>  663.722350</td>\n",
        "      <td>  663.727350</td>\n",
        "      <td>   0.005000</td>\n",
        "      <td>     0</td>\n",
        "      <td>   3.299900</td>\n",
        "      <td>   3.305000</td>\n",
        "      <td>   1</td>\n",
        "      <td>   5.626661</td>\n",
        "      <td>  663.725000</td>\n",
        "      <td>   0.002632</td>\n",
        "      <td>   0.002421</td>\n",
        "      <td> 200.000000</td>\n",
        "    </tr>\n",
        "    <tr>\n",
        "      <th>75%</th>\n",
        "      <td>  990.913275</td>\n",
        "      <td>  990.918375</td>\n",
        "      <td>   0.005100</td>\n",
        "      <td> False</td>\n",
        "      <td>   3.299900</td>\n",
        "      <td>   3.305000</td>\n",
        "      <td>   1</td>\n",
        "      <td>   5.667976</td>\n",
        "      <td>  990.915900</td>\n",
        "      <td>   0.002667</td>\n",
        "      <td>   0.002459</td>\n",
        "      <td> 200.000000</td>\n",
        "    </tr>\n",
        "    <tr>\n",
        "      <th>max</th>\n",
        "      <td> 1318.104500</td>\n",
        "      <td> 1318.109500</td>\n",
        "      <td>   0.005100</td>\n",
        "      <td> False</td>\n",
        "      <td>   3.300000</td>\n",
        "      <td>   3.305000</td>\n",
        "      <td>   1</td>\n",
        "      <td>   5.678225</td>\n",
        "      <td> 1318.107100</td>\n",
        "      <td>   0.002699</td>\n",
        "      <td>   0.002500</td>\n",
        "      <td> 200.000000</td>\n",
        "    </tr>\n",
        "  </tbody>\n",
        "</table>\n",
        "<p>8 rows \u00d7 12 columns</p>\n",
        "</div>"
       ],
       "metadata": {},
       "output_type": "pyout",
       "prompt_number": 28,
       "text": [
        "           Burst Start    Burst End  Burst Duration Edge Event  \\\n",
        "-55 count   397.000000   397.000000      397.000000        397   \n",
        "    mean    663.722380   663.727415        0.005035          0   \n",
        "    std     379.238415   379.238414        0.000048          0   \n",
        "    min       9.340401     9.345501        0.005000      False   \n",
        "    25%     336.531325   336.536426        0.005000      False   \n",
        "    50%     663.722350   663.727350        0.005000          0   \n",
        "    75%     990.913275   990.918375        0.005100      False   \n",
        "    max    1318.104500  1318.109500        0.005100      False   \n",
        "\n",
        "           Interburst Interval  Total Cycle Time  Peaks per Burst    Peak Amp  \\\n",
        "-55 count           396.000000        396.000000              397  397.000000   \n",
        "    mean              3.299925          3.304960                1    5.618682   \n",
        "    std               0.000043          0.000049                0    0.052198   \n",
        "    min               3.299900          3.304900                1    5.501563   \n",
        "    25%               3.299900          3.304900                1    5.579021   \n",
        "    50%               3.299900          3.305000                1    5.626661   \n",
        "    75%               3.299900          3.305000                1    5.667976   \n",
        "    max               3.300000          3.305000                1    5.678225   \n",
        "\n",
        "             Peak Time      Attack       Decay  Intraburst Frequency  \n",
        "-55 count   397.000000  397.000000  397.000000            397.000000  \n",
        "    mean    663.725003    0.002623    0.002412            198.636805  \n",
        "    std     379.238384    0.000054    0.000057              1.869847  \n",
        "    min       9.343100    0.002501    0.002301            196.074587  \n",
        "    25%     336.534000    0.002592    0.002366            196.078431  \n",
        "    50%     663.725000    0.002632    0.002421            200.000000  \n",
        "    75%     990.915900    0.002667    0.002459            200.000000  \n",
        "    max    1318.107100    0.002699    0.002500            200.000000  \n",
        "\n",
        "[8 rows x 12 columns]"
       ]
      }
     ],
     "prompt_number": 28
    },
    {
     "cell_type": "code",
     "collapsed": false,
     "input": [
      "#Display the Peaks Summary Table\n",
      "Results['Peaks-Master'].groupby(level=0).describe()"
     ],
     "language": "python",
     "metadata": {},
     "outputs": []
    },
    {
     "cell_type": "heading",
     "level": 2,
     "metadata": {},
     "source": [
      "Analyze Time series by Key"
     ]
    },
    {
     "cell_type": "code",
     "collapsed": false,
     "input": [
      "#Call one time series by Key, display only\n",
      "key = '-55'\n",
      "graph_detected_events_display(Data, Settings, Results, key)"
     ],
     "language": "python",
     "metadata": {},
     "outputs": [],
     "prompt_number": 30
    },
    {
     "cell_type": "code",
     "collapsed": false,
     "input": [
      "#autocorrelation\n",
      "#to capture whole time series, use [0:-1]\n",
      "key = '-55'\n",
      "start = 0 #seconds, where you want the slice to begin\n",
      "end = 1 #seconds, where you want the slice to end. The absolute end is -1\n",
      "autocorrelation_plot(Data['trans'][key][start:end])\n",
      "plt.show()"
     ],
     "language": "python",
     "metadata": {},
     "outputs": [],
     "prompt_number": 31
    },
    {
     "cell_type": "heading",
     "level": 2,
     "metadata": {},
     "source": [
      "Raster plot"
     ]
    },
    {
     "cell_type": "markdown",
     "metadata": {},
     "source": [
      "Shows the temporal relationship of peaks in each column. Auto scales. Display only"
     ]
    },
    {
     "cell_type": "code",
     "collapsed": false,
     "input": [
      "#Raster\n",
      "raster(Results)"
     ],
     "language": "python",
     "metadata": {},
     "outputs": [],
     "prompt_number": 32
    },
    {
     "cell_type": "heading",
     "level": 2,
     "metadata": {},
     "source": [
      "Analyze Events by Measurement"
     ]
    },
    {
     "cell_type": "markdown",
     "metadata": {},
     "source": [
      "Generates a line plot with error bars for a given event measurement. X axis is the names of each time series. Display Only."
     ]
    },
    {
     "cell_type": "code",
     "collapsed": false,
     "input": [
      "#Get average plots, display only\n",
      "event_type = 'bursts' #bursts or peaks\n",
      "meas = 'Burst Duration'\n",
      "average_measurement_plot(event_type, meas, Results)"
     ],
     "language": "python",
     "metadata": {},
     "outputs": [],
     "prompt_number": 33
    },
    {
     "cell_type": "heading",
     "level": 2,
     "metadata": {},
     "source": [
      "Histogram Entropy"
     ]
    },
    {
     "cell_type": "markdown",
     "metadata": {},
     "source": [
      "Calculates the histogram entropy of a measurement for each column of data. Also saves the histogram of each. If meas is set to 'all', then all available measurements from the event_type chosen will be calculated iteratevely. "
     ]
    },
    {
     "cell_type": "code",
     "collapsed": false,
     "input": [
      "#Histogram Entropy\n",
      "event_type = 'Peaks' #bursts or peaks\n",
      "meas = 'all'\n",
      "Results = histent_wrapper(event_type, meas, Data, Settings, Results)\n",
      "Results['Histogram Entropy']"
     ],
     "language": "python",
     "metadata": {},
     "outputs": [
      {
       "output_type": "stream",
       "stream": "stdout",
       "text": [
        "All Peaks measurements analyzed.\n"
       ]
      },
      {
       "html": [
        "<div style=\"max-height:1000px;max-width:1500px;overflow:auto;\">\n",
        "<table border=\"1\" class=\"dataframe\">\n",
        "  <thead>\n",
        "    <tr style=\"text-align: right;\">\n",
        "      <th></th>\n",
        "      <th>Intervals</th>\n",
        "      <th>Peaks Amplitude</th>\n",
        "    </tr>\n",
        "  </thead>\n",
        "  <tbody>\n",
        "    <tr>\n",
        "      <th>-40</th>\n",
        "      <td>  0</td>\n",
        "      <td>  0</td>\n",
        "    </tr>\n",
        "    <tr>\n",
        "      <th>-45</th>\n",
        "      <td>  0</td>\n",
        "      <td>  0</td>\n",
        "    </tr>\n",
        "    <tr>\n",
        "      <th>-50</th>\n",
        "      <td>  0</td>\n",
        "      <td>  0</td>\n",
        "    </tr>\n",
        "    <tr>\n",
        "      <th>-55</th>\n",
        "      <td>  0</td>\n",
        "      <td>  0</td>\n",
        "    </tr>\n",
        "    <tr>\n",
        "      <th>-60</th>\n",
        "      <td>NaN</td>\n",
        "      <td>NaN</td>\n",
        "    </tr>\n",
        "    <tr>\n",
        "      <th>-65</th>\n",
        "      <td>NaN</td>\n",
        "      <td>NaN</td>\n",
        "    </tr>\n",
        "  </tbody>\n",
        "</table>\n",
        "<p>6 rows \u00d7 2 columns</p>\n",
        "</div>"
       ],
       "metadata": {},
       "output_type": "pyout",
       "prompt_number": 34,
       "text": [
        "     Intervals  Peaks Amplitude\n",
        "-40          0                0\n",
        "-45          0                0\n",
        "-50          0                0\n",
        "-55          0                0\n",
        "-60        NaN              NaN\n",
        "-65        NaN              NaN\n",
        "\n",
        "[6 rows x 2 columns]"
       ]
      }
     ],
     "prompt_number": 34
    },
    {
     "cell_type": "heading",
     "level": 3,
     "metadata": {},
     "source": [
      "Moving Stats"
     ]
    },
    {
     "cell_type": "markdown",
     "metadata": {},
     "source": [
      "Generates the moving **mean**, **standard deviation**, and **count** for a given measurement across all columns of the Data in the form of a DataFrame (displayed as a table).\n",
      "Saves out the dataframes of these three results automatically with the window size in the name as a .csv.\n",
      "If **meas == 'All'**, then the function will loop and produce these tables for all measurements.\n",
      "\n"
     ]
    },
    {
     "cell_type": "code",
     "collapsed": false,
     "input": [
      "#Moving Stats\n",
      "event_type = 'Peaks' #bursts or peaks\n",
      "meas = 'all'\n",
      "window = 60 #seconds\n",
      "Results = moving_statistics(event_type, meas, window, Data, Settings, Results)"
     ],
     "language": "python",
     "metadata": {},
     "outputs": [
      {
       "output_type": "stream",
       "stream": "stdout",
       "text": [
        "Intervals Count\n",
        "       -40   -45  -50  -55  -60  -65\n",
        "0     4470  2698  678   16    0    0\n",
        "60    4437  2640  626   18    0    0\n",
        "120   4437  2639  625   18    0    0\n",
        "180   4436  2640  626   18    0    0\n",
        "240   4437  2640  625   18    0    0\n",
        "300   4437  2639  626   19    0    0\n",
        "360   4437  2640  625   18    0    0\n",
        "420   4436  2640  626   18    0    0\n",
        "480   4437  2639  625   18    0    0\n",
        "540   4437  2640  626   18    0    0\n",
        "600   4436  2639  625   18    0    0\n",
        "660   4437  2640  626   19    0    0\n",
        "720   4437  2640  625   18    0    0\n",
        "780   4437  2639  626   18    0    0\n",
        "840   4436  2640  625   18    0    0\n",
        "900   4437  2639  626   18    0    0\n",
        "960   4437  2640  625   18    0    0\n",
        "1020  4437  2640  626   18    0    0\n",
        "1080  4436  2639  625   19    0    0\n",
        "1140  4437  2640  626   18    0    0\n",
        "1200  4437  2640  625   18    0    0\n",
        "1260  4435  2638  625   17    0    0\n",
        "\n",
        "[22 rows x 6 columns]\n",
        "Intervals Mean\n",
        "           -40       -45       -50       -55  -60  -65\n",
        "0     0.013421  0.022234  0.088443  3.304963    0    0\n",
        "60    0.013523  0.022731  0.095923  3.304956    0    0\n",
        "120   0.013523  0.022731  0.095923  3.304956    0    0\n",
        "180   0.013523  0.022731  0.095923  3.304961    0    0\n",
        "240   0.013523  0.022731  0.095923  3.304956    0    0\n",
        "300   0.013523  0.022731  0.095923  3.304963    0    0\n",
        "360   0.013523  0.022731  0.095923  3.304961    0    0\n",
        "420   0.013523  0.022731  0.095923  3.304956    0    0\n",
        "480   0.013523  0.022731  0.095923  3.304961    0    0\n",
        "540   0.013523  0.022731  0.095923  3.304961    0    0\n",
        "600   0.013523  0.022731  0.095923  3.304956    0    0\n",
        "660   0.013523  0.022731  0.095923  3.304963    0    0\n",
        "720   0.013523  0.022731  0.095923  3.304956    0    0\n",
        "780   0.013523  0.022731  0.095923  3.304956    0    0\n",
        "840   0.013523  0.022731  0.095923  3.304961    0    0\n",
        "900   0.013523  0.022731  0.095923  3.304961    0    0\n",
        "960   0.013523  0.022731  0.095923  3.304961    0    0\n",
        "1020  0.013523  0.022731  0.095923  3.304961    0    0\n",
        "1080  0.013523  0.022731  0.095923  3.304963    0    0\n",
        "1140  0.013523  0.022731  0.095923  3.304956    0    0\n",
        "1200  0.013523  0.022731  0.095923  3.304967    0    0\n",
        "1260  0.013523  0.022731  0.095923  3.304959    0    0\n",
        "\n",
        "[22 rows x 6 columns]\n",
        "Intervals Std\n",
        "           -40       -45       -50       -55  -60  -65\n",
        "0     0.000442  0.001698  0.019345  0.000050    0    0\n",
        "60    0.000042  0.000046  0.000042  0.000051    0    0\n",
        "120   0.000042  0.000046  0.000042  0.000051    0    0\n",
        "180   0.000042  0.000046  0.000042  0.000050    0    0\n",
        "240   0.000042  0.000046  0.000042  0.000051    0    0\n",
        "300   0.000042  0.000046  0.000042  0.000050    0    0\n",
        "360   0.000042  0.000046  0.000042  0.000050    0    0\n",
        "420   0.000042  0.000046  0.000042  0.000051    0    0\n",
        "480   0.000042  0.000046  0.000042  0.000050    0    0\n",
        "540   0.000042  0.000046  0.000042  0.000050    0    0\n",
        "600   0.000042  0.000046  0.000042  0.000051    0    0\n",
        "660   0.000042  0.000046  0.000042  0.000050    0    0\n",
        "720   0.000042  0.000046  0.000042  0.000051    0    0\n",
        "780   0.000042  0.000046  0.000042  0.000051    0    0\n",
        "840   0.000042  0.000046  0.000042  0.000050    0    0\n",
        "900   0.000042  0.000046  0.000042  0.000050    0    0\n",
        "960   0.000042  0.000046  0.000042  0.000050    0    0\n",
        "1020  0.000042  0.000046  0.000042  0.000050    0    0\n",
        "1080  0.000042  0.000046  0.000042  0.000050    0    0\n",
        "1140  0.000042  0.000046  0.000042  0.000051    0    0\n",
        "1200  0.000042  0.000046  0.000042  0.000049    0    0\n",
        "1260  0.000042  0.000046  0.000042  0.000051    0    0\n",
        "\n",
        "[22 rows x 6 columns]\n",
        "Peaks Amplitude"
       ]
      },
      {
       "output_type": "stream",
       "stream": "stdout",
       "text": [
        " Count\n",
        "       -40   -45  -50  -55  -60  -65\n",
        "0     4470  2698  678   16    0    0\n",
        "60    4437  2640  626   18    0    0\n",
        "120   4437  2639  625   18    0    0\n",
        "180   4436  2640  626   18    0    0\n",
        "240   4437  2640  625   18    0    0\n",
        "300   4437  2639  626   19    0    0\n",
        "360   4437  2640  625   18    0    0\n",
        "420   4436  2640  626   18    0    0\n",
        "480   4437  2639  625   18    0    0\n",
        "540   4437  2640  626   18    0    0\n",
        "600   4436  2639  625   18    0    0\n",
        "660   4437  2640  626   19    0    0\n",
        "720   4437  2640  625   18    0    0\n",
        "780   4437  2639  626   18    0    0\n",
        "840   4436  2640  625   18    0    0\n",
        "900   4437  2639  626   18    0    0\n",
        "960   4437  2640  625   18    0    0\n",
        "1020  4437  2640  626   18    0    0\n",
        "1080  4436  2639  625   19    0    0\n",
        "1140  4437  2640  626   18    0    0\n",
        "1200  4437  2640  625   18    0    0\n",
        "1260  4436  2639  626   18    0    0\n",
        "\n",
        "[22 rows x 6 columns]\n",
        "Peaks Amplitude Mean\n",
        "           -40       -45       -50       -55  -60  -65\n",
        "0     5.215059  5.528069  5.488477  5.622761    0    0\n",
        "60    5.234013  5.532000  5.478416  5.616685    0    0\n",
        "120   5.234016  5.531994  5.478315  5.626085    0    0\n",
        "180   5.234006  5.532007  5.478447  5.615362    0    0\n",
        "240   5.234013  5.532021  5.478316  5.619474    0    0\n",
        "300   5.234008  5.532034  5.478454  5.617912    0    0\n",
        "360   5.234016  5.531999  5.478320  5.623088    0    0\n",
        "420   5.234030  5.532004  5.478432  5.618147    0    0\n",
        "480   5.234024  5.532042  5.478373  5.625937    0    0\n",
        "540   5.234018  5.532013  5.478381  5.618870    0    0\n",
        "600   5.234006  5.531986  5.478400  5.613657    0    0\n",
        "660   5.234015  5.532014  5.478377  5.624029    0    0\n",
        "720   5.234016  5.532012  5.478400  5.612266    0    0\n",
        "780   5.234011  5.532037  5.478370  5.621171    0    0\n",
        "840   5.234014  5.532010  5.478380  5.620089    0    0\n",
        "900   5.234024  5.531994  5.478396  5.620145    0    0\n",
        "960   5.234025  5.532034  5.478376  5.610932    0    0\n",
        "1020  5.234022  5.532028  5.478397  5.622221    0    0\n",
        "1080  5.234008  5.531982  5.478393  5.615037    0    0\n",
        "1140  5.234013  5.532012  5.478369  5.613523    0    0\n",
        "1200  5.234016  5.532004  5.478444  5.621422    0    0\n",
        "1260  5.234008  5.532045  5.478318  5.612603    0    0\n",
        "\n",
        "[22 rows x 6 columns]\n",
        "Peaks Amplitude Std\n",
        "           -40       -45       -50       -55  -60  -65\n",
        "0     0.110383  0.063512  0.063553  0.055623    0    0\n",
        "60    0.050532  0.052713  0.052457  0.048790    0    0\n",
        "120   0.050521  0.052660  0.052471  0.037304    0    0\n",
        "180   0.050515  0.052693  0.052381  0.056704    0    0\n",
        "240   0.050519  0.052683  0.052482  0.047947    0    0\n",
        "300   0.050531  0.052663  0.052354  0.058926    0    0\n",
        "360   0.050518  0.052687  0.052494  0.053829    0    0\n",
        "420   0.050515  0.052679  0.052384  0.051354    0    0\n",
        "480   0.050512  0.052663  0.052404  0.047781    0    0\n",
        "540   0.050523  0.052694  0.052474  0.051692    0    0\n",
        "600   0.050531  0.052681  0.052377  0.061165    0    0\n",
        "660   0.050514  0.052673  0.052461  0.053785    0    0\n",
        "720   0.050514  0.052695  0.052408  0.063654    0    0\n",
        "780   0.050524  0.052673  0.052452  0.035863    0    0\n",
        "840   0.050529  0.052667  0.052483  0.052097    0    0\n",
        "900   0.050512  0.052697  0.052375  0.050305    0    0\n",
        "960   0.050511  0.052665  0.052522  0.059640    0    0\n",
        "1020  0.050516  0.052668  0.052351  0.046612    0    0\n",
        "1080  0.050535  0.052697  0.052514  0.063740    0    0\n",
        "1140  0.050519  0.052670  0.052392  0.057933    0    0\n",
        "1200  0.050513  0.052704  0.052427  0.053873    0    0\n",
        "1260  0.050522  0.052666  0.052486  0.056213    0    0\n",
        "\n",
        "[22 rows x 6 columns]\n",
        "All Peaks measurements analyzed.\n"
       ]
      }
     ],
     "prompt_number": 35
    },
    {
     "cell_type": "heading",
     "level": 1,
     "metadata": {},
     "source": [
      "Helpful Stuff"
     ]
    },
    {
     "cell_type": "markdown",
     "metadata": {},
     "source": [
      "While not completely up to date with some of the new changes, the Wiki can be useful if you have questions about some of the settings: https://github.com/drcgw/SWAN/wiki/Tutorial"
     ]
    },
    {
     "cell_type": "code",
     "collapsed": false,
     "input": [
      "#Quick display settings used for analysis\n",
      "display_settings(Settings)"
     ],
     "language": "python",
     "metadata": {},
     "outputs": []
    },
    {
     "cell_type": "heading",
     "level": 2,
     "metadata": {},
     "source": [
      "More help?"
     ]
    },
    {
     "cell_type": "markdown",
     "metadata": {},
     "source": [
      "Stuck on a particular step or function?\n",
      "Try typing the function name followed by two ??. This will pop up the docstring and source code.\n",
      "You can also call help() to have the notebook print the doc string.\n",
      "\n",
      "    Example:\n",
      "    analyze??\n",
      "    help(analyze)"
     ]
    },
    {
     "cell_type": "code",
     "collapsed": false,
     "input": [
      "help(moving_statistics)"
     ],
     "language": "python",
     "metadata": {},
     "outputs": [
      {
       "output_type": "stream",
       "stream": "stdout",
       "text": [
        "Help on function moving_statistics in module bass:\n",
        "\n",
        "moving_statistics(event_type, meas, window, Data, Settings, Results)\n",
        "    Generates the moving mean, standard deviation, and count for a given measurement.\n",
        "    Saves out the dataframes of these three results automatically with the window size in the name.\n",
        "    If meas == 'All', then the function will loop and produce these tables for all measurements. \n",
        "    \n",
        "    Parameters\n",
        "    ----------\n",
        "    event_type: string\n",
        "        A string that should be either 'Peaks' or 'Bursts', which will tell the function \n",
        "        which results to pull the measurement from.\n",
        "    meas: string\n",
        "        A string that specifies which measurement type to use for the figure.\n",
        "    window: float\n",
        "        the size of the window for the moving statistics in seconds.\n",
        "    Data: dictionary\n",
        "        dictionary containing the pandas dataframes that store the data.\n",
        "        this function uses the time index of the analyzed data to window over.\n",
        "    Settings: dictionary\n",
        "        dictionary that contains the user's settings.\n",
        "        this function uses the ['Baseline Type'] and ['Output Folder'] to direct flow\n",
        "    Results: dictionary\n",
        "        The dictionary that contains all of the results\n",
        "    \n",
        "    Returns\n",
        "    -------\n",
        "    Results: dictionary\n",
        "        the dictionary that contains all of the results. \n",
        "        A new dictionary is added called Results['Moving Stats'], which contains the dataframes called things like\n",
        "        Results['Moving Stats']['Measurement-Count'], Results['Moving Stats']['Measurement-Mean'], and Results['Moving Stats']['Measurement-Std']. These files are both displayed and saved out in the loca\n",
        "    \n",
        "    Notes\n",
        "    -----\n",
        "    Moving statistics are a handy way to see how measurements are changing over time.\n",
        "    Choose a window size that is scaled appropreately for your data. The larger the window,\n",
        "    the coarser the averaging will be. \n",
        "    It seems self explaintory why mean and standardeviation are useful, but count is also included.\n",
        "    This is to be able to calculate frequency in the window, if it is desired: count/window.\n",
        "    \n",
        "    Examples\n",
        "    --------\n",
        "    event_type = 'Peaks'\n",
        "    meas = 'all'\n",
        "    window = 60 #seconds\n",
        "    Results = moving_statistics(event_type, meas, window, Data, Settings, Results)\n",
        "\n"
       ]
      }
     ],
     "prompt_number": 36
    },
    {
     "cell_type": "code",
     "collapsed": false,
     "input": [
      "moving_statistics??"
     ],
     "language": "python",
     "metadata": {},
     "outputs": []
    }
   ],
   "metadata": {}
  }
 ]
}