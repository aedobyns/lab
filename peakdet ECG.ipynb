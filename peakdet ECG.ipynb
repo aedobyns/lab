{
 "metadata": {
  "name": "",
  "signature": "sha256:0e0ae8f0b7a86f660e07fc797837dd9ea972d56169b2cd731a49a6998e1a272c"
 },
 "nbformat": 3,
 "nbformat_minor": 0,
 "worksheets": [
  {
   "cells": [
    {
     "cell_type": "code",
     "collapsed": false,
     "input": [
      "import numpy as np\n",
      "import scipy\n",
      "from scipy import signal\n",
      "import matplotlib.pyplot as plt\n",
      "import sys"
     ],
     "language": "python",
     "metadata": {},
     "outputs": [],
     "prompt_number": 1
    },
    {
     "cell_type": "code",
     "collapsed": false,
     "input": [
      "from numpy import NaN, Inf, arange, isscalar, asarray, array\n",
      " \n",
      "def peakdet(v, delta, x = None):\n",
      "    \"\"\"\n",
      "    Converted from MATLAB script at http://billauer.co.il/peakdet.html\n",
      "    \n",
      "    Returns two arrays\n",
      "    \n",
      "    function [maxtab, mintab]=peakdet(v, delta, x)\n",
      "    %PEAKDET Detect peaks in a vector\n",
      "    %        [MAXTAB, MINTAB] = PEAKDET(V, DELTA) finds the local\n",
      "    %        maxima and minima (\"peaks\") in the vector V.\n",
      "    %        MAXTAB and MINTAB consists of two columns. Column 1\n",
      "    %        contains indices in V, and column 2 the found values.\n",
      "    %      \n",
      "    %        With [MAXTAB, MINTAB] = PEAKDET(V, DELTA, X) the indices\n",
      "    %        in MAXTAB and MINTAB are replaced with the corresponding\n",
      "    %        X-values.\n",
      "    %\n",
      "    %        A point is considered a maximum peak if it has the maximal\n",
      "    %        value, and was preceded (to the left) by a value lower by\n",
      "    %        DELTA.\n",
      "    \n",
      "    % Eli Billauer, 3.4.05 (Explicitly not copyrighted).\n",
      "    % This function is released to the public domain; Any use is allowed.\n",
      "    \n",
      "    \"\"\"\n",
      "    maxtab = []\n",
      "    mintab = []\n",
      "       \n",
      "    if x is None:\n",
      "        x = arange(len(v))\n",
      "    \n",
      "    v = asarray(v)\n",
      "    \n",
      "    if len(v) != len(x):\n",
      "        sys.exit('Input vectors v and x must have same length')\n",
      "    \n",
      "    if not isscalar(delta):\n",
      "        sys.exit('Input argument delta must be a scalar')\n",
      "    \n",
      "    if delta <= 0:\n",
      "        sys.exit('Input argument delta must be positive')\n",
      "    \n",
      "    mn, mx = Inf, -Inf\n",
      "    mnpos, mxpos = NaN, NaN\n",
      "    \n",
      "    lookformax = True\n",
      "    \n",
      "    for i in arange(len(v)):\n",
      "        this = v[i]\n",
      "        if this > mx:\n",
      "            mx = this\n",
      "            mxpos = x[i]\n",
      "        if this < mn:\n",
      "            mn = this\n",
      "            mnpos = x[i]\n",
      "        \n",
      "        if lookformax:\n",
      "            if this < mx-delta:\n",
      "                maxtab.append((mxpos, mx))\n",
      "                mn = this\n",
      "                mnpos = x[i]\n",
      "                lookformax = False\n",
      "        else:\n",
      "            if this > mn+delta:\n",
      "                mintab.append((mnpos, mn))\n",
      "                mx = this\n",
      "                mxpos = x[i]\n",
      "                lookformax = True\n",
      " \n",
      "    return array(maxtab), array(mintab)"
     ],
     "language": "python",
     "metadata": {},
     "outputs": [],
     "prompt_number": 2
    },
    {
     "cell_type": "code",
     "collapsed": false,
     "input": [
      "from matplotlib import cbook\n",
      "\n",
      "class DataCursor(object):\n",
      "    \"\"\"A simple data cursor widget that displays the x,y location of a\n",
      "    matplotlib artist when it is selected.\"\"\"\n",
      "    def __init__(self, artists, tolerance=5, offsets=(-20, 20), \n",
      "                 template='x: %0.2f\\ny: %0.2f', display_all=False):\n",
      "        \"\"\"Create the data cursor and connect it to the relevant figure.\n",
      "        \"artists\" is the matplotlib artist or sequence of artists that will be \n",
      "            selected. \n",
      "        \"tolerance\" is the radius (in points) that the mouse click must be\n",
      "            within to select the artist.\n",
      "        \"offsets\" is a tuple of (x,y) offsets in points from the selected\n",
      "            point to the displayed annotation box\n",
      "        \"template\" is the format string to be used. Note: For compatibility\n",
      "            with older versions of python, this uses the old-style (%) \n",
      "            formatting specification.\n",
      "        \"display_all\" controls whether more than one annotation box will\n",
      "            be shown if there are multiple axes.  Only one will be shown\n",
      "            per-axis, regardless. \n",
      "        \"\"\"\n",
      "        self.template = template\n",
      "        self.offsets = offsets\n",
      "        self.display_all = display_all\n",
      "        if not cbook.iterable(artists):\n",
      "            artists = [artists]\n",
      "        self.artists = artists\n",
      "        self.axes = tuple(set(art.axes for art in self.artists))\n",
      "        self.figures = tuple(set(ax.figure for ax in self.axes))\n",
      "\n",
      "        self.annotations = {}\n",
      "        for ax in self.axes:\n",
      "            self.annotations[ax] = self.annotate(ax)\n",
      "\n",
      "        for artist in self.artists:\n",
      "            artist.set_picker(tolerance)\n",
      "        for fig in self.figures:\n",
      "            fig.canvas.mpl_connect('pick_event', self)\n",
      "\n",
      "    def annotate(self, ax):\n",
      "        \"\"\"Draws and hides the annotation box for the given axis \"ax\".\"\"\"\n",
      "        annotation = ax.annotate(self.template, xy=(0, 0), ha='right',\n",
      "                xytext=self.offsets, textcoords='offset points', va='bottom',\n",
      "                bbox=dict(boxstyle='round,pad=0.5', fc='yellow', alpha=0.5),\n",
      "                arrowprops=dict(arrowstyle='->', connectionstyle='arc3,rad=0')\n",
      "                )\n",
      "        annotation.set_visible(False)\n",
      "        return annotation\n",
      "\n",
      "    def __call__(self, event):\n",
      "        \"\"\"Intended to be called through \"mpl_connect\".\"\"\"\n",
      "        # Rather than trying to interpolate, just display the clicked coords\n",
      "        # This will only be called if it's within \"tolerance\", anyway.\n",
      "        x, y = event.mouseevent.xdata, event.mouseevent.ydata\n",
      "        annotation = self.annotations[event.artist.axes]\n",
      "        if x is not None:\n",
      "            if not self.display_all:\n",
      "                # Hide any other annotation boxes...\n",
      "                for ann in self.annotations.values():\n",
      "                    ann.set_visible(False)\n",
      "            # Update the annotation in the current axis..\n",
      "            annotation.xy = x, y\n",
      "            annotation.set_text(self.template % (x, y))\n",
      "            annotation.set_visible(True)\n",
      "            event.canvas.draw()\n",
      "\n",
      "#if __name__ == '__main__':\n",
      "    #import matplotlib.pyplot as plt\n",
      "    #plt.figure()\n",
      "    #plt.subplot(2,1,1)\n",
      "    #line1, = plt.plot(range(10), 'ro-')\n",
      "    #plt.subplot(2,1,2)\n",
      "    #line2, = plt.plot(range(10), 'bo-')\n",
      "\n",
      "    #DataCursor([line1, line2])"
     ],
     "language": "python",
     "metadata": {},
     "outputs": [],
     "prompt_number": 3
    },
    {
     "cell_type": "code",
     "collapsed": false,
     "input": [
      "def baseline(data,rate):\n",
      "    #input data array and rate value.\n",
      "    #using the first 0.1 s of data, find average of all data values. this becomes the baseline.\n",
      "    #baseline is used later in burst measurements\n",
      "    #import numpy as np\n",
      "    \n",
      "    index = 0.2/rate\n",
      "    baserate = np.mean(data[:index])\n",
      "    \n",
      "    datashift = []\n",
      "    \n",
      "    #may be able to use np.subtract(data,base) instead, but this seems to work correctly.\n",
      "    for x in data:\n",
      "        foo = (x-baserate)\n",
      "        datashift.append(foo)\n",
      "        \n",
      "    return baserate, datashift"
     ],
     "language": "python",
     "metadata": {},
     "outputs": [],
     "prompt_number": 4
    },
    {
     "cell_type": "code",
     "collapsed": false,
     "input": [
      "def burstduration(time,data, threshperc=0.2, baseline)"
     ],
     "language": "python",
     "metadata": {},
     "outputs": [
      {
       "ename": "SyntaxError",
       "evalue": "invalid syntax (<ipython-input-125-c756745dd431>, line 1)",
       "output_type": "pyerr",
       "traceback": [
        "\u001b[0;36m  File \u001b[0;32m\"<ipython-input-125-c756745dd431>\"\u001b[0;36m, line \u001b[0;32m1\u001b[0m\n\u001b[0;31m    def burstduration(time,data, threshperc=0.2, baseline)\u001b[0m\n\u001b[0m                                                          ^\u001b[0m\n\u001b[0;31mSyntaxError\u001b[0m\u001b[0;31m:\u001b[0m invalid syntax\n"
       ]
      }
     ],
     "prompt_number": 125
    },
    {
     "cell_type": "code",
     "collapsed": false,
     "input": [
      "time, data = np.loadtxt(\"/Users/abigaildobyns/Dropbox/Wilson_lab_papers/Abby/data/2014-29-04rat56-ECG.txt\", delimiter=\"\\t\", usecols=(0,1),  unpack=True)\n",
      "widths = np.loadtxt(\"/Users/abigaildobyns/Dropbox/Wilson_lab_papers/Abby/data/widths.txt\", delimiter= \"\\t\", unpack=True)\n",
      "time = time[1800:]\n",
      "data = data[1800:]"
     ],
     "language": "python",
     "metadata": {},
     "outputs": [],
     "prompt_number": 5
    },
    {
     "cell_type": "code",
     "collapsed": false,
     "input": [
      "def savitzky_golay(y, window_size, order, deriv=0, rate=1):\n",
      "    r\"\"\"Smooth (and optionally differentiate) data with a Savitzky-Golay filter.\n",
      "    The Savitzky-Golay filter removes high frequency noise from data.\n",
      "    It has the advantage of preserving the original shape and\n",
      "    features of the signal better than other types of filtering\n",
      "    approaches, such as moving averages techniques.\n",
      "    Parameters\n",
      "    ----------\n",
      "    y : array_like, shape (N,)\n",
      "        the values of the time history of the signal.\n",
      "    window_size : int\n",
      "        the length of the window. Must be an odd integer number.\n",
      "    order : int\n",
      "        the order of the polynomial used in the filtering.\n",
      "        Must be less then `window_size` - 1.\n",
      "    deriv: int\n",
      "        the order of the derivative to compute (default = 0 means only smoothing)\n",
      "    Returns\n",
      "    -------\n",
      "    ys : ndarray, shape (N)\n",
      "        the smoothed signal (or it's n-th derivative).\n",
      "    Notes\n",
      "    -----\n",
      "    The Savitzky-Golay is a type of low-pass filter, particularly\n",
      "    suited for smoothing noisy data. The main idea behind this\n",
      "    approach is to make for each point a least-square fit with a\n",
      "    polynomial of high order over a odd-sized window centered at\n",
      "    the point.\n",
      "    Examples\n",
      "    --------\n",
      "    t = np.linspace(-4, 4, 500)\n",
      "    y = np.exp( -t**2 ) + np.random.normal(0, 0.05, t.shape)\n",
      "    ysg = savitzky_golay(y, window_size=31, order=4)\n",
      "    import matplotlib.pyplot as plt\n",
      "    plt.plot(t, y, label='Noisy signal')\n",
      "    plt.plot(t, np.exp(-t**2), 'k', lw=1.5, label='Original signal')\n",
      "    plt.plot(t, ysg, 'r', label='Filtered signal')\n",
      "    plt.legend()\n",
      "    plt.show()\n",
      "    References\n",
      "    ----------\n",
      "    .. [1] A. Savitzky, M. J. E. Golay, Smoothing and Differentiation of\n",
      "       Data by Simplified Least Squares Procedures. Analytical\n",
      "       Chemistry, 1964, 36 (8), pp 1627-1639.\n",
      "    .. [2] Numerical Recipes 3rd Edition: The Art of Scientific Computing\n",
      "       W.H. Press, S.A. Teukolsky, W.T. Vetterling, B.P. Flannery\n",
      "       Cambridge University Press ISBN-13: 9780521880688\n",
      "    \"\"\"\n",
      "    import numpy as np\n",
      "    from math import factorial\n",
      "\n",
      "    try:\n",
      "        window_size = np.abs(np.int(window_size))\n",
      "        order = np.abs(np.int(order))\n",
      "    except ValueError, msg:\n",
      "        raise ValueError(\"window_size and order have to be of type int\")\n",
      "    if window_size % 2 != 1 or window_size < 1:\n",
      "        raise TypeError(\"window_size size must be a positive odd number\")\n",
      "    if window_size < order + 2:\n",
      "        raise TypeError(\"window_size is too small for the polynomials order\")\n",
      "    order_range = range(order+1)\n",
      "    half_window = (window_size -1) // 2\n",
      "    # precompute coefficients\n",
      "    b = np.mat([[k**i for i in order_range] for k in range(-half_window, half_window+1)])\n",
      "    m = np.linalg.pinv(b).A[deriv] * rate**deriv * factorial(deriv)\n",
      "    # pad the signal at the extremes with\n",
      "    # values taken from the signal itself\n",
      "    firstvals = y[0] - np.abs( y[1:half_window+1][::-1] - y[0] )\n",
      "    lastvals = y[-1] + np.abs(y[-half_window-1:-1][::-1] - y[-1])\n",
      "    y = np.concatenate((firstvals, y, lastvals))\n",
      "    return np.convolve( m[::-1], y, mode='valid')"
     ],
     "language": "python",
     "metadata": {},
     "outputs": [],
     "prompt_number": 6
    },
    {
     "cell_type": "code",
     "collapsed": false,
     "input": [
      "data_trans = abs(data)\n",
      "data_trans =savitzky_golay(data_trans, 47, 4)"
     ],
     "language": "python",
     "metadata": {},
     "outputs": [],
     "prompt_number": 7
    },
    {
     "cell_type": "code",
     "collapsed": false,
     "input": [
      "base, data_shift =baseline(data_trans,0.00025)"
     ],
     "language": "python",
     "metadata": {},
     "outputs": [],
     "prompt_number": 8
    },
    {
     "cell_type": "markdown",
     "metadata": {},
     "source": [
      "peakdet **CANNOT** take negative values, so base_shift cannot be used to calculate the peaks."
     ]
    },
    {
     "cell_type": "code",
     "collapsed": false,
     "input": [
      "maxtab, mintab = peakdet(data_trans, 0.03, None)"
     ],
     "language": "python",
     "metadata": {},
     "outputs": [],
     "prompt_number": 21
    },
    {
     "cell_type": "code",
     "collapsed": false,
     "input": [
      "maxtab = np.array(maxtab)\n",
      "maxptime = maxtab[:,0]\n",
      "maxptime = (np.multiply(maxptime,0.00025) + time[0])\n",
      "maxpeaks = maxtab[:,1]\n",
      "maxpeaks = (np.subtract(maxpeaks,base))"
     ],
     "language": "python",
     "metadata": {},
     "outputs": [],
     "prompt_number": 22
    },
    {
     "cell_type": "markdown",
     "metadata": {},
     "source": [
      "mintab = np.array(mintab)\n",
      "minptime = mintab[:,0]\n",
      "minptime = (np.multiply(minptime,0.00025) + time[0])\n",
      "minpeaks = mintab[:,1]"
     ]
    },
    {
     "cell_type": "code",
     "collapsed": false,
     "input": [
      "fig = plt.plot(time,data_shift, color=\"k\")\n",
      "#plt.plot(time,data_trans,color='b')\n",
      "plt.plot(maxptime,maxpeaks,marker = \"^\", color=\"g\", linestyle= \"None\")\n",
      "#plt.plot(minptime, minpeaks, marker =\"v\", color=\"m\",  linestyle= \"None\")\n",
      "plt.hlines(0,time[0],time[-1],colors='k')\n",
      "plt.hlines((base*0.3),time[0],time[-1], colors='r')\n",
      "DataCursor(fig)"
     ],
     "language": "python",
     "metadata": {},
     "outputs": [
      {
       "metadata": {},
       "output_type": "pyout",
       "prompt_number": 23,
       "text": [
        "<__main__.DataCursor at 0x10d339ed0>"
       ]
      }
     ],
     "prompt_number": 23
    },
    {
     "cell_type": "code",
     "collapsed": false,
     "input": [
      "plt.show(fig)"
     ],
     "language": "python",
     "metadata": {},
     "outputs": [],
     "prompt_number": 24
    },
    {
     "cell_type": "code",
     "collapsed": false,
     "input": [
      "print data_trans[0:5]\n",
      "print data_shift[0:5]"
     ],
     "language": "python",
     "metadata": {},
     "outputs": [
      {
       "output_type": "stream",
       "stream": "stdout",
       "text": [
        "[ 0.0162657   0.01637714  0.01620614  0.01556582  0.01461065]\n",
        "[-0.03393484502707593, -0.03393484502707593, -0.03393484502707593, -0.03393484502707593, -0.03393484502707593]\n"
       ]
      }
     ],
     "prompt_number": 150
    },
    {
     "cell_type": "code",
     "collapsed": false,
     "input": [
      "x = time[0]"
     ],
     "language": "python",
     "metadata": {},
     "outputs": [],
     "prompt_number": 19
    },
    {
     "cell_type": "code",
     "collapsed": false,
     "input": [
      "print x"
     ],
     "language": "python",
     "metadata": {},
     "outputs": [
      {
       "output_type": "stream",
       "stream": "stdout",
       "text": [
        "0.425\n"
       ]
      }
     ],
     "prompt_number": 20
    },
    {
     "cell_type": "code",
     "collapsed": false,
     "input": [],
     "language": "python",
     "metadata": {},
     "outputs": [],
     "prompt_number": 36
    },
    {
     "cell_type": "code",
     "collapsed": false,
     "input": [
      "plt.hlines(0,time[0],time[-1])"
     ],
     "language": "python",
     "metadata": {},
     "outputs": [
      {
       "metadata": {},
       "output_type": "pyout",
       "prompt_number": 39,
       "text": [
        "<matplotlib.collections.LineCollection at 0x1028ff2d0>"
       ]
      }
     ],
     "prompt_number": 39
    },
    {
     "cell_type": "code",
     "collapsed": false,
     "input": [],
     "language": "python",
     "metadata": {},
     "outputs": []
    }
   ],
   "metadata": {}
  }
 ]
}